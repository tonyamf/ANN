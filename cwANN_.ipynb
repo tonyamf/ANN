{
  "nbformat": 4,
  "nbformat_minor": 0,
  "metadata": {
    "accelerator": "GPU",
    "colab": {
      "name": "Untitled-1.ipynb",
      "provenance": [],
      "collapsed_sections": [
        "K9cpYMDz_uAa",
        "ayJlwVBwsjU8",
        "YPRmIUD5ANPM",
        "B24wskpbz6K2",
        "0Ou4aCBBf_RL",
        "NwFnw6i7f_RP",
        "6E-9J2Jdf_RS",
        "HrR-L5Ggf_RT",
        "TfgB9FiVf_RU",
        "ekKWE3Icf_RW",
        "0ox3wrVMf_RZ",
        "rvdfxAuXf_Ra",
        "IMcebQjPf_Rd",
        "vCIANI8eBP_Y",
        "jCrZT7hvY0Cb",
        "NzMPO6ZJ1tXs",
        "n8BNeWkAXVsY"
      ],
      "machine_shape": "hm",
      "include_colab_link": true
    },
    "kernelspec": {
      "display_name": "Python 3.6.8 64-bit",
      "name": "python3"
    },
    "language_info": {
      "codemirror_mode": {
        "name": "ipython",
        "version": 3
      },
      "file_extension": ".py",
      "mimetype": "text/x-python",
      "name": "python",
      "nbconvert_exporter": "python",
      "pygments_lexer": "ipython3",
      "version": "3.6.8-final"
    }
  },
  "cells": [
    {
      "cell_type": "markdown",
      "metadata": {
        "id": "view-in-github",
        "colab_type": "text"
      },
      "source": [
        "<a href=\"https://colab.research.google.com/github/tonyamf/ANN/blob/main/Untitled_1.ipynb\" target=\"_parent\"><img src=\"https://colab.research.google.com/assets/colab-badge.svg\" alt=\"Open In Colab\"/></a>"
      ]
    },
    {
      "cell_type": "markdown",
      "metadata": {
        "id": "K9cpYMDz_uAa"
      },
      "source": [
        "# Load  libraries"
      ]
    },
    {
      "cell_type": "code",
      "metadata": {
        "colab": {
          "base_uri": "https://localhost:8080/"
        },
        "id": "nskO0TuDwH-H",
        "outputId": "f1121dca-807c-4e7a-c3fb-d80bedb95967"
      },
      "source": [
        "!pip install face-recognition\n",
        "!pip install unicodecsv\n",
        "!pip install scikit-optimize\n",
        "!pip install livelossplot"
      ],
      "execution_count": 59,
      "outputs": [
        {
          "output_type": "stream",
          "text": [
            "Requirement already satisfied: face-recognition in /usr/local/lib/python3.7/dist-packages (1.3.0)\n",
            "Requirement already satisfied: dlib>=19.7 in /usr/local/lib/python3.7/dist-packages (from face-recognition) (19.18.0)\n",
            "Requirement already satisfied: face-recognition-models>=0.3.0 in /usr/local/lib/python3.7/dist-packages (from face-recognition) (0.3.0)\n",
            "Requirement already satisfied: Pillow in /usr/local/lib/python3.7/dist-packages (from face-recognition) (7.1.2)\n",
            "Requirement already satisfied: Click>=6.0 in /usr/local/lib/python3.7/dist-packages (from face-recognition) (7.1.2)\n",
            "Requirement already satisfied: numpy in /usr/local/lib/python3.7/dist-packages (from face-recognition) (1.19.5)\n",
            "Requirement already satisfied: unicodecsv in /usr/local/lib/python3.7/dist-packages (0.14.1)\n",
            "Requirement already satisfied: scikit-optimize in /usr/local/lib/python3.7/dist-packages (0.8.1)\n",
            "Requirement already satisfied: scipy>=0.19.1 in /usr/local/lib/python3.7/dist-packages (from scikit-optimize) (1.4.1)\n",
            "Requirement already satisfied: joblib>=0.11 in /usr/local/lib/python3.7/dist-packages (from scikit-optimize) (1.0.1)\n",
            "Requirement already satisfied: pyaml>=16.9 in /usr/local/lib/python3.7/dist-packages (from scikit-optimize) (20.4.0)\n",
            "Requirement already satisfied: numpy>=1.13.3 in /usr/local/lib/python3.7/dist-packages (from scikit-optimize) (1.19.5)\n",
            "Requirement already satisfied: scikit-learn>=0.20.0 in /usr/local/lib/python3.7/dist-packages (from scikit-optimize) (0.22.2.post1)\n",
            "Requirement already satisfied: PyYAML in /usr/local/lib/python3.7/dist-packages (from pyaml>=16.9->scikit-optimize) (3.13)\n",
            "Requirement already satisfied: livelossplot in /usr/local/lib/python3.7/dist-packages (0.5.4)\n",
            "Requirement already satisfied: bokeh in /usr/local/lib/python3.7/dist-packages (from livelossplot) (2.3.0)\n",
            "Requirement already satisfied: matplotlib in /usr/local/lib/python3.7/dist-packages (from livelossplot) (3.2.2)\n",
            "Requirement already satisfied: ipython in /usr/local/lib/python3.7/dist-packages (from livelossplot) (5.5.0)\n",
            "Requirement already satisfied: tornado>=5.1 in /usr/local/lib/python3.7/dist-packages (from bokeh->livelossplot) (5.1.1)\n",
            "Requirement already satisfied: pillow>=7.1.0 in /usr/local/lib/python3.7/dist-packages (from bokeh->livelossplot) (7.1.2)\n",
            "Requirement already satisfied: numpy>=1.11.3 in /usr/local/lib/python3.7/dist-packages (from bokeh->livelossplot) (1.19.5)\n",
            "Requirement already satisfied: packaging>=16.8 in /usr/local/lib/python3.7/dist-packages (from bokeh->livelossplot) (20.9)\n",
            "Requirement already satisfied: typing-extensions>=3.7.4 in /usr/local/lib/python3.7/dist-packages (from bokeh->livelossplot) (3.7.4.3)\n",
            "Requirement already satisfied: python-dateutil>=2.1 in /usr/local/lib/python3.7/dist-packages (from bokeh->livelossplot) (2.8.1)\n",
            "Requirement already satisfied: PyYAML>=3.10 in /usr/local/lib/python3.7/dist-packages (from bokeh->livelossplot) (3.13)\n",
            "Requirement already satisfied: Jinja2>=2.7 in /usr/local/lib/python3.7/dist-packages (from bokeh->livelossplot) (2.11.3)\n",
            "Requirement already satisfied: cycler>=0.10 in /usr/local/lib/python3.7/dist-packages (from matplotlib->livelossplot) (0.10.0)\n",
            "Requirement already satisfied: pyparsing!=2.0.4,!=2.1.2,!=2.1.6,>=2.0.1 in /usr/local/lib/python3.7/dist-packages (from matplotlib->livelossplot) (2.4.7)\n",
            "Requirement already satisfied: kiwisolver>=1.0.1 in /usr/local/lib/python3.7/dist-packages (from matplotlib->livelossplot) (1.3.1)\n",
            "Requirement already satisfied: prompt-toolkit<2.0.0,>=1.0.4 in /usr/local/lib/python3.7/dist-packages (from ipython->livelossplot) (1.0.18)\n",
            "Requirement already satisfied: decorator in /usr/local/lib/python3.7/dist-packages (from ipython->livelossplot) (4.4.2)\n",
            "Requirement already satisfied: traitlets>=4.2 in /usr/local/lib/python3.7/dist-packages (from ipython->livelossplot) (5.0.5)\n",
            "Requirement already satisfied: pickleshare in /usr/local/lib/python3.7/dist-packages (from ipython->livelossplot) (0.7.5)\n",
            "Requirement already satisfied: pygments in /usr/local/lib/python3.7/dist-packages (from ipython->livelossplot) (2.6.1)\n",
            "Requirement already satisfied: simplegeneric>0.8 in /usr/local/lib/python3.7/dist-packages (from ipython->livelossplot) (0.8.1)\n",
            "Requirement already satisfied: pexpect; sys_platform != \"win32\" in /usr/local/lib/python3.7/dist-packages (from ipython->livelossplot) (4.8.0)\n",
            "Requirement already satisfied: setuptools>=18.5 in /usr/local/lib/python3.7/dist-packages (from ipython->livelossplot) (54.2.0)\n",
            "Requirement already satisfied: six>=1.5 in /usr/local/lib/python3.7/dist-packages (from python-dateutil>=2.1->bokeh->livelossplot) (1.15.0)\n",
            "Requirement already satisfied: MarkupSafe>=0.23 in /usr/local/lib/python3.7/dist-packages (from Jinja2>=2.7->bokeh->livelossplot) (1.1.1)\n",
            "Requirement already satisfied: wcwidth in /usr/local/lib/python3.7/dist-packages (from prompt-toolkit<2.0.0,>=1.0.4->ipython->livelossplot) (0.2.5)\n",
            "Requirement already satisfied: ipython-genutils in /usr/local/lib/python3.7/dist-packages (from traitlets>=4.2->ipython->livelossplot) (0.2.0)\n",
            "Requirement already satisfied: ptyprocess>=0.5 in /usr/local/lib/python3.7/dist-packages (from pexpect; sys_platform != \"win32\"->ipython->livelossplot) (0.7.0)\n",
            "Collecting tk\n",
            "  Downloading https://files.pythonhosted.org/packages/1e/0b/029cbdb868bb555fed99bf6540fff072d500b3f895873709f25084e85e33/tk-0.1.0-py3-none-any.whl\n",
            "Installing collected packages: tk\n",
            "Successfully installed tk-0.1.0\n"
          ],
          "name": "stdout"
        }
      ]
    },
    {
      "cell_type": "code",
      "metadata": {
        "id": "M4xQSoCof_Qx"
      },
      "source": [
        "from skopt import BayesSearchCV\n",
        "from imutils import face_utils\n",
        "import PIL.Image as Image\n",
        "import argparse\n",
        "import imutils\n",
        "import dlib\n",
        "import cv2\n",
        "import pandas as pd\n",
        "import PIL.Image as Image\n",
        "import matplotlib.pyplot as plt\n",
        "import scipy.misc\n",
        "import face_recognition\n",
        "import PIL\n",
        "import math\n",
        "import re\n",
        "import keras\n",
        "from scipy.stats import *\n",
        "from sklearn.preprocessing import StandardScaler\n",
        "from keras.preprocessing.image import ImageDataGenerator\n",
        "import tensorflow as tf\n",
        "import numpy as np\n",
        "import seaborn as sns\n",
        "from tensorflow.keras.preprocessing.image import ImageDataGenerator\n",
        "from tensorflow.keras.layers import Dense, Input, Dropout,Flatten, Conv2D\n",
        "from tensorflow.keras.layers import BatchNormalization, Activation, MaxPooling2D\n",
        "from tensorflow.keras.models import Model, Sequential\n",
        "from tensorflow.keras.optimizers import Adam\n",
        "from tensorflow.keras.callbacks import ModelCheckpoint, ReduceLROnPlateau\n",
        "from tensorflow.keras.utils import plot_model\n",
        "from IPython.display import SVG, Image\n",
        "from keras.layers import LeakyReLU\n",
        "from keras.callbacks import EarlyStopping\n",
        "from tensorflow.keras import layers\n",
        "from keras.wrappers.scikit_learn import KerasClassifier\n",
        "from sklearn.model_selection import cross_val_score\n",
        "from livelossplot import PlotLossesKeras\n",
        "from imutils import face_utils\n",
        "import argparse\n",
        "import imutils\n",
        "import dlib\n",
        "import cv2\n",
        "import pandas as pd\n",
        "import numpy as np\n",
        "import PIL.Image as Image\n",
        "import matplotlib.pyplot as plt\n",
        "import scipy.misc\n",
        "import face_recognition\n",
        "import PIL\n",
        "from PIL import Image, ImageStat\n",
        "import math\n",
        "from scipy.stats import *\n",
        "import re\n",
        "from scipy import ndimage "
      ],
      "execution_count": 68,
      "outputs": []
    },
    {
      "cell_type": "markdown",
      "metadata": {
        "id": "ayJlwVBwsjU8"
      },
      "source": [
        "# Mount Drive"
      ]
    },
    {
      "cell_type": "code",
      "metadata": {
        "colab": {
          "base_uri": "https://localhost:8080/"
        },
        "id": "bmUs5LhPgFZA",
        "outputId": "1f447ec0-b8d0-49f6-997b-61f258d97382"
      },
      "source": [
        "from google.colab import drive\n",
        "drive.mount('/content/drive')"
      ],
      "execution_count": 6,
      "outputs": [
        {
          "output_type": "stream",
          "text": [
            "Mounted at /content/drive\n"
          ],
          "name": "stdout"
        }
      ]
    },
    {
      "cell_type": "markdown",
      "metadata": {
        "id": "YPRmIUD5ANPM"
      },
      "source": [
        "# Load data"
      ]
    },
    {
      "cell_type": "code",
      "metadata": {
        "id": "NBvwBKZPf_RA"
      },
      "source": [
        "# load facial key points data\n",
        "df = pd.read_csv(\"/content/drive/MyDrive/Colab Notebooks/icml_face_data.csv\")\n",
        "\n",
        "#data_ = pd.read_csv(\"C:/Users/Antonio franco/Documents/Computer vision/dataset/DataExt.csv\")"
      ],
      "execution_count": 70,
      "outputs": []
    },
    {
      "cell_type": "code",
      "metadata": {
        "colab": {
          "base_uri": "https://localhost:8080/"
        },
        "id": "i-IoCO3hf_RC",
        "outputId": "73d6fcd3-11b1-4ea7-b825-9a3a7b731b98"
      },
      "source": [
        "df = pd.DataFrame(df)\n",
        "df.columns = ['emotion', 'usage', 'pixels']\n",
        "df.columns"
      ],
      "execution_count": 71,
      "outputs": [
        {
          "output_type": "execute_result",
          "data": {
            "text/plain": [
              "Index(['emotion', 'usage', 'pixels'], dtype='object')"
            ]
          },
          "metadata": {
            "tags": []
          },
          "execution_count": 71
        }
      ]
    },
    {
      "cell_type": "code",
      "metadata": {
        "id": "add6D4Sf7vgl"
      },
      "source": [
        "df['pixel'] = df_ =pd.DataFrame(df['pixels'].copy())"
      ],
      "execution_count": 72,
      "outputs": []
    },
    {
      "cell_type": "code",
      "metadata": {
        "id": "ki25fS-Jf_RE"
      },
      "source": [
        "df['pixels'] = df['pixels'].apply(lambda x: np.fromstring(x, dtype = int, sep = ' ').reshape(48, 48))"
      ],
      "execution_count": 73,
      "outputs": []
    },
    {
      "cell_type": "code",
      "metadata": {
        "id": "6I7yZVTff_RF",
        "colab": {
          "base_uri": "https://localhost:8080/"
        },
        "outputId": "e0bc0600-f020-4d9f-89e0-7dddc9f38914"
      },
      "source": [
        "df['pixels'][0].shape"
      ],
      "execution_count": 64,
      "outputs": [
        {
          "output_type": "execute_result",
          "data": {
            "text/plain": [
              "(48, 48)"
            ]
          },
          "metadata": {
            "tags": []
          },
          "execution_count": 64
        }
      ]
    },
    {
      "cell_type": "code",
      "metadata": {
        "id": "86xdhlEaf_RG",
        "colab": {
          "base_uri": "https://localhost:8080/",
          "height": 204
        },
        "outputId": "1d84a07e-d0f4-48b3-b63d-ce7163719f6c"
      },
      "source": [
        "df.head()"
      ],
      "execution_count": 65,
      "outputs": [
        {
          "output_type": "execute_result",
          "data": {
            "text/html": [
              "<div>\n",
              "<style scoped>\n",
              "    .dataframe tbody tr th:only-of-type {\n",
              "        vertical-align: middle;\n",
              "    }\n",
              "\n",
              "    .dataframe tbody tr th {\n",
              "        vertical-align: top;\n",
              "    }\n",
              "\n",
              "    .dataframe thead th {\n",
              "        text-align: right;\n",
              "    }\n",
              "</style>\n",
              "<table border=\"1\" class=\"dataframe\">\n",
              "  <thead>\n",
              "    <tr style=\"text-align: right;\">\n",
              "      <th></th>\n",
              "      <th>emotion</th>\n",
              "      <th>usage</th>\n",
              "      <th>pixels</th>\n",
              "    </tr>\n",
              "  </thead>\n",
              "  <tbody>\n",
              "    <tr>\n",
              "      <th>0</th>\n",
              "      <td>0</td>\n",
              "      <td>Training</td>\n",
              "      <td>[[70, 80, 82, 72, 58, 58, 60, 63, 54, 58, 60, ...</td>\n",
              "    </tr>\n",
              "    <tr>\n",
              "      <th>1</th>\n",
              "      <td>0</td>\n",
              "      <td>Training</td>\n",
              "      <td>[[151, 150, 147, 155, 148, 133, 111, 140, 170,...</td>\n",
              "    </tr>\n",
              "    <tr>\n",
              "      <th>2</th>\n",
              "      <td>2</td>\n",
              "      <td>Training</td>\n",
              "      <td>[[231, 212, 156, 164, 174, 138, 161, 173, 182,...</td>\n",
              "    </tr>\n",
              "    <tr>\n",
              "      <th>3</th>\n",
              "      <td>4</td>\n",
              "      <td>Training</td>\n",
              "      <td>[[24, 32, 36, 30, 32, 23, 19, 20, 30, 41, 21, ...</td>\n",
              "    </tr>\n",
              "    <tr>\n",
              "      <th>4</th>\n",
              "      <td>6</td>\n",
              "      <td>Training</td>\n",
              "      <td>[[4, 0, 0, 0, 0, 0, 0, 0, 0, 0, 0, 0, 3, 15, 2...</td>\n",
              "    </tr>\n",
              "  </tbody>\n",
              "</table>\n",
              "</div>"
            ],
            "text/plain": [
              "   emotion     usage                                             pixels\n",
              "0        0  Training  [[70, 80, 82, 72, 58, 58, 60, 63, 54, 58, 60, ...\n",
              "1        0  Training  [[151, 150, 147, 155, 148, 133, 111, 140, 170,...\n",
              "2        2  Training  [[231, 212, 156, 164, 174, 138, 161, 173, 182,...\n",
              "3        4  Training  [[24, 32, 36, 30, 32, 23, 19, 20, 30, 41, 21, ...\n",
              "4        6  Training  [[4, 0, 0, 0, 0, 0, 0, 0, 0, 0, 0, 0, 3, 15, 2..."
            ]
          },
          "metadata": {
            "tags": []
          },
          "execution_count": 65
        }
      ]
    },
    {
      "cell_type": "markdown",
      "metadata": {
        "id": "B24wskpbz6K2"
      },
      "source": [
        "# Key points detection"
      ]
    },
    {
      "cell_type": "code",
      "metadata": {
        "id": "x-Zvwhwjf_RK",
        "colab": {
          "base_uri": "https://localhost:8080/"
        },
        "outputId": "97b8f617-f834-40a0-8387-e534d189d727"
      },
      "source": [
        "#chin left_eyebrow right_eyebrow nose_bridge nose_tip left_eye right_eye top_lip bottom_lip\n",
        "df[\"landmarks\"] = \"\"\n",
        "for j in range(0,len(df)):\n",
        "    arr = np.array(df['pixels'][j])\n",
        "    im = Image.fromarray(arr.astype(np.uint8), mode='L')\n",
        "    im.save('/content/drive/MyDrive/Colab Notebooks/my.png')\n",
        "    img = cv2.imread('/content/drive/MyDrive/Colab Notebooks/my.png', cv2.IMREAD_GRAYSCALE)\n",
        "    df[\"landmarks\"][j] = face_recognition.face_landmarks(img)\n",
        "    "
      ],
      "execution_count": 74,
      "outputs": [
        {
          "output_type": "stream",
          "text": [
            "/usr/local/lib/python3.7/dist-packages/ipykernel_launcher.py:8: SettingWithCopyWarning: \n",
            "A value is trying to be set on a copy of a slice from a DataFrame\n",
            "\n",
            "See the caveats in the documentation: https://pandas.pydata.org/pandas-docs/stable/user_guide/indexing.html#returning-a-view-versus-a-copy\n",
            "  \n"
          ],
          "name": "stderr"
        }
      ]
    },
    {
      "cell_type": "markdown",
      "metadata": {
        "id": "0Ou4aCBBf_RL"
      },
      "source": [
        "# Distance signiture Features"
      ]
    },
    {
      "cell_type": "markdown",
      "metadata": {
        "id": "Mh0CP4wUf_RM"
      },
      "source": [
        "## Computing Distance"
      ]
    },
    {
      "cell_type": "code",
      "metadata": {
        "id": "HaCYYMSQf_RN",
        "colab": {
          "base_uri": "https://localhost:8080/"
        },
        "outputId": "0b3309e7-53ab-431d-df27-5f95dac07554"
      },
      "source": [
        "df[\"distance\"] = \"\"\n",
        "for j in range(0, len(df)):\n",
        "    if len(df[\"landmarks\"][j]) == 0:\n",
        "        continue\n",
        "    else:\n",
        "        xs = []\n",
        "        ys = []\n",
        "        df[\"distance\"][j] = []\n",
        "        for landmark in df[\"landmarks\"][j]:\n",
        "            for k, v in landmark.items():\n",
        "                if k == 'chin':\n",
        "                    continue\n",
        "                elif k == 'top_lip':\n",
        "                    xs += v[0][0],  v[3][0], v[6][0]\n",
        "                    ys += v[0][1],  v[3][1], v[6][1]\n",
        "                elif k == 'bottom_lip':\n",
        "                    xs.append(v[3][0])\n",
        "                    ys.append(v[3][1])\n",
        "                elif k == 'nose_tip':\n",
        "                    xs += v[0][0],  v[4][0]\n",
        "                    ys += v[0][1],  v[4][1]\n",
        "                elif k == 'nose_bridge':\n",
        "                    xs.append(v[3][0])\n",
        "                    ys.append(v[3][1])\n",
        "                elif k == 'right_eyebrow':\n",
        "                    xs += v[0][0], v[2][0], v[4][0]\n",
        "                    ys += v[0][1], v[2][1], v[4][1]\n",
        "                elif k == 'left_eyebrow':\n",
        "                    xs += v[0][0], v[2][0], v[4][0]\n",
        "                    ys += v[0][1], v[2][1], v[4][1]\n",
        "                else:\n",
        "                    xs += [x[0] for x in v]\n",
        "                    ys += [x[1] for x in v]\n",
        "                \n",
        "        for i in range(0, len(ys)-1):\n",
        "            for s in range(i+1, len(ys)):\n",
        "                if ys[i] < 0 or ys[i] > 47 or xs[i] < 0 or xs[i] > 47 or ys[s] < 0 or ys[s] > 47 or xs[s] < 0 or xs[s] > 47:\n",
        "                  continue\n",
        "                df[\"distance\"][j].append(math.sqrt( pow(xs[i] - xs[s], 2) + pow(ys[i]- ys[s], 2)))"
      ],
      "execution_count": 75,
      "outputs": [
        {
          "output_type": "stream",
          "text": [
            "/usr/local/lib/python3.7/dist-packages/ipykernel_launcher.py:8: SettingWithCopyWarning: \n",
            "A value is trying to be set on a copy of a slice from a DataFrame\n",
            "\n",
            "See the caveats in the documentation: https://pandas.pydata.org/pandas-docs/stable/user_guide/indexing.html#returning-a-view-versus-a-copy\n",
            "  \n"
          ],
          "name": "stderr"
        }
      ]
    },
    {
      "cell_type": "markdown",
      "metadata": {
        "id": "NwFnw6i7f_RP"
      },
      "source": [
        "## Normalized Distance"
      ]
    },
    {
      "cell_type": "code",
      "metadata": {
        "id": "ZSCTUUXr554U"
      },
      "source": [
        "dfO =pd.DataFrame(df[df['distance'] != \"\"].copy())\n",
        "dfO.reset_index(inplace = True, drop = True) "
      ],
      "execution_count": 76,
      "outputs": []
    },
    {
      "cell_type": "code",
      "metadata": {
        "id": "XgbjGzo4f_RQ"
      },
      "source": [
        "df_ =pd.DataFrame(df[df['distance'] != \"\"].copy())\n",
        "df_.reset_index(inplace = True, drop = True) \n",
        "sums = []\n",
        "\n",
        "for d in range(0, len(df_[\"distance\"][0])):\n",
        "    sum = 0\n",
        "    for i in range(0, len(df_)):\n",
        "      if len(df_[\"distance\"][i]) <= d:\n",
        "        continue\n",
        "      sum += df_[\"distance\"][i][d]\n",
        "    sums.append(sum)\n"
      ],
      "execution_count": null,
      "outputs": []
    },
    {
      "cell_type": "code",
      "metadata": {
        "id": "pc5QKd27f_RQ"
      },
      "source": [
        "df_[\"NormalizedDistance\"] = \"\"\n",
        "\n",
        "for j in range(0, len(df_)):\n",
        "    df_[\"NormalizedDistance\"][j] = []\n",
        "\n",
        "    for d in range(0, len(df_[\"distance\"][j])):\n",
        "        if sums[d] == 0:\n",
        "            df_[\"NormalizedDistance\"][j].append(0.0)\n",
        "        else:\n",
        "            df_[\"NormalizedDistance\"][j].append(df_[\"distance\"][j][d]/sums[d])"
      ],
      "execution_count": null,
      "outputs": []
    },
    {
      "cell_type": "markdown",
      "metadata": {
        "id": "6E-9J2Jdf_RS"
      },
      "source": [
        "## Stability Indes of distance signiture"
      ]
    },
    {
      "cell_type": "code",
      "metadata": {
        "id": "wYqL5TtXf_RS"
      },
      "source": [
        "df_[\"StabilityIndex_D\"] = \"\"\n",
        "for j in range(0, len(df_)):\n",
        "    dif = 0\n",
        "    for d in range(10, len(df_[\"NormalizedDistance\"][j])):\n",
        "        dif += abs( df_[\"NormalizedDistance\"][j][d-10] + df_[\"NormalizedDistance\"][j][d] + 10 * (- df_[\"NormalizedDistance\"][j][d-1] \n",
        "        - df_[\"NormalizedDistance\"][j][d-2] - df_[\"NormalizedDistance\"][j][d-3] - df_[\"NormalizedDistance\"][j][d-4] - df_[\"NormalizedDistance\"][j][d-5] \n",
        "        - df_[\"NormalizedDistance\"][j][d-6] - df_[\"NormalizedDistance\"][j][d-7] - df_[\"NormalizedDistance\"][j][d-8] - df_[\"NormalizedDistance\"][j][d-9]) ) \n",
        "    df_[\"StabilityIndex_D\"][j] = abs(dif)\n",
        "\n",
        "    "
      ],
      "execution_count": null,
      "outputs": []
    },
    {
      "cell_type": "code",
      "metadata": {
        "id": "uHv3fv_ngwPy"
      },
      "source": [
        "df_.head()"
      ],
      "execution_count": null,
      "outputs": []
    },
    {
      "cell_type": "markdown",
      "metadata": {
        "id": "HrR-L5Ggf_RT"
      },
      "source": [
        "## Distance statictic"
      ]
    },
    {
      "cell_type": "code",
      "metadata": {
        "id": "Rpw1r7ZHf_RU"
      },
      "source": [
        "df_[\"Skewness_D\"] = \"\"\n",
        "df_[\"Kurtosis_D\"] = \"\"\n",
        "df_['Moment_D_1'] = \"\"\n",
        "df_['Moment_D_2'] = \"\"\n",
        "df_['Moment_D_3'] = \"\"\n",
        "df_['Moment_D_4'] = \"\"\n",
        "df_[\"Entropy_D\"] = \"\"\n",
        "df_[\"Range_D\"] = \"\"\n",
        "\n",
        "for j in range(0, len(df_)):\n",
        "    stats = scipy.stats.describe(df_[\"NormalizedDistance\"][j])\n",
        "    df_[\"Skewness_D\"][j] = stats.skewness\n",
        "    df_[\"Kurtosis_D\"][j] = stats.kurtosis\n",
        "    df_[\"Range_D\"][j] = np.array(df_[\"NormalizedDistance\"][j]).max() - np.array(df_[\"NormalizedDistance\"][j]).min()\n",
        "    df_['Moment_D_1'][j] = scipy.stats.moment(df_[\"NormalizedDistance\"][j], moment=1)\n",
        "    df_['Moment_D_2'][j]= scipy.stats.moment(df_[\"NormalizedDistance\"][j], moment=2)\n",
        "    df_['Moment_D_3'][j] = scipy.stats.moment(df_[\"NormalizedDistance\"][j], moment=3)\n",
        "    df_['Moment_D_4'][j] = scipy.stats.moment(df_[\"NormalizedDistance\"][j], moment=4)\n",
        "    df_[\"Entropy_D\"][j] = scipy.stats.entropy(df_[\"NormalizedDistance\"][j])"
      ],
      "execution_count": null,
      "outputs": []
    },
    {
      "cell_type": "markdown",
      "metadata": {
        "id": "TfgB9FiVf_RU"
      },
      "source": [
        "# Shape signiture Features"
      ]
    },
    {
      "cell_type": "markdown",
      "metadata": {
        "id": "ekKWE3Icf_RW"
      },
      "source": [
        "## Compute shape signiture"
      ]
    },
    {
      "cell_type": "code",
      "metadata": {
        "id": "gBCoGnyyf_RW"
      },
      "source": [
        "df_[\"shape\"] = \"\"\n",
        "for j in range(0, len(df_)):\n",
        "    xs = []\n",
        "    ys = []\n",
        "    df_[\"shape\"][j] = []\n",
        "    for landmark in df_[\"landmarks\"][j]:\n",
        "        for k, v in landmark.items():\n",
        "            if k == 'chin':\n",
        "                continue\n",
        "            elif k == 'top_lip':\n",
        "                xs += v[0][0],  v[3][0], v[6][0]\n",
        "                ys += v[0][1],  v[3][1], v[6][1]\n",
        "            elif k == 'bottom_lip':\n",
        "                xs.append(v[3][0])\n",
        "                ys.append(v[3][1])\n",
        "            elif k == 'nose_tip':\n",
        "                xs += v[0][0],  v[4][0]\n",
        "                ys += v[0][1],  v[4][1]\n",
        "            elif k == 'nose_bridge':\n",
        "                xs.append(v[3][0])\n",
        "                ys.append(v[3][1])\n",
        "            elif k == 'right_eyebrow':\n",
        "                xs += v[0][0], v[2][0], v[4][0]\n",
        "                ys += v[0][1], v[2][1], v[4][1]\n",
        "            elif k == 'left_eyebrow':\n",
        "                xs += v[0][0], v[2][0], v[4][0]\n",
        "                ys += v[0][1], v[2][1], v[4][1]\n",
        "            else:\n",
        "                xs += [x[0] for x in v]\n",
        "                ys += [x[1] for x in v]\n",
        "    for i in range(0, len(ys)-2):\n",
        "        for s in range(i+1, len(ys)-1):\n",
        "            for z in range(s+1, len(ys)):\n",
        "                if ys[i] < 0 or ys[i] > 47 or xs[i] < 0 or xs[i] > 47 or ys[s] < 0 or ys[s] > 47 or xs[s] < 0 or xs[s] > 47 or ys[z] < 0 or ys[z] > 47 or xs[z] < 0 or xs[z] > 47:\n",
        "                  continue\n",
        "                a = (xs[i] * (ys[s] - ys[z]) +\n",
        "                     xs[s] * (ys[z] - ys[i]) + \n",
        "                     xs[z] * (ys[i] - ys[s])) \n",
        "                if a != 0: \n",
        "                    ab = math.sqrt( pow(xs[i] - xs[s], 2) + pow(ys[i]- ys[s], 2))\n",
        "                    bc = math.sqrt( pow(xs[s] - xs[z], 2) + pow(ys[s]- ys[z], 2))\n",
        "                    ca = math.sqrt( pow(xs[z] - xs[i], 2) + pow(ys[z]- ys[i], 2))\n",
        "                    h = (ab + bc + ca)/2\n",
        "                    result = math.sqrt( h * (h-ab) * (h-bc) *(h-ca)) / pow(h*2, 2)\n",
        "                    df_[\"shape\"][j].append(result)"
      ],
      "execution_count": null,
      "outputs": []
    },
    {
      "cell_type": "markdown",
      "metadata": {
        "id": "0ox3wrVMf_RZ"
      },
      "source": [
        "## Normalized shape"
      ]
    },
    {
      "cell_type": "code",
      "metadata": {
        "id": "lTjIzSMDf_RZ"
      },
      "source": [
        "sums = []\n",
        "\n",
        "for d in range(0, 2301):\n",
        "    sum = 0\n",
        "    for i in range(0, len(df_)):\n",
        "        if len(df_[\"shape\"][i]) <= d:\n",
        "            continue\n",
        "        sum += df_[\"shape\"][i][d]\n",
        "    sums.append(sum)\n",
        "\n",
        "\n",
        "df_[\"NormalizedShape\"] = \"\"\n",
        "\n",
        "for j in range(0, len(df_)):\n",
        "\n",
        "    df_[\"NormalizedShape\"][j] = []\n",
        "    for d in range(0, len(df_[\"shape\"][j])):\n",
        "        if len(sums) <= d:\n",
        "          continue\n",
        "        elif sums[d] == 0:\n",
        "            df_[\"NormalizedShape\"][j].append(0.0)\n",
        "        else:\n",
        "            df_[\"NormalizedShape\"][j].append(df_[\"shape\"][j][d]/sums[d])"
      ],
      "execution_count": null,
      "outputs": []
    },
    {
      "cell_type": "markdown",
      "metadata": {
        "id": "rvdfxAuXf_Ra"
      },
      "source": [
        "## Stability index shape signiture"
      ]
    },
    {
      "cell_type": "code",
      "metadata": {
        "id": "d_XCS3-Qf_Rb"
      },
      "source": [
        "df_[\"StabilityIndex_S\"] = \"\"\n",
        "for j in range(0, len(df_)):\n",
        "    dif = 0\n",
        "    for d in range(8, len(df_[\"NormalizedShape\"][j])):\n",
        "        dif += abs( df_[\"NormalizedShape\"][j][d-8] + df_[\"NormalizedShape\"][j][d] + 8 * (- df_[\"NormalizedShape\"][j][d-1] \n",
        "        - df_[\"NormalizedShape\"][j][d-2] - df_[\"NormalizedShape\"][j][d-3] - df_[\"NormalizedShape\"][j][d-4] \n",
        "        - df_[\"NormalizedShape\"][j][d-5] - df_[\"NormalizedShape\"][j][d-6] - df_[\"NormalizedShape\"][j][d-7]) ) \n",
        "    df_[\"StabilityIndex_S\"][j] = dif"
      ],
      "execution_count": null,
      "outputs": []
    },
    {
      "cell_type": "markdown",
      "metadata": {
        "id": "iv62SL0yf_Rb"
      },
      "source": [
        "## Shape statistic"
      ]
    },
    {
      "cell_type": "code",
      "metadata": {
        "id": "47kEjzzEf_Rc"
      },
      "source": [
        "df_[\"Skewness_S\"] = \"\"\n",
        "df_[\"Kurtosis_S\"] = \"\"\n",
        "df_['Moment_S_1'] = \"\"\n",
        "df_['Moment_S_2'] = \"\"\n",
        "df_['Moment_S_3'] = \"\"\n",
        "df_['Moment_S_4'] = \"\"\n",
        "df_[\"Entropy_S\"] = \"\"\n",
        "df_[\"Range_S\"] = \"\"\n",
        "\n",
        "for j in range(0, len(df_)):\n",
        "    if not df_[\"NormalizedShape\"][j]:\n",
        "      df_[\"NormalizedShape\"][j] = 0\n",
        "    stats = scipy.stats.describe(df_[\"NormalizedShape\"][j])\n",
        "    df_[\"Skewness_S\"][j] = stats.skewness\n",
        "    df_[\"Kurtosis_S\"][j] = stats.kurtosis\n",
        "    df_[\"Range_S\"][j] = np.array(df_[\"NormalizedShape\"][j]).max() - np.array(df_[\"NormalizedShape\"][j]).min()\n",
        "    df_[\"Moment_S_1\"][j]= scipy.stats.moment(df_[\"NormalizedShape\"][j], moment=1)\n",
        "    df_[\"Moment_S_2\"][j]= scipy.stats.moment(df_[\"NormalizedShape\"][j], moment=2)\n",
        "    df_[\"Moment_S_3\"][j]=scipy.stats.moment(df_[\"NormalizedShape\"][j], moment=3)\n",
        "    df_[\"Moment_S_4\"][j]=scipy.stats.moment(df_[\"NormalizedShape\"][j], moment=4)\n",
        "    df_[\"Entropy_S\"][j] = scipy.stats.entropy(df_[\"NormalizedShape\"][j])"
      ],
      "execution_count": null,
      "outputs": []
    },
    {
      "cell_type": "markdown",
      "metadata": {
        "id": "IMcebQjPf_Rd"
      },
      "source": [
        "# Texture"
      ]
    },
    {
      "cell_type": "markdown",
      "metadata": {
        "id": "yn5tvsFWLnD_"
      },
      "source": [
        "## Textute signiture"
      ]
    },
    {
      "cell_type": "code",
      "metadata": {
        "id": "5GhIwgc2f_Re"
      },
      "source": [
        "df_[\"texture\"] = \"\"\n",
        "for j in range(0, len(df_)):\n",
        "    xs = []\n",
        "    ys = []\n",
        "    df_[\"texture\"][j] = []\n",
        "    for landmark in df_[\"landmarks\"][j]:\n",
        "        for k, v in landmark.items():\n",
        "            if k == 'chin':\n",
        "                continue\n",
        "            elif k == 'top_lip':\n",
        "                xs += v[0][0],  v[3][0], v[6][0]\n",
        "                ys += v[0][1],  v[3][1], v[6][1]\n",
        "            elif k == 'bottom_lip':\n",
        "                xs.append(v[3][0])\n",
        "                ys.append(v[3][1])\n",
        "            elif k == 'nose_tip':\n",
        "                xs += v[0][0],  v[4][0]\n",
        "                ys += v[0][1],  v[4][1]\n",
        "            elif k == 'nose_bridge':\n",
        "                xs.append(v[3][0])\n",
        "                ys.append(v[3][1])\n",
        "            elif k == 'right_eyebrow':\n",
        "                xs += v[0][0], v[2][0], v[4][0]\n",
        "                ys += v[0][1], v[2][1], v[4][1]\n",
        "            elif k == 'left_eyebrow':\n",
        "                xs += v[0][0], v[2][0], v[4][0]\n",
        "                ys += v[0][1], v[2][1], v[4][1]\n",
        "            else:\n",
        "                xs += [x[0] for x in v]\n",
        "                ys += [x[1] for x in v]\n",
        "    for i in range(0, len(ys)):\n",
        "        c = 0\n",
        "        n = 0\n",
        "        temp = 0\n",
        "        p = 0\n",
        "        op = []\n",
        "        if ys[i] < 0 or ys[i] > 47 or xs[i] < 0 or xs[i] > 47:\n",
        "          continue\n",
        "        else:\n",
        "          for ii in range(-3, 4):\n",
        "              for jj in range(-3, 4):\n",
        "                  if ys[i] + ii < 48 and ys[i] + ii >= 0 and xs[i] + jj < 48 and xs[i] + jj >= 0:\n",
        "                      p = p + df_['pixels'][j][ys[i] + ii][xs[i] + jj]\n",
        "                      c = c+1\n",
        "\n",
        "          p = (p + df_['pixels'][j][ys[i]][xs[i]]) / (c+1)\n",
        "          if ys[i] + 4 < 48 and ys[i] + 4 >= 0 and xs[i] - 4 < 48 and xs[i] - 4 >= 0:\n",
        "              op.append(df_['pixels'][j][ys[i] + 4][xs[i] - 4])\n",
        "          else:\n",
        "              op.append(0)\n",
        "\n",
        "          for mm in range(-3, 4):\n",
        "              if ys[i] + 4 < 48 and ys[i] + 4 >= 0 and xs[i] + mm < 48 and xs[i] + mm >= 0:\n",
        "                  temp = temp + df_['pixels'][j][ys[i] + 4][xs[i] + mm]\n",
        "                  n = n + 1\n",
        "          if n == 0:\n",
        "              op.append(0)\n",
        "          else:\n",
        "              op.append(temp/n)\n",
        "          temp = 0 \n",
        "          n =0\n",
        "\n",
        "          if ys[i] + 4 < 48 and ys[i] + 4 >= 0 and xs[i] + 4 < 48 and xs[i] + 4 >= 0:\n",
        "              op.append(df_['pixels'][j][ys[i] + 4][xs[i] + 4])\n",
        "          else:\n",
        "              op.append(0)\n",
        "\n",
        "\n",
        "          for mm in range(-3, 4):\n",
        "              if ys[i] + mm < 48 and ys[i] + mm >= 0 and xs[i] + 4 < 48 and xs[i] + 4 >= 0:\n",
        "                  temp = temp + df_['pixels'][j][ys[i] + mm][xs[i] + 4]\n",
        "                  n = n + 1\n",
        "          if temp == 0:\n",
        "              op.append(0)\n",
        "          else:\n",
        "              op.append(temp/n)\n",
        "          temp = 0 \n",
        "          n =0\n",
        "\n",
        "          if ys[i] - 4 < 48 and ys[i] - 4 >= 0 and xs[i] + 4 < 48 and xs[i] + 4 >= 0:\n",
        "              op.append(df_['pixels'][j][ys[i] - 4][xs[i] + 4])\n",
        "          else:\n",
        "              op.append(0)\n",
        "\n",
        "\n",
        "          for mm in range(-3, 4):\n",
        "              if ys[i] - 4 < 48 and ys[i] - 4 >= 0 and xs[i] + mm < 48 and xs[i] + mm >= 0:\n",
        "                  temp = temp + df_['pixels'][j][ys[i] - 4][xs[i] + mm]\n",
        "                  n = n + 1\n",
        "          if temp == 0:\n",
        "              op.append(0)\n",
        "          else:\n",
        "              op.append(temp/n)\n",
        "          temp = 0 \n",
        "          n =0\n",
        "\n",
        "          if ys[i] - 4 < 48 and ys[i] - 4 >= 0 and xs[i] - 4 < 48 and xs[i] - 4 >= 0:\n",
        "              op.append(df_['pixels'][j][ys[i] - 4][xs[i] - 4])\n",
        "          else:\n",
        "              op.append(0)\n",
        "\n",
        "\n",
        "          for mm in range(-3, 4):\n",
        "              if ys[i] + mm < 48 and ys[i] + mm >= 0 and xs[i] - 4 < 48 and xs[i] - 4 >= 0:\n",
        "                  temp = temp + df_['pixels'][j][ys[i] + mm][xs[i] - 4]\n",
        "                  n = n + 1\n",
        "          if temp == 0:\n",
        "              op.append(0)\n",
        "          else:\n",
        "              op.append(temp/n)\n",
        "          g = 0\n",
        "          for ggg in range(0,8):\n",
        "              tem = 1 \n",
        "              if p > op[ggg]:\n",
        "                  tem = 0\n",
        "              g = g + tem * pow(2, 7-ggg)\n",
        "          df_[\"texture\"][j].append(g)"
      ],
      "execution_count": null,
      "outputs": []
    },
    {
      "cell_type": "markdown",
      "metadata": {
        "id": "WTAOqMMALcFB"
      },
      "source": [
        "## Normalized texture signiture"
      ]
    },
    {
      "cell_type": "markdown",
      "metadata": {
        "id": "I03z1VRtLb-K"
      },
      "source": [
        ""
      ]
    },
    {
      "cell_type": "code",
      "metadata": {
        "id": "mUEyrb-1f_Rf"
      },
      "source": [
        "sums = []\n",
        "\n",
        "for d in range(0, 26):\n",
        "    sum = 0\n",
        "    for i in range(0, len(df_)):\n",
        "      if len(df_[\"texture\"][i]) <= d:\n",
        "        continue\n",
        "      sum += df_[\"texture\"][i][d]\n",
        "    sums.append(sum)\n",
        "df_[\"NormalizedTexture\"] = \"\"\n",
        "for j in range(0, len(df_)):\n",
        "    df_[\"NormalizedTexture\"][j] = []\n",
        "    for d in range(0, len(df_[\"texture\"][j])):\n",
        "        if sums[d] == 0:\n",
        "            df_[\"NormalizedTexture\"][j].append(0.0)\n",
        "        else:\n",
        "            df_[\"NormalizedTexture\"][j].append(df_[\"texture\"][j][d]/sums[d])"
      ],
      "execution_count": null,
      "outputs": []
    },
    {
      "cell_type": "markdown",
      "metadata": {
        "id": "tteRFS_hBmm8"
      },
      "source": [
        "## Stability Index shape signiture"
      ]
    },
    {
      "cell_type": "code",
      "metadata": {
        "id": "j5Ux8zMPf_Rf"
      },
      "source": [
        "df_[\"StabilityIndex_T\"] = \"\"\n",
        "for j in range(0, len(df_)):\n",
        "    dif = 0\n",
        "    for d in range(8, len(df_[\"NormalizedTexture\"][j])):\n",
        "        dif += abs( df_[\"NormalizedTexture\"][j][d-8] + df_[\"NormalizedTexture\"][j][d] + 8 * (- df_[\"NormalizedTexture\"][j][d-1] \n",
        "        - df_[\"NormalizedTexture\"][j][d-2] - df_[\"NormalizedTexture\"][j][d-3] - df_[\"NormalizedTexture\"][j][d-4] \n",
        "        - df_[\"NormalizedTexture\"][j][d-5] - df_[\"NormalizedTexture\"][j][d-6] - df_[\"NormalizedTexture\"][j][d-7]) ) \n",
        "    df_[\"StabilityIndex_T\"][j] = dif"
      ],
      "execution_count": null,
      "outputs": []
    },
    {
      "cell_type": "markdown",
      "metadata": {
        "id": "wtpgYs2kBeuG"
      },
      "source": [
        "## Texture Statustic"
      ]
    },
    {
      "cell_type": "code",
      "metadata": {
        "id": "BtsyRhA3f_Rg"
      },
      "source": [
        "df_[\"Skewness_T\"] = \"\"\n",
        "df_[\"Kurtosis_T\"] = \"\"\n",
        "df_['Moment_T_1'] = \"\"\n",
        "df_['Moment_T_2'] = \"\"\n",
        "df_['Moment_T_3'] = \"\"\n",
        "df_['Moment_T_4'] = \"\"\n",
        "df_[\"Entropy_T\"] = \"\"\n",
        "df_[\"Range_T\"] = \"\"\n",
        "for j in range(0, len(df_)):\n",
        "    stats = scipy.stats.describe(df_[\"NormalizedTexture\"][j])\n",
        "    df_[\"Skewness_T\"][j] = stats.skewness\n",
        "    df_[\"Kurtosis_T\"][j] = stats.kurtosis\n",
        "    df_[\"Range_T\"][j] = np.array(df_[\"NormalizedTexture\"][j]).max() - np.array(df_[\"NormalizedTexture\"][j]).min()\n",
        "    df_[\"Moment_T_1\"][j]=scipy.stats.moment(df_[\"NormalizedTexture\"][j], moment=1)\n",
        "    df_[\"Moment_T_2\"][j]=scipy.stats.moment(df_[\"NormalizedTexture\"][j], moment=2)\n",
        "    df_[\"Moment_T_3\"][j]=scipy.stats.moment(df_[\"NormalizedTexture\"][j], moment=3)\n",
        "    df_[\"Moment_T_4\"][j]=scipy.stats.moment(df_[\"NormalizedTexture\"][j], moment=4)\n",
        "    df_[\"Entropy_T\"][j] = scipy.stats.entropy(df_[\"NormalizedTexture\"][j])"
      ],
      "execution_count": null,
      "outputs": []
    },
    {
      "cell_type": "markdown",
      "metadata": {
        "id": "vCIANI8eBP_Y"
      },
      "source": [
        "# *Save Data*"
      ]
    },
    {
      "cell_type": "code",
      "metadata": {
        "id": "7TGzGwv9UXpA"
      },
      "source": [
        "\n",
        "#with open('/content/drive/MyDrive/Colab Notebooks/DataFrame.csv' , 'wb') as f:\n",
        "#    np.savetxt(f, df_, delimiter=' ', newline='\\n')\n",
        "df_.to_csv(r'/content/drive/MyDrive/Colab Notebooks/DataFrame.csv')\n"
      ],
      "execution_count": null,
      "outputs": []
    },
    {
      "cell_type": "markdown",
      "metadata": {
        "id": "Xi7PfL1iZHvG"
      },
      "source": [
        "# MLP Model"
      ]
    },
    {
      "cell_type": "markdown",
      "metadata": {
        "id": "jCrZT7hvY0Cb"
      },
      "source": [
        "## *Import data*"
      ]
    },
    {
      "cell_type": "code",
      "metadata": {
        "id": "6MuRDLj4Y5wF"
      },
      "source": [
        "#df = pd.read_csv(\"/content/drive/MyDrive/Colab Notebooks/icml_face_data.csv\")\n",
        "df_ = pd.read_csv('/content/drive/MyDrive/Colab Notebooks/DataFrame.csv')"
      ],
      "execution_count": null,
      "outputs": []
    },
    {
      "cell_type": "code",
      "metadata": {
        "id": "Vm10SDS_dP4-"
      },
      "source": [
        "select = ['emotion',\t'StabilityIndex_D',\t'Skewness_D',\t'Kurtosis_D',\t'Moment_D_1',\t'Moment_D_2',\t'Moment_D_3',\t'Moment_D_4',\t'Entropy_D',\t'Range_D',\n",
        "'StabilityIndex_S',\t'Skewness_S',\t'Kurtosis_S',\t'Moment_S_1',\t'Moment_S_2',\t'Moment_S_3',\t'Moment_S_4',\t'Entropy_S',\t'Range_S',\t\n",
        "'StabilityIndex_T',\t'Skewness_T',\t'Kurtosis_T',\t'Moment_T_1',\t'Moment_T_2',\t'Moment_T_3',\t'Moment_T_4',\t'Entropy_T',\t'Range_T']\n",
        "df_[select] =df_[select].apply(pd.to_numeric, errors='coerce')\n"
      ],
      "execution_count": null,
      "outputs": []
    },
    {
      "cell_type": "markdown",
      "metadata": {
        "id": "NzMPO6ZJ1tXs"
      },
      "source": [
        "##PreProcessing"
      ]
    },
    {
      "cell_type": "markdown",
      "metadata": {
        "id": "0t-mljgEJCKr"
      },
      "source": [
        "## Data selection"
      ]
    },
    {
      "cell_type": "code",
      "metadata": {
        "id": "Ld2FRufMJO7C"
      },
      "source": [
        "select = ['emotion', 'usage',\t'StabilityIndex_D',\t'Skewness_D',\t'Kurtosis_D',\t'Moment_D_1',\t'Moment_D_2',\t'Moment_D_3',\t'Moment_D_4',\t'Entropy_D',\t'Range_D',\n",
        "'StabilityIndex_S',\t'Skewness_S',\t'Kurtosis_S',\t'Moment_S_1',\t'Moment_S_2',\t'Moment_S_3',\t'Moment_S_4',\t'Entropy_S',\t'Range_S',\t\n",
        "'StabilityIndex_T',\t'Skewness_T',\t'Kurtosis_T',\t'Moment_T_1',\t'Moment_T_2',\t'Moment_T_3',\t'Moment_T_4',\t'Entropy_T',\t'Range_T']\n",
        "\n",
        "dataframe = dfO_[select]\n",
        "df_train = dataframe.loc[dataframe['usage'] == 'Training']\n",
        "df_test = dataframe.loc[dataframe['usage'] != 'Training']\n",
        "df_train_X = df_train.iloc[:, 2:len(dataframe.iloc[0,])]\n",
        "df_train_Y = df_train.iloc[:, 0]\n",
        "df_test_X = df_test.iloc[:, 2:len(dataframe.iloc[0,])]\n",
        "df_test_Y = df_test.iloc[:, 0]"
      ],
      "execution_count": null,
      "outputs": []
    },
    {
      "cell_type": "markdown",
      "metadata": {
        "id": "UGiJRyGRXMNW"
      },
      "source": [
        "## Data Normalization"
      ]
    },
    {
      "cell_type": "code",
      "metadata": {
        "id": "mQvmMLulXLZ3"
      },
      "source": [
        "sc = StandardScaler()\n",
        "df_train_X = sc.fit_transform(df_train_X)\n",
        "df_test_X = sc.transform(df_test_X)"
      ],
      "execution_count": null,
      "outputs": []
    },
    {
      "cell_type": "code",
      "metadata": {
        "id": "b7xseHppjW_G"
      },
      "source": [
        "df_train_X = df_train_X.astype(\"float32\")\n",
        "df_test_X = df_test_X.astype(\"float32\")"
      ],
      "execution_count": null,
      "outputs": []
    },
    {
      "cell_type": "code",
      "metadata": {
        "colab": {
          "base_uri": "https://localhost:8080/"
        },
        "id": "ontLW0oedAZ2",
        "outputId": "92144037-fed4-466a-e915-5fce0ce93dfa"
      },
      "source": [
        "len(df_train_X)"
      ],
      "execution_count": null,
      "outputs": [
        {
          "output_type": "execute_result",
          "data": {
            "text/plain": [
              "39249"
            ]
          },
          "metadata": {
            "tags": []
          },
          "execution_count": 57
        }
      ]
    },
    {
      "cell_type": "code",
      "metadata": {
        "id": "-ODlFKKnanyx"
      },
      "source": [
        "y_train = tf.keras.utils.to_categorical(df_train_Y, 7)\n",
        "y_test = tf.keras.utils.to_categorical(df_test_Y, 7)"
      ],
      "execution_count": null,
      "outputs": []
    },
    {
      "cell_type": "markdown",
      "metadata": {
        "id": "4zh-byhX08sM"
      },
      "source": [
        "## Model"
      ]
    },
    {
      "cell_type": "code",
      "metadata": {
        "id": "8QBUJcDrtf7k"
      },
      "source": [
        "\n",
        "number_of_features = 27\n",
        "def DST_network(optimizer, loss, activation, weigth, dropout):\n",
        "  \n",
        "  network = Sequential()\n",
        "\n",
        "  network.add(layers.Dropout(dropout, input_shape=(number_of_features,)))\n",
        "\n",
        "  network.add(layers.Dense(units=512, kernel_regularizer=keras.regularizers.l2(weigth), activation = activation))\n",
        "  network.add(Dropout(dropout))\n",
        "  \n",
        "  network.add(layers.Dense(units=64, kernel_regularizer=keras.regularizers.l2(weigth), activation = activation))\n",
        "  network.add(Dropout(dropout))\n",
        "\n",
        "  network.add(layers.Dense(units=16, kernel_regularizer=keras.regularizers.l2(weigth), activation = activation))\n",
        "  network.add(Dropout(dropout))\n",
        "\n",
        "  network.add(layers.Dense(units=7, activation=\"softmax\"))\n",
        "  network.compile(loss= loss, optimizer=optimizer, metrics=[\"accuracy\"]) \n",
        "\n",
        "  return network\n"
      ],
      "execution_count": null,
      "outputs": []
    },
    {
      "cell_type": "code",
      "metadata": {
        "colab": {
          "base_uri": "https://localhost:8080/"
        },
        "id": "dJChd1k0uBwN",
        "outputId": "480fe08b-cccd-4849-d380-513a6df1b77c"
      },
      "source": [
        "neural_network = KerasClassifier(build_fn=DST_network, verbose=1)\n",
        "\n",
        "epochs = np.arange(16, 64, 16)\n",
        "batches = np.arange(8, 256, 62)\n",
        "optimizers = [\"rmsprop\", \"adam\", 'sgd', 'Ftrl']\n",
        "losses = ['categorical_crossentropy', 'categorical_hinge', 'mean_squared_logarithmic_error']\n",
        "activations = ['relu', 'sigmoid',  'tanh']\n",
        "weigths = np.arange(0.0, 0.9, 0.01)\n",
        "dropouts = np.arange(0.0, 0.9, 0.01)\n",
        "\n",
        "hyperparameters = dict(optimizer=optimizers, epochs=epochs, batch_size=batches, loss=losses, activation=activations, weigth=weigths, dropout=dropouts)\n",
        "\n",
        "bayes = BayesSearchCV(estimator=neural_network, search_spaces=hyperparameters, n_jobs=25, n_iter=10, n_points=25, cv=3)\n",
        "\n",
        "bayes_result = bayes.fit(df_train_X, y_train)"
      ],
      "execution_count": null,
      "outputs": [
        {
          "output_type": "stream",
          "text": [
            "Epoch 1/32\n",
            "152/152 [==============================] - 2s 3ms/step - loss: 0.0605 - accuracy: 0.2386\n",
            "Epoch 2/32\n",
            "152/152 [==============================] - 0s 3ms/step - loss: 0.0577 - accuracy: 0.2880\n",
            "Epoch 3/32\n",
            "152/152 [==============================] - 0s 3ms/step - loss: 0.0564 - accuracy: 0.3026\n",
            "Epoch 4/32\n",
            "152/152 [==============================] - 0s 3ms/step - loss: 0.0560 - accuracy: 0.3177\n",
            "Epoch 5/32\n",
            "152/152 [==============================] - 0s 3ms/step - loss: 0.0559 - accuracy: 0.3183\n",
            "Epoch 6/32\n",
            "152/152 [==============================] - 0s 3ms/step - loss: 0.0557 - accuracy: 0.3203\n",
            "Epoch 7/32\n",
            "152/152 [==============================] - 0s 3ms/step - loss: 0.0557 - accuracy: 0.3149\n",
            "Epoch 8/32\n",
            "152/152 [==============================] - 0s 3ms/step - loss: 0.0555 - accuracy: 0.3251\n",
            "Epoch 9/32\n",
            "152/152 [==============================] - 0s 3ms/step - loss: 0.0550 - accuracy: 0.3331\n",
            "Epoch 10/32\n",
            "152/152 [==============================] - 0s 3ms/step - loss: 0.0551 - accuracy: 0.3310\n",
            "Epoch 11/32\n",
            "152/152 [==============================] - 0s 3ms/step - loss: 0.0554 - accuracy: 0.3272\n",
            "Epoch 12/32\n",
            "152/152 [==============================] - 0s 3ms/step - loss: 0.0552 - accuracy: 0.3275\n",
            "Epoch 13/32\n",
            "152/152 [==============================] - 0s 3ms/step - loss: 0.0553 - accuracy: 0.3251\n",
            "Epoch 14/32\n",
            "152/152 [==============================] - 0s 3ms/step - loss: 0.0551 - accuracy: 0.3239\n",
            "Epoch 15/32\n",
            "152/152 [==============================] - 0s 3ms/step - loss: 0.0552 - accuracy: 0.3299\n",
            "Epoch 16/32\n",
            "152/152 [==============================] - 0s 3ms/step - loss: 0.0551 - accuracy: 0.3262\n",
            "Epoch 17/32\n",
            "152/152 [==============================] - 0s 3ms/step - loss: 0.0551 - accuracy: 0.3351\n",
            "Epoch 18/32\n",
            "152/152 [==============================] - 0s 3ms/step - loss: 0.0550 - accuracy: 0.3307\n",
            "Epoch 19/32\n",
            "152/152 [==============================] - 0s 3ms/step - loss: 0.0550 - accuracy: 0.3302\n",
            "Epoch 20/32\n",
            "152/152 [==============================] - 0s 3ms/step - loss: 0.0550 - accuracy: 0.3292\n",
            "Epoch 21/32\n",
            "152/152 [==============================] - 0s 3ms/step - loss: 0.0551 - accuracy: 0.3280\n",
            "Epoch 22/32\n",
            "152/152 [==============================] - 0s 3ms/step - loss: 0.0550 - accuracy: 0.3317\n",
            "Epoch 23/32\n",
            "152/152 [==============================] - 0s 3ms/step - loss: 0.0549 - accuracy: 0.3332\n",
            "Epoch 24/32\n",
            "152/152 [==============================] - 0s 3ms/step - loss: 0.0552 - accuracy: 0.3282\n",
            "Epoch 25/32\n",
            "152/152 [==============================] - 0s 3ms/step - loss: 0.0550 - accuracy: 0.3349\n",
            "Epoch 26/32\n",
            "152/152 [==============================] - 0s 3ms/step - loss: 0.0550 - accuracy: 0.3300\n",
            "Epoch 27/32\n",
            "152/152 [==============================] - 0s 3ms/step - loss: 0.0548 - accuracy: 0.3295\n",
            "Epoch 28/32\n",
            "152/152 [==============================] - 0s 3ms/step - loss: 0.0550 - accuracy: 0.3283\n",
            "Epoch 29/32\n",
            "152/152 [==============================] - 0s 3ms/step - loss: 0.0549 - accuracy: 0.3328\n",
            "Epoch 30/32\n",
            "152/152 [==============================] - 0s 3ms/step - loss: 0.0551 - accuracy: 0.3337\n",
            "Epoch 31/32\n",
            "152/152 [==============================] - 0s 3ms/step - loss: 0.0549 - accuracy: 0.3318\n",
            "Epoch 32/32\n",
            "152/152 [==============================] - 0s 3ms/step - loss: 0.0550 - accuracy: 0.3320\n"
          ],
          "name": "stdout"
        }
      ]
    },
    {
      "cell_type": "code",
      "metadata": {
        "colab": {
          "base_uri": "https://localhost:8080/"
        },
        "id": "j3-Ox-WtU1eR",
        "outputId": "6808f2ca-f70c-4140-82f8-d4cefcdb565a"
      },
      "source": [
        "bayes_result.best_params_"
      ],
      "execution_count": null,
      "outputs": [
        {
          "output_type": "execute_result",
          "data": {
            "text/plain": [
              "OrderedDict([('activation', 'tanh'),\n",
              "             ('batch_size', 132),\n",
              "             ('dropout', 0.35000000000000003),\n",
              "             ('epochs', 32),\n",
              "             ('loss', 'mean_squared_logarithmic_error'),\n",
              "             ('optimizer', 'adam'),\n",
              "             ('weigth', 0.0)])"
            ]
          },
          "metadata": {
            "tags": []
          },
          "execution_count": 15
        }
      ]
    },
    {
      "cell_type": "code",
      "metadata": {
        "colab": {
          "base_uri": "https://localhost:8080/"
        },
        "id": "T6zupuHfFoHm",
        "outputId": "6c2577b4-26b8-41b7-a1f3-d54d7ffb5fa5"
      },
      "source": [
        "bayes_result.best_score_"
      ],
      "execution_count": null,
      "outputs": [
        {
          "output_type": "execute_result",
          "data": {
            "text/plain": [
              "0.3652922365981474"
            ]
          },
          "metadata": {
            "tags": []
          },
          "execution_count": 42
        }
      ]
    },
    {
      "cell_type": "code",
      "metadata": {
        "colab": {
          "base_uri": "https://localhost:8080/"
        },
        "id": "NG9L-0DBzJ6d",
        "outputId": "d493dbf2-0484-4ff7-d813-638fff5411f1"
      },
      "source": [
        "predicted = bayes_result.best_estimator_.predict(df_test_X)"
      ],
      "execution_count": null,
      "outputs": [
        {
          "output_type": "stream",
          "text": [
            "38/38 [==============================] - 0s 1ms/step\n"
          ],
          "name": "stdout"
        },
        {
          "output_type": "stream",
          "text": [
            "/usr/local/lib/python3.7/dist-packages/tensorflow/python/keras/engine/sequential.py:450: UserWarning: `model.predict_classes()` is deprecated and will be removed after 2021-01-01. Please use instead:* `np.argmax(model.predict(x), axis=-1)`,   if your model does multi-class classification   (e.g. if it uses a `softmax` last-layer activation).* `(model.predict(x) > 0.5).astype(\"int32\")`,   if your model does binary classification   (e.g. if it uses a `sigmoid` last-layer activation).\n",
            "  warnings.warn('`model.predict_classes()` is deprecated and '\n"
          ],
          "name": "stderr"
        }
      ]
    },
    {
      "cell_type": "code",
      "metadata": {
        "id": "dL8NVB_VijSW"
      },
      "source": [
        "validation_set"
      ],
      "execution_count": null,
      "outputs": []
    },
    {
      "cell_type": "code",
      "metadata": {
        "colab": {
          "base_uri": "https://localhost:8080/"
        },
        "id": "roryyPcY1RJp",
        "outputId": "e0b66376-1042-40c1-ebc9-45d0a34180a3"
      },
      "source": [
        "y_test[0]"
      ],
      "execution_count": null,
      "outputs": [
        {
          "output_type": "execute_result",
          "data": {
            "text/plain": [
              "array([1., 0., 0., 0., 0., 0., 0.], dtype=float32)"
            ]
          },
          "metadata": {
            "tags": []
          },
          "execution_count": 25
        }
      ]
    },
    {
      "cell_type": "code",
      "metadata": {
        "colab": {
          "base_uri": "https://localhost:8080/",
          "height": 314
        },
        "id": "6mWSXQZOXVsv",
        "outputId": "afde7898-1001-4c09-b52f-bc2a3f8b46dc"
      },
      "source": [
        "from sklearn.metrics import confusion_matrix\n",
        "\n",
        "matrix = confusion_matrix(df_test_Y, predicted)\n",
        "#time_elapsed = (time.perf_counter() - time_start)\n",
        "import seaborn as sns\n",
        "\n",
        "sns.heatmap(matrix, annot=True, fmt='d',cmap='Spectral', \n",
        "            yticklabels=['Angry', 'Disgust', 'Fear', 'Happy', 'Sad', 'Surprise', 'Neutral'],\n",
        "            xticklabels=['Angry', 'Disgust', 'Fear', 'Happy', 'Sad', 'Surprise', 'Neutral'])\n",
        "#print (\"%5.1f secs\" % (time_elapsed))"
      ],
      "execution_count": null,
      "outputs": [
        {
          "output_type": "execute_result",
          "data": {
            "text/plain": [
              "<matplotlib.axes._subplots.AxesSubplot at 0x7fdd58d05e10>"
            ]
          },
          "metadata": {
            "tags": []
          },
          "execution_count": 60
        },
        {
          "output_type": "display_data",
          "data": {
            "image/png": "[encoded data removed]",
            "text/plain": [
              "<Figure size 432x288 with 2 Axes>"
            ]
          },
          "metadata": {
            "tags": []
          }
        }
      ]
    },
    {
      "cell_type": "code",
      "metadata": {
        "colab": {
          "base_uri": "https://localhost:8080/"
        },
        "id": "OiJOJNvf3BIc",
        "outputId": "be283b0e-42fb-4e0a-a34c-367b86149f1d"
      },
      "source": [
        "from sklearn.metrics import classification_report\n",
        "\n",
        "report = classification_report(df_test_Y, predicted)\n",
        "print(report)"
      ],
      "execution_count": null,
      "outputs": [
        {
          "output_type": "stream",
          "text": [
            "              precision    recall  f1-score   support\n",
            "\n",
            "           0       0.32      0.12      0.17       645\n",
            "           1       0.00      0.00      0.00        86\n",
            "           2       0.00      0.00      0.00       646\n",
            "           3       0.36      0.78      0.49      1382\n",
            "           4       0.67      0.00      0.01       672\n",
            "           5       0.45      0.46      0.46       603\n",
            "           6       0.34      0.40      0.37       924\n",
            "\n",
            "    accuracy                           0.36      4958\n",
            "   macro avg       0.30      0.25      0.21      4958\n",
            "weighted avg       0.35      0.36      0.28      4958\n",
            "\n"
          ],
          "name": "stdout"
        },
        {
          "output_type": "stream",
          "text": [
            "/usr/local/lib/python3.7/dist-packages/sklearn/metrics/_classification.py:1272: UndefinedMetricWarning: Precision and F-score are ill-defined and being set to 0.0 in labels with no predicted samples. Use `zero_division` parameter to control this behavior.\n",
            "  _warn_prf(average, modifier, msg_start, len(result))\n"
          ],
          "name": "stderr"
        }
      ]
    },
    {
      "cell_type": "code",
      "metadata": {
        "colab": {
          "base_uri": "https://localhost:8080/"
        },
        "id": "ztSF76sAtyFD",
        "outputId": "0023d972-be69-4ad3-c7f9-9b1a7be2f30a"
      },
      "source": [
        "DST_network('adam', 'mean_squared_logarithmic_error', 'tanh', 0.0, 0.35000000000000003).summary()"
      ],
      "execution_count": null,
      "outputs": [
        {
          "output_type": "stream",
          "text": [
            "Model: \"sequential\"\n",
            "_________________________________________________________________\n",
            "Layer (type)                 Output Shape              Param #   \n",
            "=================================================================\n",
            "dropout (Dropout)            (None, 27)                0         \n",
            "_________________________________________________________________\n",
            "dense (Dense)                (None, 512)               14336     \n",
            "_________________________________________________________________\n",
            "dropout_1 (Dropout)          (None, 512)               0         \n",
            "_________________________________________________________________\n",
            "dense_1 (Dense)              (None, 64)                32832     \n",
            "_________________________________________________________________\n",
            "dropout_2 (Dropout)          (None, 64)                0         \n",
            "_________________________________________________________________\n",
            "dense_2 (Dense)              (None, 16)                1040      \n",
            "_________________________________________________________________\n",
            "dropout_3 (Dropout)          (None, 16)                0         \n",
            "_________________________________________________________________\n",
            "dense_3 (Dense)              (None, 7)                 119       \n",
            "=================================================================\n",
            "Total params: 48,327\n",
            "Trainable params: 48,327\n",
            "Non-trainable params: 0\n",
            "_________________________________________________________________\n"
          ],
          "name": "stdout"
        }
      ]
    },
    {
      "cell_type": "code",
      "metadata": {
        "colab": {
          "base_uri": "https://localhost:8080/",
          "height": 976
        },
        "id": "SP_-KnUEE89R",
        "outputId": "83fdcb1f-86c0-4584-acb9-f8ffcace24c2"
      },
      "source": [
        "from IPython.display import SVG\n",
        "from keras.utils.vis_utils import model_to_dot\n",
        "from keras.utils import plot_model\n",
        "\n",
        "SVG(model_to_dot(DST_network(bayes_result.best_params_['optimizer'], bayes_result.best_params_['loss'], bayes_result.best_params_['activation'],\n",
        "    bayes_result.best_params_['weigth'], bayes_result.best_params_['dropout']), show_shapes=True).create(prog=\"dot\", format=\"svg\"))\n",
        "plot_model(DST_network(bayes_result.best_params_['optimizer'], bayes_result.best_params_['loss'], bayes_result.best_params_['activation'],\n",
        "    bayes_result.best_params_['weigth'], bayes_result.best_params_['dropout']), show_shapes=True, to_file=\"network.png\")\n",
        "#bayes_result.best_params_"
      ],
      "execution_count": null,
      "outputs": [
        {
          "output_type": "execute_result",
          "data": {
            "image/png": "[encoded data removed]",
            "text/plain": [
              "<IPython.core.display.Image object>"
            ]
          },
          "metadata": {
            "tags": []
          },
          "execution_count": 52
        }
      ]
    },
    {
      "cell_type": "code",
      "metadata": {
        "id": "EXPxpXOeXO-b"
      },
      "source": [
        ""
      ],
      "execution_count": null,
      "outputs": []
    },
    {
      "cell_type": "markdown",
      "metadata": {
        "id": "CxjfwiuNOKEM"
      },
      "source": [
        "# CNN"
      ]
    },
    {
      "cell_type": "code",
      "metadata": {
        "id": "tWwh6chgJyym"
      },
      "source": [
        "def string_to_array(x):\n",
        "  return np.array(x.split(' ')).reshape(48, 48, 1).astype('float32')\n",
        "\n",
        "def resize(x):\n",
        "  img = x.reshape(48, 48)\n",
        "  return cv2.resize(img, dsize=(48, 48), interpolation = cv2.INTER_CUBIC)"
      ],
      "execution_count": 9,
      "outputs": []
    },
    {
      "cell_type": "code",
      "metadata": {
        "id": "A53gdVq2tm7S"
      },
      "source": [
        "df['pixels'] = df['pixels'].apply(lambda x: string_to_array(x))\n",
        "df['pixels'] = df['pixels'].apply(lambda x: resize(x))"
      ],
      "execution_count": 10,
      "outputs": []
    },
    {
      "cell_type": "code",
      "metadata": {
        "id": "AMSxIJaLmBJ6"
      },
      "source": [
        "select = ['emotion', 'usage',\t'pixels']\n",
        "dataframe = df[select]\n",
        "df_train = dataframe.loc[dataframe['usage'] == 'Training']\n",
        "df_test = dataframe.loc[dataframe['usage'] != 'Training']\n",
        "df_train_X = df_train['pixels']\n",
        "df_train_Y = df_train['emotion']\n",
        "df_test_X = df_test['pixels']\n",
        "df_test_Y = df_test['emotion']"
      ],
      "execution_count": 11,
      "outputs": []
    },
    {
      "cell_type": "code",
      "metadata": {
        "id": "l2yG65mTLSWy"
      },
      "source": [
        "X_train = df_train_X\n",
        "y_train = tf.keras.utils.to_categorical(df_train_Y)\n",
        "\n",
        "X_test = df_test_X\n",
        "y_test = tf.keras.utils.to_categorical(df_test_Y)\n"
      ],
      "execution_count": 12,
      "outputs": []
    },
    {
      "cell_type": "code",
      "metadata": {
        "id": "oU0hD68UqdWa"
      },
      "source": [
        "X_train = np.stack(X_train, axis = 0)\n",
        "X_train = X_train.reshape(len(df_train_X), 48, 48, 1)\n",
        "\n",
        "X_test = np.stack(X_test, axis = 0)\n",
        "X_test = X_test.reshape(len(df_test_X), 48, 48, 1)"
      ],
      "execution_count": 13,
      "outputs": []
    },
    {
      "cell_type": "code",
      "metadata": {
        "id": "CQ6cYZijPU7J"
      },
      "source": [
        "X_train = X_train / 255\n",
        "X_test = X_test /255"
      ],
      "execution_count": 14,
      "outputs": []
    },
    {
      "cell_type": "code",
      "metadata": {
        "id": "7lCAPjVotvXi"
      },
      "source": [
        "\n",
        "model = Sequential()\n",
        "\n",
        "# Conv Block 1\n",
        "model.add(layers.ZeroPadding2D((3, 3)))\n",
        "\n",
        "model.add(Conv2D(64, (3,3), padding='same', input_shape=(48,48,1)))\n",
        "model.add(BatchNormalization())\n",
        "model.add(Activation('relu'))\n",
        "model.add(MaxPooling2D(pool_size=(2,2)))\n",
        "model.add(Dropout(0.25))\n",
        "\n",
        "# Conv Block 2\n",
        "model.add(Conv2D(128,(5,5), padding='same'))\n",
        "model.add(BatchNormalization())\n",
        "model.add(Activation('relu'))\n",
        "model.add(MaxPooling2D(pool_size=(2,2)))\n",
        "model.add(Dropout(0.25))\n",
        "\n",
        "# Conv Block 3\n",
        "model.add(Conv2D(512,(3,3), padding='same'))\n",
        "model.add(BatchNormalization())\n",
        "model.add(Activation('relu'))\n",
        "model.add(MaxPooling2D(pool_size=(2,2)))\n",
        "model.add(Dropout(0.25))\n",
        "\n",
        "# Conv Block 3\n",
        "model.add(Conv2D(512,(3,3), padding='same'))\n",
        "model.add(BatchNormalization())\n",
        "model.add(Activation('relu'))\n",
        "model.add(MaxPooling2D(pool_size=(2,2)))\n",
        "model.add(Dropout(0.25))\n",
        "\n",
        "model.add(Flatten())\n",
        "\n",
        "# Fully connected Block 1\n",
        "model.add(Dense(256, kernel_regularizer=keras.regularizers.l2(0.01)))\n",
        "model.add(BatchNormalization())\n",
        "model.add(Activation('relu'))\n",
        "model.add(Dropout(0.25))\n",
        "\n",
        "# Fully connected Block 2\n",
        "model.add(Dense(512, kernel_regularizer=keras.regularizers.l2(0.01)))\n",
        "model.add(BatchNormalization())\n",
        "model.add(Activation('relu'))\n",
        "model.add(Dropout(0.25))\n",
        "\n",
        "model.add(Dense(7, activation='softmax'))\n",
        "\n",
        "opt = Adam(lr=0.0005)\n",
        "model.compile(optimizer=opt, loss='categorical_crossentropy', metrics=['accuracy'])\n"
      ],
      "execution_count": 33,
      "outputs": []
    },
    {
      "cell_type": "code",
      "metadata": {
        "id": "Nkpfxzl3tFGV"
      },
      "source": [
        "batch_size = 64\n",
        "train_datagen = ImageDataGenerator( horizontal_flip=True, br)\n",
        "  \n",
        "train_set = train_datagen.flow(X_train, y_train, batch_size = 64)\n",
        "validation_set = train_datagen.flow(X_test, y_test, batch_size = 64)\n",
        "\n"
      ],
      "execution_count": 34,
      "outputs": []
    },
    {
      "cell_type": "code",
      "metadata": {
        "colab": {
          "base_uri": "https://localhost:8080/"
        },
        "id": "P8IAVPcm6O21",
        "outputId": "531be8bc-dfce-4e76-b8fd-e77590bf2301"
      },
      "source": [
        "validation_set.image_data_generator"
      ],
      "execution_count": null,
      "outputs": [
        {
          "output_type": "execute_result",
          "data": {
            "text/plain": [
              "<tensorflow.python.keras.preprocessing.image.ImageDataGenerator at 0x7fe82aaf48d0>"
            ]
          },
          "metadata": {
            "tags": []
          },
          "execution_count": 223
        }
      ]
    },
    {
      "cell_type": "code",
      "metadata": {
        "colab": {
          "base_uri": "https://localhost:8080/"
        },
        "id": "v3sENK3k6W5q",
        "outputId": "97c0e4c6-20a3-4144-8e67-1b2e2544d874"
      },
      "source": [
        "len(X_test)"
      ],
      "execution_count": null,
      "outputs": [
        {
          "output_type": "execute_result",
          "data": {
            "text/plain": [
              "7178"
            ]
          },
          "metadata": {
            "tags": []
          },
          "execution_count": 246
        }
      ]
    },
    {
      "cell_type": "code",
      "metadata": {
        "colab": {
          "base_uri": "https://localhost:8080/",
          "height": 721
        },
        "id": "EGzB0Nb48aDb",
        "outputId": "3316922b-4de7-44a8-fe4a-88a158d64887"
      },
      "source": [
        "epochs = 15\n",
        "steps_per_epoch= train_set.n//train_set.batch_size\n",
        "validation_steps = validation_set.n//validation_set.batch_size\n",
        "\n",
        "checkpoint = ModelCheckpoint(\"model_weights.h5\",monitor='val_accuracy',\n",
        "                            save_weights_only=True, mode='max',verbose=1)\n",
        "reduce_lr = ReduceLROnPlateau(monitor='val_loss' , factor=0.1, patience=2, min_lr=0.00001,model='auto')\n",
        "\n",
        "callbacks = [PlotLossesKeras(), checkpoint, reduce_lr]\n",
        "\n",
        "history = model.fit(\n",
        "        x= train_set,\n",
        "        steps_per_epoch=steps_per_epoch,\n",
        "        epochs=epochs,\n",
        "        validation_data=validation_set,\n",
        "        validation_steps=validation_steps,\n",
        "        callbacks=callbacks\n",
        ")"
      ],
      "execution_count": 38,
      "outputs": [
        {
          "output_type": "display_data",
          "data": {
            "image/png": "[encoded data removed]",
            "text/plain": [
              "<Figure size 864x576 with 2 Axes>"
            ]
          },
          "metadata": {
            "tags": [],
            "needs_background": "light"
          }
        },
        {
          "output_type": "stream",
          "text": [
            "accuracy\n",
            "\ttraining         \t (min:    0.710, max:    0.725, cur:    0.725)\n",
            "\tvalidation       \t (min:    0.661, max:    0.667, cur:    0.666)\n",
            "Loss\n",
            "\ttraining         \t (min:    0.801, max:    0.848, cur:    0.801)\n",
            "\tvalidation       \t (min:    0.989, max:    1.004, cur:    1.000)\n",
            "\n",
            "Epoch 00015: saving model to model_weights.h5\n"
          ],
          "name": "stdout"
        }
      ]
    },
    {
      "cell_type": "code",
      "metadata": {
        "colab": {
          "base_uri": "https://localhost:8080/"
        },
        "id": "pbg1fXHZQcOV",
        "outputId": "b54ff11b-983e-42a2-ad9c-34660a10b0b3"
      },
      "source": [
        "score = model.evaluate(validation_set)\n",
        "print('Test Accuracy: {}'.format(score[1]))"
      ],
      "execution_count": 41,
      "outputs": [
        {
          "output_type": "stream",
          "text": [
            "113/113 [==============================] - 1s 6ms/step - loss: 0.9986 - accuracy: 0.6658\n",
            "Test Accuracy: 0.6657843589782715\n"
          ],
          "name": "stdout"
        }
      ]
    },
    {
      "cell_type": "code",
      "metadata": {
        "colab": {
          "base_uri": "https://localhost:8080/"
        },
        "id": "kHjYPa7M65cH",
        "outputId": "27e590bf-8480-435a-a687-be38e8eb9641"
      },
      "source": [
        "model.summary()"
      ],
      "execution_count": 20,
      "outputs": [
        {
          "output_type": "stream",
          "text": [
            "Model: \"sequential\"\n",
            "_________________________________________________________________\n",
            "Layer (type)                 Output Shape              Param #   \n",
            "=================================================================\n",
            "zero_padding2d (ZeroPadding2 (None, None, None, None)  0         \n",
            "_________________________________________________________________\n",
            "conv2d (Conv2D)              (None, None, None, 64)    640       \n",
            "_________________________________________________________________\n",
            "batch_normalization (BatchNo (None, None, None, 64)    256       \n",
            "_________________________________________________________________\n",
            "activation (Activation)      (None, None, None, 64)    0         \n",
            "_________________________________________________________________\n",
            "max_pooling2d (MaxPooling2D) (None, None, None, 64)    0         \n",
            "_________________________________________________________________\n",
            "dropout (Dropout)            (None, None, None, 64)    0         \n",
            "_________________________________________________________________\n",
            "conv2d_1 (Conv2D)            (None, None, None, 128)   204928    \n",
            "_________________________________________________________________\n",
            "batch_normalization_1 (Batch (None, None, None, 128)   512       \n",
            "_________________________________________________________________\n",
            "activation_1 (Activation)    (None, None, None, 128)   0         \n",
            "_________________________________________________________________\n",
            "max_pooling2d_1 (MaxPooling2 (None, None, None, 128)   0         \n",
            "_________________________________________________________________\n",
            "dropout_1 (Dropout)          (None, None, None, 128)   0         \n",
            "_________________________________________________________________\n",
            "conv2d_2 (Conv2D)            (None, None, None, 512)   590336    \n",
            "_________________________________________________________________\n",
            "batch_normalization_2 (Batch (None, None, None, 512)   2048      \n",
            "_________________________________________________________________\n",
            "activation_2 (Activation)    (None, None, None, 512)   0         \n",
            "_________________________________________________________________\n",
            "max_pooling2d_2 (MaxPooling2 (None, None, None, 512)   0         \n",
            "_________________________________________________________________\n",
            "dropout_2 (Dropout)          (None, None, None, 512)   0         \n",
            "_________________________________________________________________\n",
            "conv2d_3 (Conv2D)            (None, None, None, 512)   2359808   \n",
            "_________________________________________________________________\n",
            "batch_normalization_3 (Batch (None, None, None, 512)   2048      \n",
            "_________________________________________________________________\n",
            "activation_3 (Activation)    (None, None, None, 512)   0         \n",
            "_________________________________________________________________\n",
            "max_pooling2d_3 (MaxPooling2 (None, None, None, 512)   0         \n",
            "_________________________________________________________________\n",
            "dropout_3 (Dropout)          (None, None, None, 512)   0         \n",
            "_________________________________________________________________\n",
            "flatten (Flatten)            (None, None)              0         \n",
            "_________________________________________________________________\n",
            "dense (Dense)                (None, 256)               1179904   \n",
            "_________________________________________________________________\n",
            "batch_normalization_4 (Batch (None, 256)               1024      \n",
            "_________________________________________________________________\n",
            "activation_4 (Activation)    (None, 256)               0         \n",
            "_________________________________________________________________\n",
            "dropout_4 (Dropout)          (None, 256)               0         \n",
            "_________________________________________________________________\n",
            "dense_1 (Dense)              (None, 512)               131584    \n",
            "_________________________________________________________________\n",
            "batch_normalization_5 (Batch (None, 512)               2048      \n",
            "_________________________________________________________________\n",
            "activation_5 (Activation)    (None, 512)               0         \n",
            "_________________________________________________________________\n",
            "dropout_5 (Dropout)          (None, 512)               0         \n",
            "_________________________________________________________________\n",
            "dense_2 (Dense)              (None, 7)                 3591      \n",
            "=================================================================\n",
            "Total params: 4,478,727\n",
            "Trainable params: 4,474,759\n",
            "Non-trainable params: 3,968\n",
            "_________________________________________________________________\n"
          ],
          "name": "stdout"
        }
      ]
    },
    {
      "cell_type": "code",
      "metadata": {
        "colab": {
          "base_uri": "https://localhost:8080/"
        },
        "id": "KQejnsDYocJt",
        "outputId": "7d8c1d37-b368-457d-ffed-e4801a5107cb"
      },
      "source": [
        "validation_set.x"
      ],
      "execution_count": null,
      "outputs": [
        {
          "output_type": "execute_result",
          "data": {
            "text/plain": [
              "[0.9625120759010315, 0.6486486196517944]"
            ]
          },
          "metadata": {
            "tags": []
          },
          "execution_count": 140
        }
      ]
    },
    {
      "cell_type": "code",
      "metadata": {
        "id": "SX8HSnzDoSh3"
      },
      "source": [
        "# predicted_classes = model.predict_classes(X_test)\n",
        "predicted_classes = np.argmax(model.predict(validation_set.x), axis=-1)\n",
        "y_true = np.argmax(y_test, axis=-1)"
      ],
      "execution_count": 39,
      "outputs": []
    },
    {
      "cell_type": "code",
      "metadata": {
        "id": "TZulgKOvoUsX",
        "colab": {
          "base_uri": "https://localhost:8080/",
          "height": 314
        },
        "outputId": "c57ffcf0-bd64-440d-b289-f592a5ac73f8"
      },
      "source": [
        "from sklearn.metrics import confusion_matrix\n",
        "mat = confusion_matrix(y_true, predicted_classes)\n",
        "#plt.figure(figsize = (10, 10))\n",
        "#sns.heatmap(cm, annot = True, cbar = False)\n",
        "import seaborn as sns\n",
        "\n",
        "sns.heatmap(mat, annot=True, fmt='d',cmap='Spectral', \n",
        "            yticklabels=['Angry', 'Disgust', 'Fear', 'Happy', 'Sad', 'Surprise', 'Neutral'],\n",
        "            xticklabels=['Angry', 'Disgust', 'Fear', 'Happy', 'Sad', 'Surprise', 'Neutral'])"
      ],
      "execution_count": 40,
      "outputs": [
        {
          "output_type": "execute_result",
          "data": {
            "text/plain": [
              "<matplotlib.axes._subplots.AxesSubplot at 0x7f5cd80b5e10>"
            ]
          },
          "metadata": {
            "tags": []
          },
          "execution_count": 40
        },
        {
          "output_type": "display_data",
          "data": {
            "image/png": "[encoded data removed]",
            "text/plain": [
              "<Figure size 432x288 with 2 Axes>"
            ]
          },
          "metadata": {
            "tags": [],
            "needs_background": "light"
          }
        }
      ]
    },
    {
      "cell_type": "code",
      "metadata": {
        "colab": {
          "base_uri": "https://localhost:8080/",
          "height": 314
        },
        "id": "Aoes8bxKF7wU",
        "outputId": "ea1c0a3b-1942-491c-e289-eeab343ad4a2"
      },
      "source": [
        "# predicted_classes = model.predict_classes(X_test)\n",
        "predicted= np.argmax(model.predict(X_test), axis=-1)\n",
        "y_true = np.argmax(y_test, axis=-1)\n",
        "\n",
        "from sklearn.metrics import confusion_matrix\n",
        "mat = confusion_matrix(y_true, predicted)\n",
        "#plt.figure(figsize = (10, 10))\n",
        "#sns.heatmap(cm, annot = True, cbar = False)\n",
        "import seaborn as sns\n",
        "\n",
        "sns.heatmap(mat, annot=True, fmt='d',cmap='Spectral', \n",
        "            yticklabels=['Angry', 'Disgust', 'Fear', 'Happy', 'Sad', 'Surprise', 'Neutral'],\n",
        "            xticklabels=['Angry', 'Disgust', 'Fear', 'Happy', 'Sad', 'Surprise', 'Neutral'])"
      ],
      "execution_count": 43,
      "outputs": [
        {
          "output_type": "execute_result",
          "data": {
            "text/plain": [
              "<matplotlib.axes._subplots.AxesSubplot at 0x7f5cd82b66d0>"
            ]
          },
          "metadata": {
            "tags": []
          },
          "execution_count": 43
        },
        {
          "output_type": "display_data",
          "data": {
            "image/png": "[encoded data removed]",
            "text/plain": [
              "<Figure size 432x288 with 2 Axes>"
            ]
          },
          "metadata": {
            "tags": [],
            "needs_background": "light"
          }
        }
      ]
    },
    {
      "cell_type": "markdown",
      "metadata": {
        "id": "z00YyuojsJ05"
      },
      "source": [
        "# Combining the 2 approaches"
      ]
    },
    {
      "cell_type": "code",
      "metadata": {
        "id": "l9-J4GblsQP0"
      },
      "source": [
        "def string_to_array(x):\n",
        "  return np.array(x.split(' ')).reshape(48, 48, 1).astype('float32')\n",
        "\n",
        "def resize(x):\n",
        "  img = x.reshape(48, 48)\n",
        "  return cv2.resize(img, dsize=(48, 48), interpolation = cv2.INTER_CUBIC)"
      ],
      "execution_count": 77,
      "outputs": []
    },
    {
      "cell_type": "code",
      "metadata": {
        "id": "om5JMYOrsQL7"
      },
      "source": [
        "dfO['pixel'] = dfO['pixel'].apply(lambda x: string_to_array(x))\n",
        "dfO['pixel'] = dfO['pixel'].apply(lambda x: resize(x))"
      ],
      "execution_count": 78,
      "outputs": []
    },
    {
      "cell_type": "code",
      "metadata": {
        "id": "0vETUjVrsQHj"
      },
      "source": [
        "select = ['emotion', 'usage',\t'pixel']\n",
        "dataframe = dfO[select]\n",
        "df_train = dataframe.loc[dataframe['usage'] == 'Training']\n",
        "df_test = dataframe.loc[dataframe['usage'] != 'Training']\n",
        "df_train_X = df_train['pixel']\n",
        "df_train_Y = df_train['emotion']\n",
        "df_test_X = df_test['pixel']\n",
        "df_test_Y = df_test['emotion']"
      ],
      "execution_count": 79,
      "outputs": []
    },
    {
      "cell_type": "code",
      "metadata": {
        "id": "-Ann7Hd3sQD3"
      },
      "source": [
        "X_train = df_train_X\n",
        "y_train = tf.keras.utils.to_categorical(df_train_Y)\n",
        "\n",
        "X_test = df_test_X\n",
        "y_test = tf.keras.utils.to_categorical(df_test_Y)"
      ],
      "execution_count": 80,
      "outputs": []
    },
    {
      "cell_type": "code",
      "metadata": {
        "id": "_1hcw5SWsPn_"
      },
      "source": [
        "X_train = np.stack(X_train, axis = 0)\n",
        "X_train = X_train.reshape(len(df_train_X), 48, 48, 1)\n",
        "\n",
        "X_test = np.stack(X_test, axis = 0)\n",
        "X_test = X_test.reshape(len(df_test_X), 48, 48, 1)"
      ],
      "execution_count": 81,
      "outputs": []
    },
    {
      "cell_type": "code",
      "metadata": {
        "id": "JcRBy5rRx00Y"
      },
      "source": [
        "X_train = X_train / 255\n",
        "X_test = X_test /255"
      ],
      "execution_count": 82,
      "outputs": []
    },
    {
      "cell_type": "markdown",
      "metadata": {
        "id": "ijCSvqx2ywHv"
      },
      "source": [
        "### Geo"
      ]
    },
    {
      "cell_type": "code",
      "metadata": {
        "id": "yBxxni5Qy0zR"
      },
      "source": [
        "df_ = pd.read_csv('/content/drive/MyDrive/Colab Notebooks/DataFrame.csv')\n",
        "select = ['emotion',\t'StabilityIndex_D',\t'Skewness_D',\t'Kurtosis_D',\t'Moment_D_1',\t'Moment_D_2',\t'Moment_D_3',\t'Moment_D_4',\t'Entropy_D',\t'Range_D',\n",
        "'StabilityIndex_S',\t'Skewness_S',\t'Kurtosis_S',\t'Moment_S_1',\t'Moment_S_2',\t'Moment_S_3',\t'Moment_S_4',\t'Entropy_S',\t'Range_S',\t\n",
        "'StabilityIndex_T',\t'Skewness_T',\t'Kurtosis_T',\t'Moment_T_1',\t'Moment_T_2',\t'Moment_T_3',\t'Moment_T_4',\t'Entropy_T',\t'Range_T']\n",
        "df_[select] =df_[select].apply(pd.to_numeric, errors='coerce')\n"
      ],
      "execution_count": 83,
      "outputs": []
    },
    {
      "cell_type": "code",
      "metadata": {
        "id": "ASfeN5r30h1A"
      },
      "source": [
        "select = ['emotion', 'usage',\t'StabilityIndex_D',\t'Skewness_D',\t'Kurtosis_D',\t'Moment_D_1',\t'Moment_D_2',\t'Moment_D_3',\t'Moment_D_4',\t'Entropy_D',\t'Range_D',\n",
        "'StabilityIndex_S',\t'Skewness_S',\t'Kurtosis_S',\t'Moment_S_1',\t'Moment_S_2',\t'Moment_S_3',\t'Moment_S_4',\t'Entropy_S',\t'Range_S',\t\n",
        "'StabilityIndex_T',\t'Skewness_T',\t'Kurtosis_T',\t'Moment_T_1',\t'Moment_T_2',\t'Moment_T_3',\t'Moment_T_4',\t'Entropy_T',\t'Range_T']\n",
        "\n",
        "dataframe2 = df_[select]\n",
        "df_train2 = dataframe2.loc[dataframe2['usage'] == 'Training']\n",
        "df_test2 = dataframe2.loc[dataframe2['usage'] != 'Training']\n",
        "df_train_X2 = df_train2.iloc[:, 2:len(dataframe2.iloc[0,])]\n",
        "df_train_Y2 = df_train2.iloc[:, 0]\n",
        "df_test_X2 = df_test2.iloc[:, 2:len(dataframe2.iloc[0,])]\n",
        "df_test_Y2 = df_test2.iloc[:, 0]"
      ],
      "execution_count": 84,
      "outputs": []
    },
    {
      "cell_type": "code",
      "metadata": {
        "id": "BejGiOww1BlV"
      },
      "source": [
        "sc = StandardScaler()\n",
        "df_train_X2 = sc.fit_transform(df_train_X2)\n",
        "df_test_X2 = sc.transform(df_test_X2)"
      ],
      "execution_count": 85,
      "outputs": []
    },
    {
      "cell_type": "code",
      "metadata": {
        "id": "to4_SWDm1InB"
      },
      "source": [
        "y_train2 = tf.keras.utils.to_categorical(df_train_Y2, 7)\n",
        "y_test2 = tf.keras.utils.to_categorical(df_test_Y2, 7)"
      ],
      "execution_count": 86,
      "outputs": []
    },
    {
      "cell_type": "markdown",
      "metadata": {
        "id": "5pwPnVSC1Yc3"
      },
      "source": [
        "## Model"
      ]
    },
    {
      "cell_type": "code",
      "metadata": {
        "id": "UgT192pg0yS2"
      },
      "source": [
        "#model = Sequential()\n",
        "from keras.layers import Concatenate\n",
        "# Conv Block 1\n",
        "image =Input(shape=(48,48,1))\n",
        "geo = Input(shape=(27,))\n",
        "\n",
        "cnn = layers.ZeroPadding2D((3, 3))(image)\n",
        "\n",
        "cnn = Conv2D(64, (3,3), padding='same', input_shape=(48,48,1))(cnn)\n",
        "cnn = BatchNormalization()(cnn)\n",
        "cnn = Activation('relu')(cnn)\n",
        "cnn = MaxPooling2D(pool_size=(2,2))(cnn)\n",
        "cnn = Dropout(0.25)(cnn)\n",
        "\n",
        "# Conv Block 2\n",
        "cnn = Conv2D(128,(5,5), padding='same')(cnn)\n",
        "cnn = BatchNormalization()(cnn)\n",
        "cnn = Activation('relu')(cnn)\n",
        "cnn = MaxPooling2D(pool_size=(2,2))(cnn)\n",
        "cnn = Dropout(0.25)(cnn)\n",
        "\n",
        "# Conv Block 3\n",
        "cnn = BatchNormalization()(cnn)\n",
        "cnn = Conv2D(512,(3,3), padding='same')(cnn)\n",
        "cnn = Activation('relu')(cnn)\n",
        "cnn = MaxPooling2D(pool_size=(2,2))(cnn)\n",
        "cnn = Dropout(0.25)(cnn)\n",
        "\n",
        "# Conv Block 3\n",
        "cnn = Conv2D(512,(3,3), padding='same')(cnn)\n",
        "cnn = BatchNormalization()(cnn)\n",
        "cnn = Activation('relu')(cnn)\n",
        "cnn = MaxPooling2D(pool_size=(2,2))(cnn)\n",
        "cnn = Dropout(0.25)(cnn)\n",
        "\n",
        "cnn = Flatten()(cnn)\n",
        "\n",
        "# Fully connected Block 1\n",
        "cnn = Dense(256, kernel_regularizer=keras.regularizers.l2(0.01))(cnn)\n",
        "cnn = BatchNormalization()(cnn)\n",
        "cnn = Activation('relu')(cnn)\n",
        "cnn = Dropout(0.25)(cnn)\n",
        "\n",
        "# Fully connected Block 2\n",
        "cnn = Dense(512, kernel_regularizer=keras.regularizers.l2(0.01))(cnn)\n",
        "cnn = BatchNormalization()(cnn)\n",
        "cnn = Activation('relu')(cnn)\n",
        "cnn = Dropout(0.25)(cnn)\n",
        "\n",
        "\n",
        "geo_layers = layers.Dropout(0.35, input_shape=(27,))(geo)\n",
        "\n",
        "geo_layers = layers.Dense(units=512, activation = 'tanh')(geo_layers)\n",
        "geo_layers = Dropout(0.35)(geo_layers)\n",
        "\n",
        "geo_layers = layers.Dense(units=64, activation = 'tanh')(geo_layers)\n",
        "geo_layers = Dropout(0.35)(geo_layers)\n",
        "\n",
        "geo_layers = layers.Dense(units=16, activation = 'tanh')(geo_layers)\n",
        "geo_layers = Dropout(0.35)(geo_layers)\n",
        "\n",
        "co = Concatenate()([cnn,geo_layers])\n",
        "output = Dense(512)(co)\n",
        "output = BatchNormalization()(output)\n",
        "output = Activation('relu')(output)\n",
        "output = Dropout(0.25)(output)\n",
        "\n",
        "output = Dense(7, activation='softmax')(output)\n",
        "\n",
        "model = Model([image,geo], output)\n",
        "opt = Adam(lr=0.0005)\n",
        "model.compile(optimizer=opt, loss='categorical_crossentropy', metrics=['accuracy'])"
      ],
      "execution_count": 138,
      "outputs": []
    },
    {
      "cell_type": "code",
      "metadata": {
        "id": "PTqLWJe_8ZxG"
      },
      "source": [
        "batch_size = 64\n",
        "train_datagen = ImageDataGenerator( horizontal_flip=True)\n",
        "  \n",
        "train_set = train_datagen.flow(X_train, y_train, batch_size = 64)\n",
        "validation_set = train_datagen.flow(X_test, y_test, batch_size = 64)"
      ],
      "execution_count": 99,
      "outputs": []
    },
    {
      "cell_type": "code",
      "metadata": {
        "id": "Ee6-IAfy8ZHb",
        "outputId": "dc900255-ec8f-4da2-e386-95fa0efe3e26",
        "colab": {
          "base_uri": "https://localhost:8080/",
          "height": 709
        }
      },
      "source": [
        "\n",
        "epochs = 15\n",
        "steps_per_epoch= train_set.n//train_set.batch_size\n",
        "validation_steps = validation_set.n//validation_set.batch_size\n",
        "\n",
        "checkpoint = ModelCheckpoint(\"model_weights.h5\",monitor='val_accuracy',\n",
        "                            save_weights_only=True, mode='max',verbose=1)\n",
        "reduce_lr = ReduceLROnPlateau(monitor='val_loss' , factor=0.1, patience=2, min_lr=0.00001,model='auto')\n",
        "\n",
        "callbacks = [PlotLossesKeras(), checkpoint, reduce_lr]\n",
        "\n",
        "history = model.fit(\n",
        "        x= [train_set.x, df_train_X2], y = y_train,\n",
        "        steps_per_epoch=steps_per_epoch,\n",
        "        epochs=epochs,\n",
        "        validation_data=([validation_set.x, df_test_X2], y_test),\n",
        "        validation_steps=validation_steps,\n",
        "        callbacks=callbacks\n",
        ")\n"
      ],
      "execution_count": 140,
      "outputs": [
        {
          "output_type": "display_data",
          "data": {
            "image/png": "[encoded data removed]",
            "text/plain": [
              "<Figure size 864x576 with 2 Axes>"
            ]
          },
          "metadata": {
            "tags": [],
            "needs_background": "light"
          }
        },
        {
          "output_type": "stream",
          "text": [
            "accuracy\n",
            "\ttraining         \t (min:    0.737, max:    0.806, cur:    0.804)\n",
            "\tvalidation       \t (min:    0.665, max:    0.681, cur:    0.681)\n",
            "Loss\n",
            "\ttraining         \t (min:    0.649, max:    0.863, cur:    0.650)\n",
            "\tvalidation       \t (min:    1.043, max:    1.085, cur:    1.051)\n",
            "\n",
            "Epoch 00015: saving model to model_weights.h5\n"
          ],
          "name": "stdout"
        }
      ]
    },
    {
      "cell_type": "code",
      "metadata": {
        "id": "8D2HHdjARk34",
        "outputId": "0f2a1f2f-bd1f-4e0a-e935-5e2ca3c683d8",
        "colab": {
          "base_uri": "https://localhost:8080/",
          "height": 318
        }
      },
      "source": [
        "predicted= np.argmax(model.predict([validation_set.x, df_test_X2]), axis=-1)\n",
        "y_true = np.argmax(y_test, axis=-1)\n",
        "\n",
        "from sklearn.metrics import confusion_matrix\n",
        "mat = confusion_matrix(y_true, predicted)\n",
        "#plt.figure(figsize = (10, 10))\n",
        "#sns.heatmap(cm, annot = True, cbar = False)\n",
        "import seaborn as sns\n",
        "\n",
        "sns.heatmap(mat, annot=True, fmt='d',cmap='Spectral', \n",
        "            yticklabels=['Angry', 'Disgust', 'Fear', 'Happy', 'Sad', 'Surprise', 'Neutral'],\n",
        "            xticklabels=['Angry', 'Disgust', 'Fear', 'Happy', 'Sad', 'Surprise', 'Neutral'])"
      ],
      "execution_count": 147,
      "outputs": [
        {
          "output_type": "execute_result",
          "data": {
            "text/plain": [
              "<matplotlib.axes._subplots.AxesSubplot at 0x7f5ba23891d0>"
            ]
          },
          "metadata": {
            "tags": []
          },
          "execution_count": 147
        },
        {
          "output_type": "display_data",
          "data": {
            "image/png": "[encoded data removed]",
            "text/plain": [
              "<Figure size 432x288 with 2 Axes>"
            ]
          },
          "metadata": {
            "tags": [],
            "needs_background": "light"
          }
        }
      ]
    },
    {
      "cell_type": "code",
      "metadata": {
        "id": "80HFExgiR70V",
        "outputId": "fa417645-6bca-4a0b-9980-48c192290650",
        "colab": {
          "base_uri": "https://localhost:8080/"
        }
      },
      "source": [
        "from sklearn.metrics import classification_report\n",
        "\n",
        "report = classification_report(y_true, predicted)\n",
        "print(report)"
      ],
      "execution_count": 146,
      "outputs": [
        {
          "output_type": "stream",
          "text": [
            "              precision    recall  f1-score   support\n",
            "\n",
            "           0       0.54      0.58      0.56       645\n",
            "           1       0.64      0.63      0.63        86\n",
            "           2       0.59      0.44      0.50       646\n",
            "           3       0.86      0.87      0.86      1382\n",
            "           4       0.52      0.44      0.48       672\n",
            "           5       0.78      0.83      0.81       603\n",
            "           6       0.61      0.72      0.66       924\n",
            "\n",
            "    accuracy                           0.68      4958\n",
            "   macro avg       0.65      0.64      0.64      4958\n",
            "weighted avg       0.68      0.68      0.68      4958\n",
            "\n"
          ],
          "name": "stdout"
        }
      ]
    },
    {
      "cell_type": "code",
      "metadata": {
        "id": "cV_qVGs8RLsY",
        "outputId": "f8d90cdc-0c27-4dae-a3c3-54efbffa75c5",
        "colab": {
          "base_uri": "https://localhost:8080/"
        }
      },
      "source": [
        "score = model.evaluate([X_test, df_test_X2])\n",
        "print('Test Accuracy: {}'.format(score[1]))"
      ],
      "execution_count": 143,
      "outputs": [
        {
          "output_type": "stream",
          "text": [
            "155/155 [==============================] - 0s 2ms/step - loss: 0.1141 - accuracy: 0.0000e+00\n",
            "Test Accuracy: 0.0\n"
          ],
          "name": "stdout"
        }
      ]
    },
    {
      "cell_type": "markdown",
      "metadata": {
        "id": "WEvAwY9WZCIp"
      },
      "source": [
        "# Else"
      ]
    },
    {
      "cell_type": "code",
      "metadata": {
        "colab": {
          "base_uri": "https://localhost:8080/"
        },
        "id": "kk3fObWqFNOi",
        "outputId": "5168494b-148c-47f3-cfdb-57391340a774"
      },
      "source": [
        "dfG['Moment_T_1'] = \"\"\n",
        "dfG['Moment_T_2'] = \"\"\n",
        "dfG['Moment_T_3'] = \"\"\n",
        "dfG['Moment_T_4'] = \"\"\n",
        "dfG['Moment_D_1'] = \"\"\n",
        "dfG['Moment_D_2'] = \"\"\n",
        "dfG['Moment_D_3'] = \"\"\n",
        "dfG['Moment_D_4'] = \"\"\n",
        "dfG['Moment_S_1'] = \"\"\n",
        "dfG['Moment_S_2'] = \"\"\n",
        "dfG['Moment_S_3'] = \"\"\n",
        "dfG['Moment_S_4'] = \"\"\n",
        "for j in range(0, len(dfG)):\n",
        "  dfG['Moment_T_1'][j] = dfG['Moment_T'][j][0] \n",
        "  dfG['Moment_T_2'][j] = dfG['Moment_T'][j][1]  \n",
        "  dfG['Moment_T_3'][j] = dfG['Moment_T'][j][2]  \n",
        "  dfG['Moment_T_4'][j] = dfG['Moment_T'][j][3] \n",
        "  dfG['Moment_D_1'][j] = dfG['Moment_D'][j][0] \n",
        "  dfG['Moment_D_2'][j] = dfG['Moment_D'][j][1] \n",
        "  dfG['Moment_D_3'][j] = dfG['Moment_D'][j][2]  \n",
        "  dfG['Moment_D_4'][j] = dfG['Moment_D'][j][3] \n",
        "  dfG['Moment_S_1'][j] = dfG['Moment_S'][j][0]  \n",
        "  dfG['Moment_S_2'][j] = dfG['Moment_S'][j][1] \n",
        "  dfG['Moment_S_3'][j] = dfG['Moment_S'][j][2]  \n",
        "  dfG['Moment_S_4'][j] = dfG['Moment_S'][j][3]  \n",
        "  for i in range(2, 20):\n",
        "    dfG.iloc[:, i][j] = np.asarray(dfG.iloc[:, i][j]).astype('float32')\n",
        "\n",
        "  \n",
        "\n",
        "\n",
        "\n",
        "  #dfG['Moment_D'][j] = np.asarray(dfG['Moment_D'][j]).astype('float32')\n",
        "  #dfG['Moment_S'][j] = np.asarray(dfG['Moment_S'][j]).astype('float32')\n",
        "  #dfG['Moment_T'][j] = np.asarray(dfG['Moment_T'][j]).astype('float32')"
      ],
      "execution_count": null,
      "outputs": [
        {
          "output_type": "stream",
          "text": [
            "/usr/local/lib/python3.7/dist-packages/ipykernel_launcher.py:14: SettingWithCopyWarning: \n",
            "A value is trying to be set on a copy of a slice from a DataFrame\n",
            "\n",
            "See the caveats in the documentation: https://pandas.pydata.org/pandas-docs/stable/user_guide/indexing.html#returning-a-view-versus-a-copy\n",
            "  \n",
            "/usr/local/lib/python3.7/dist-packages/ipykernel_launcher.py:15: SettingWithCopyWarning: \n",
            "A value is trying to be set on a copy of a slice from a DataFrame\n",
            "\n",
            "See the caveats in the documentation: https://pandas.pydata.org/pandas-docs/stable/user_guide/indexing.html#returning-a-view-versus-a-copy\n",
            "  from ipykernel import kernelapp as app\n",
            "/usr/local/lib/python3.7/dist-packages/ipykernel_launcher.py:16: SettingWithCopyWarning: \n",
            "A value is trying to be set on a copy of a slice from a DataFrame\n",
            "\n",
            "See the caveats in the documentation: https://pandas.pydata.org/pandas-docs/stable/user_guide/indexing.html#returning-a-view-versus-a-copy\n",
            "  app.launch_new_instance()\n",
            "/usr/local/lib/python3.7/dist-packages/ipykernel_launcher.py:17: SettingWithCopyWarning: \n",
            "A value is trying to be set on a copy of a slice from a DataFrame\n",
            "\n",
            "See the caveats in the documentation: https://pandas.pydata.org/pandas-docs/stable/user_guide/indexing.html#returning-a-view-versus-a-copy\n",
            "/usr/local/lib/python3.7/dist-packages/ipykernel_launcher.py:18: SettingWithCopyWarning: \n",
            "A value is trying to be set on a copy of a slice from a DataFrame\n",
            "\n",
            "See the caveats in the documentation: https://pandas.pydata.org/pandas-docs/stable/user_guide/indexing.html#returning-a-view-versus-a-copy\n",
            "/usr/local/lib/python3.7/dist-packages/ipykernel_launcher.py:19: SettingWithCopyWarning: \n",
            "A value is trying to be set on a copy of a slice from a DataFrame\n",
            "\n",
            "See the caveats in the documentation: https://pandas.pydata.org/pandas-docs/stable/user_guide/indexing.html#returning-a-view-versus-a-copy\n",
            "/usr/local/lib/python3.7/dist-packages/ipykernel_launcher.py:20: SettingWithCopyWarning: \n",
            "A value is trying to be set on a copy of a slice from a DataFrame\n",
            "\n",
            "See the caveats in the documentation: https://pandas.pydata.org/pandas-docs/stable/user_guide/indexing.html#returning-a-view-versus-a-copy\n",
            "/usr/local/lib/python3.7/dist-packages/ipykernel_launcher.py:21: SettingWithCopyWarning: \n",
            "A value is trying to be set on a copy of a slice from a DataFrame\n",
            "\n",
            "See the caveats in the documentation: https://pandas.pydata.org/pandas-docs/stable/user_guide/indexing.html#returning-a-view-versus-a-copy\n",
            "/usr/local/lib/python3.7/dist-packages/ipykernel_launcher.py:22: SettingWithCopyWarning: \n",
            "A value is trying to be set on a copy of a slice from a DataFrame\n",
            "\n",
            "See the caveats in the documentation: https://pandas.pydata.org/pandas-docs/stable/user_guide/indexing.html#returning-a-view-versus-a-copy\n",
            "/usr/local/lib/python3.7/dist-packages/ipykernel_launcher.py:23: SettingWithCopyWarning: \n",
            "A value is trying to be set on a copy of a slice from a DataFrame\n",
            "\n",
            "See the caveats in the documentation: https://pandas.pydata.org/pandas-docs/stable/user_guide/indexing.html#returning-a-view-versus-a-copy\n",
            "/usr/local/lib/python3.7/dist-packages/ipykernel_launcher.py:24: SettingWithCopyWarning: \n",
            "A value is trying to be set on a copy of a slice from a DataFrame\n",
            "\n",
            "See the caveats in the documentation: https://pandas.pydata.org/pandas-docs/stable/user_guide/indexing.html#returning-a-view-versus-a-copy\n",
            "/usr/local/lib/python3.7/dist-packages/ipykernel_launcher.py:25: SettingWithCopyWarning: \n",
            "A value is trying to be set on a copy of a slice from a DataFrame\n",
            "\n",
            "See the caveats in the documentation: https://pandas.pydata.org/pandas-docs/stable/user_guide/indexing.html#returning-a-view-versus-a-copy\n",
            "/usr/local/lib/python3.7/dist-packages/ipykernel_launcher.py:27: SettingWithCopyWarning: \n",
            "A value is trying to be set on a copy of a slice from a DataFrame\n",
            "\n",
            "See the caveats in the documentation: https://pandas.pydata.org/pandas-docs/stable/user_guide/indexing.html#returning-a-view-versus-a-copy\n"
          ],
          "name": "stderr"
        }
      ]
    },
    {
      "cell_type": "code",
      "metadata": {
        "id": "TMyau9pyMS2l"
      },
      "source": [
        "dfG = dfG.drop(columns=['Moment_T', 'Moment_D', 'Moment_S'])"
      ],
      "execution_count": null,
      "outputs": []
    },
    {
      "cell_type": "code",
      "metadata": {
        "colab": {
          "base_uri": "https://localhost:8080/"
        },
        "id": "caMQPfYqLPyn",
        "outputId": "0c88be8d-6827-4480-8e12-276fa16cce1d"
      },
      "source": [
        "len(dfG.iloc[0, :])"
      ],
      "execution_count": null,
      "outputs": [
        {
          "output_type": "execute_result",
          "data": {
            "text/plain": [
              "29"
            ]
          },
          "metadata": {
            "tags": []
          },
          "execution_count": 166
        }
      ]
    },
    {
      "cell_type": "code",
      "metadata": {
        "colab": {
          "base_uri": "https://localhost:8080/",
          "height": 163
        },
        "id": "ezCl41p3Lan8",
        "outputId": "014f9224-05ab-4974-8b8d-2d79b87f84c0"
      },
      "source": [
        "for i in range(0, len(df_)):\n",
        "  a = np.array(df_[\"pixels\"][i])\n",
        "  df_[\"pixels\"][i] = a.flatten()"
      ],
      "execution_count": null,
      "outputs": [
        {
          "output_type": "error",
          "ename": "NameError",
          "evalue": "ignored",
          "traceback": [
            "\u001b[0;31m---------------------------------------------------------------------------\u001b[0m",
            "\u001b[0;31mNameError\u001b[0m                                 Traceback (most recent call last)",
            "\u001b[0;32m<ipython-input-7-988e27a2b1b2>\u001b[0m in \u001b[0;36m<module>\u001b[0;34m()\u001b[0m\n\u001b[0;32m----> 1\u001b[0;31m \u001b[0mdfG\u001b[0m\u001b[0;34m.\u001b[0m\u001b[0mhead\u001b[0m\u001b[0;34m(\u001b[0m\u001b[0;34m)\u001b[0m\u001b[0;34m\u001b[0m\u001b[0;34m\u001b[0m\u001b[0m\n\u001b[0m",
            "\u001b[0;31mNameError\u001b[0m: name 'dfG' is not defined"
          ]
        }
      ]
    },
    {
      "cell_type": "code",
      "metadata": {
        "id": "zyMtRZ3rBTPb"
      },
      "source": [
        "dfG_train = dfG.loc[dfG['usage'] == 'Training']\n",
        "dfG_test = dfG.loc[dfG['usage'] != 'Training']\n",
        "dfG_train_X = dfG_train.iloc[:, 2:len(dfG.iloc[0,])]\n",
        "dfG_train_Y = dfG_train.iloc[:, 0]\n",
        "dfG_test_X = dfG_test.iloc[:, 2:len(dfG.iloc[0,])]\n",
        "dfG_test_Y = dfG_test.iloc[:, 0]\n"
      ],
      "execution_count": null,
      "outputs": []
    },
    {
      "cell_type": "code",
      "metadata": {
        "colab": {
          "base_uri": "https://localhost:8080/",
          "height": 751
        },
        "id": "kQfaCb8r6Zb2",
        "outputId": "219c3f6b-0316-4bb1-f50a-77ea4b6407ce"
      },
      "source": [
        "df_.head()"
      ],
      "execution_count": null,
      "outputs": [
        {
          "output_type": "execute_result",
          "data": {
            "text/html": [
              "<div>\n",
              "<style scoped>\n",
              "    .dataframe tbody tr th:only-of-type {\n",
              "        vertical-align: middle;\n",
              "    }\n",
              "\n",
              "    .dataframe tbody tr th {\n",
              "        vertical-align: top;\n",
              "    }\n",
              "\n",
              "    .dataframe thead th {\n",
              "        text-align: right;\n",
              "    }\n",
              "</style>\n",
              "<table border=\"1\" class=\"dataframe\">\n",
              "  <thead>\n",
              "    <tr style=\"text-align: right;\">\n",
              "      <th></th>\n",
              "      <th>emotion</th>\n",
              "      <th>usage</th>\n",
              "      <th>pixels</th>\n",
              "      <th>landmarks</th>\n",
              "      <th>distance</th>\n",
              "      <th>NormalizedDistance</th>\n",
              "      <th>StabilityIndex_D</th>\n",
              "      <th>Skewness_D</th>\n",
              "      <th>Kurtosis_D</th>\n",
              "      <th>Entropy_D</th>\n",
              "      <th>Range_D</th>\n",
              "      <th>shape</th>\n",
              "      <th>NormalizedShape</th>\n",
              "      <th>StabilityIndex_S</th>\n",
              "      <th>Skewness_S</th>\n",
              "      <th>Kurtosis_S</th>\n",
              "      <th>Entropy_S</th>\n",
              "      <th>Range_S</th>\n",
              "      <th>Moment_D_1</th>\n",
              "      <th>Moment_D_2</th>\n",
              "      <th>Moment_D_3</th>\n",
              "      <th>Moment_D_4</th>\n",
              "      <th>Moment_S_1</th>\n",
              "      <th>Moment_S_2</th>\n",
              "      <th>Moment_S_3</th>\n",
              "      <th>Moment_S_4</th>\n",
              "      <th>texture</th>\n",
              "      <th>NormalizedTexture</th>\n",
              "      <th>StabilityIndex_T</th>\n",
              "      <th>Skewness_T</th>\n",
              "      <th>Kurtosis_T</th>\n",
              "      <th>Moment_T_1</th>\n",
              "      <th>Moment_T_2</th>\n",
              "      <th>Moment_T_3</th>\n",
              "      <th>Moment_T_4</th>\n",
              "      <th>Entropy_T</th>\n",
              "      <th>Range_T</th>\n",
              "    </tr>\n",
              "  </thead>\n",
              "  <tbody>\n",
              "    <tr>\n",
              "      <th>0</th>\n",
              "      <td>0</td>\n",
              "      <td>Training</td>\n",
              "      <td>[70, 80, 82, 72, 58, 58, 60, 63, 54, 58, 60, 4...</td>\n",
              "      <td>[{'chin': [(-1, 15), (-2, 22), (-2, 28), (-1, ...</td>\n",
              "      <td>[8.246211251235321, 16.0312195418814, 20.09975...</td>\n",
              "      <td>[5.0299575334557584e-05, 5.044810411287815e-05...</td>\n",
              "      <td>0.578346</td>\n",
              "      <td>-0.357767</td>\n",
              "      <td>-0.12663</td>\n",
              "      <td>5.67994</td>\n",
              "      <td>4.22983e-05</td>\n",
              "      <td>[0.018565851724963202, 0.016660755854204744, 0...</td>\n",
              "      <td>[3.486179304053872e-05, 4.439667986854204e-05,...</td>\n",
              "      <td>4.52516</td>\n",
              "      <td>0.387636</td>\n",
              "      <td>1.22258</td>\n",
              "      <td>7.58859</td>\n",
              "      <td>0.000153598</td>\n",
              "      <td>0</td>\n",
              "      <td>6.09339e-11</td>\n",
              "      <td>-1.70172e-16</td>\n",
              "      <td>1.06686e-20</td>\n",
              "      <td>0</td>\n",
              "      <td>3.60887e-10</td>\n",
              "      <td>2.65755e-15</td>\n",
              "      <td>5.49946e-19</td>\n",
              "      <td>[207, 30, 78, 255, 6, 135, 28, 255, 14, 239, 2...</td>\n",
              "      <td>[7.037273753348655e-05, 1.2893432343432902e-05...</td>\n",
              "      <td>0.0355298</td>\n",
              "      <td>0.115421</td>\n",
              "      <td>-0.452437</td>\n",
              "      <td>0</td>\n",
              "      <td>4.6713e-10</td>\n",
              "      <td>1.16531e-15</td>\n",
              "      <td>5.55904e-19</td>\n",
              "      <td>3.03636</td>\n",
              "      <td>7.63662e-05</td>\n",
              "    </tr>\n",
              "    <tr>\n",
              "      <th>1</th>\n",
              "      <td>0</td>\n",
              "      <td>Training</td>\n",
              "      <td>[151, 150, 147, 155, 148, 133, 111, 140, 170, ...</td>\n",
              "      <td>[{'chin': [(5, 25), (6, 29), (7, 33), (9, 37),...</td>\n",
              "      <td>[5.830951894845301, 13.341664064126334, 18.439...</td>\n",
              "      <td>[3.5567170809869274e-05, 4.19844326869658e-05,...</td>\n",
              "      <td>0.632856</td>\n",
              "      <td>-1.49053</td>\n",
              "      <td>5.21012</td>\n",
              "      <td>5.69618</td>\n",
              "      <td>3.8356e-05</td>\n",
              "      <td>[0.016252431508165112, 0.012213344589299761, 0...</td>\n",
              "      <td>[3.0517797515390085e-05, 3.2545459197668165e-0...</td>\n",
              "      <td>4.83582</td>\n",
              "      <td>0.227092</td>\n",
              "      <td>0.469817</td>\n",
              "      <td>7.58465</td>\n",
              "      <td>0.000147518</td>\n",
              "      <td>0</td>\n",
              "      <td>2.25613e-11</td>\n",
              "      <td>-1.5973e-16</td>\n",
              "      <td>4.17905e-21</td>\n",
              "      <td>0</td>\n",
              "      <td>4.09738e-10</td>\n",
              "      <td>1.88349e-15</td>\n",
              "      <td>5.82531e-19</td>\n",
              "      <td>[30, 141, 47, 31, 6, 55, 4, 252, 103, 229, 239...</td>\n",
              "      <td>[1.0198947468621239e-05, 6.059913201413464e-05...</td>\n",
              "      <td>0.0329649</td>\n",
              "      <td>0.0629759</td>\n",
              "      <td>-0.795289</td>\n",
              "      <td>0</td>\n",
              "      <td>3.9913e-10</td>\n",
              "      <td>5.02165e-16</td>\n",
              "      <td>3.51221e-19</td>\n",
              "      <td>3.04624</td>\n",
              "      <td>7.29507e-05</td>\n",
              "    </tr>\n",
              "    <tr>\n",
              "      <th>2</th>\n",
              "      <td>2</td>\n",
              "      <td>Training</td>\n",
              "      <td>[231, 212, 156, 164, 174, 138, 161, 173, 182, ...</td>\n",
              "      <td>[{'chin': [(7, 13), (5, 17), (4, 22), (3, 27),...</td>\n",
              "      <td>[7.0710678118654755, 13.0, 18.973665961010276,...</td>\n",
              "      <td>[4.313153001572831e-05, 4.090926156641289e-05,...</td>\n",
              "      <td>0.615182</td>\n",
              "      <td>-1.01666</td>\n",
              "      <td>2.34471</td>\n",
              "      <td>5.69727</td>\n",
              "      <td>3.3228e-05</td>\n",
              "      <td>[0.016407877703908294, 0.008254641444375283, 0...</td>\n",
              "      <td>[3.080968464156224e-05, 2.1996521456920525e-05...</td>\n",
              "      <td>4.71292</td>\n",
              "      <td>0.331625</td>\n",
              "      <td>0.35232</td>\n",
              "      <td>7.5689</td>\n",
              "      <td>0.000134493</td>\n",
              "      <td>0</td>\n",
              "      <td>1.88021e-11</td>\n",
              "      <td>-8.2887e-17</td>\n",
              "      <td>1.88946e-21</td>\n",
              "      <td>0</td>\n",
              "      <td>4.35117e-10</td>\n",
              "      <td>3.00993e-15</td>\n",
              "      <td>6.34684e-19</td>\n",
              "      <td>[88, 30, 254, 143, 30, 199, 7, 143, 254, 229, ...</td>\n",
              "      <td>[2.99169125746223e-05, 1.2893432343432902e-05,...</td>\n",
              "      <td>0.0414202</td>\n",
              "      <td>0.856728</td>\n",
              "      <td>2.43706</td>\n",
              "      <td>0</td>\n",
              "      <td>4.75928e-10</td>\n",
              "      <td>8.8952e-15</td>\n",
              "      <td>1.23154e-18</td>\n",
              "      <td>3.10652</td>\n",
              "      <td>0.00011382</td>\n",
              "    </tr>\n",
              "    <tr>\n",
              "      <th>3</th>\n",
              "      <td>6</td>\n",
              "      <td>Training</td>\n",
              "      <td>[4, 0, 0, 0, 0, 0, 0, 0, 0, 0, 0, 0, 3, 15, 23...</td>\n",
              "      <td>[{'chin': [(2, 20), (3, 25), (4, 30), (5, 35),...</td>\n",
              "      <td>[6.708203932499369, 14.035668847618199, 22.090...</td>\n",
              "      <td>[4.091816214528586e-05, 4.4168372934366603e-05...</td>\n",
              "      <td>0.704834</td>\n",
              "      <td>1.02034</td>\n",
              "      <td>11.4922</td>\n",
              "      <td>5.70133</td>\n",
              "      <td>3.53967e-05</td>\n",
              "      <td>[0.021417735784386643, 0.013434560615715867, 0...</td>\n",
              "      <td>[4.021688222944737e-05, 3.579968952488622e-05,...</td>\n",
              "      <td>4.91672</td>\n",
              "      <td>0.0785708</td>\n",
              "      <td>0.373318</td>\n",
              "      <td>7.60682</td>\n",
              "      <td>0.000134295</td>\n",
              "      <td>0</td>\n",
              "      <td>9.90297e-12</td>\n",
              "      <td>3.17974e-17</td>\n",
              "      <td>1.42123e-21</td>\n",
              "      <td>0</td>\n",
              "      <td>3.54448e-10</td>\n",
              "      <td>5.24313e-16</td>\n",
              "      <td>4.23803e-19</td>\n",
              "      <td>[28, 24, 62, 143, 38, 39, 60, 251, 124, 252, 2...</td>\n",
              "      <td>[9.519017637379822e-06, 1.0314745874746321e-05...</td>\n",
              "      <td>0.0339946</td>\n",
              "      <td>0.384538</td>\n",
              "      <td>0.118625</td>\n",
              "      <td>0</td>\n",
              "      <td>2.41001e-10</td>\n",
              "      <td>1.43869e-15</td>\n",
              "      <td>1.81134e-19</td>\n",
              "      <td>3.09737</td>\n",
              "      <td>6.62894e-05</td>\n",
              "    </tr>\n",
              "    <tr>\n",
              "      <th>4</th>\n",
              "      <td>2</td>\n",
              "      <td>Training</td>\n",
              "      <td>[55, 55, 55, 55, 55, 54, 60, 68, 54, 85, 151, ...</td>\n",
              "      <td>[{'chin': [(3, 23), (4, 28), (4, 33), (5, 38),...</td>\n",
              "      <td>[7.0710678118654755, 13.601470508735444, 17.46...</td>\n",
              "      <td>[4.313153001572831e-05, 4.280200882536225e-05,...</td>\n",
              "      <td>0.646113</td>\n",
              "      <td>-0.496125</td>\n",
              "      <td>4.04168</td>\n",
              "      <td>5.69885</td>\n",
              "      <td>3.28988e-05</td>\n",
              "      <td>[0.027249985751825634, 0.024292336919816138, 0...</td>\n",
              "      <td>[5.116831577193139e-05, 6.47329037725294e-05, ...</td>\n",
              "      <td>5.08187</td>\n",
              "      <td>11.1228</td>\n",
              "      <td>290.365</td>\n",
              "      <td>7.55396</td>\n",
              "      <td>0.000879859</td>\n",
              "      <td>0</td>\n",
              "      <td>1.6016e-11</td>\n",
              "      <td>-3.17995e-17</td>\n",
              "      <td>1.80627e-21</td>\n",
              "      <td>0</td>\n",
              "      <td>8.77294e-10</td>\n",
              "      <td>2.89022e-13</td>\n",
              "      <td>2.25787e-16</td>\n",
              "      <td>[78, 15, 14, 14, 30, 206, 15, 239, 254, 231, 2...</td>\n",
              "      <td>[2.651726341841522e-05, 6.446716171716451e-06,...</td>\n",
              "      <td>0.0400248</td>\n",
              "      <td>-0.175007</td>\n",
              "      <td>-0.710022</td>\n",
              "      <td>0</td>\n",
              "      <td>4.44606e-10</td>\n",
              "      <td>-1.64066e-15</td>\n",
              "      <td>4.5267e-19</td>\n",
              "      <td>3.06151</td>\n",
              "      <td>6.97891e-05</td>\n",
              "    </tr>\n",
              "  </tbody>\n",
              "</table>\n",
              "</div>"
            ],
            "text/plain": [
              "   emotion     usage  ... Entropy_T      Range_T\n",
              "0        0  Training  ...   3.03636  7.63662e-05\n",
              "1        0  Training  ...   3.04624  7.29507e-05\n",
              "2        2  Training  ...   3.10652   0.00011382\n",
              "3        6  Training  ...   3.09737  6.62894e-05\n",
              "4        2  Training  ...   3.06151  6.97891e-05\n",
              "\n",
              "[5 rows x 37 columns]"
            ]
          },
          "metadata": {
            "tags": []
          },
          "execution_count": 66
        }
      ]
    },
    {
      "cell_type": "code",
      "metadata": {
        "colab": {
          "base_uri": "https://localhost:8080/"
        },
        "id": "gkWzljbl6TMU",
        "outputId": "f4e4b5ad-9b5d-44aa-857e-2c07d2085343"
      },
      "source": [
        "numeric = ['emotion','usage', 'pixels'] #'NormalizedShape', 'StabilityIndex_D', 'NormalizedTexture',\t'Skewness_D',\t'Kurtosis_D',\t'Entropy_D',\t'Range_D', 'StabilityIndex_S', 'Skewness_S',\t'Kurtosis_S',\t'Entropy_S',\t'Range_S',\t'Moment_D_1',\t'Moment_D_2',\t'Moment_D_3',\t'Moment_D_4',\t'Moment_S_1',\t'Moment_S_2',\t'Moment_S_3',\t'Moment_S_4',\t'StabilityIndex_T', \t'Skewness_T',\t'Kurtosis_T',\t'Moment_T_1',\t'Moment_T_2',\t'Moment_T_3',\t'Moment_T_4',\t'Entropy_T',\t'Range_T']\n",
        "dfO = df_[numeric]\n",
        "len(dfO.iloc[0, :])\n"
      ],
      "execution_count": null,
      "outputs": [
        {
          "output_type": "execute_result",
          "data": {
            "text/plain": [
              "3"
            ]
          },
          "metadata": {
            "tags": []
          },
          "execution_count": 176
        }
      ]
    },
    {
      "cell_type": "code",
      "metadata": {
        "colab": {
          "base_uri": "https://localhost:8080/"
        },
        "id": "yEvYjxm1w72g",
        "outputId": "27cff38d-ab7d-4557-cb20-c3e179c52aed"
      },
      "source": [
        "type(dfO['pixels'][0])"
      ],
      "execution_count": null,
      "outputs": [
        {
          "output_type": "execute_result",
          "data": {
            "text/plain": [
              "array([ 70,  80,  82, ..., 106, 109,  82])"
            ]
          },
          "metadata": {
            "tags": []
          },
          "execution_count": 184
        }
      ]
    },
    {
      "cell_type": "code",
      "metadata": {
        "id": "WWUq4JwgunWG"
      },
      "source": [
        "dfO =pd.DataFrame(df[df['distance'] != \"\"].copy())\n",
        "dfO.reset_index(inplace = True, drop = True) \n",
        "  "
      ],
      "execution_count": null,
      "outputs": []
    },
    {
      "cell_type": "code",
      "metadata": {
        "colab": {
          "base_uri": "https://localhost:8080/"
        },
        "id": "HrR-T3nwth0v",
        "outputId": "fd5ebe25-647e-4b7c-a738-e4916ec91942"
      },
      "source": [
        "dfO ['pixels'][0].shape"
      ],
      "execution_count": null,
      "outputs": [
        {
          "output_type": "execute_result",
          "data": {
            "text/plain": [
              "(48, 48)"
            ]
          },
          "metadata": {
            "tags": []
          },
          "execution_count": 188
        }
      ]
    },
    {
      "cell_type": "code",
      "metadata": {
        "id": "0oH-3REX-6Xp"
      },
      "source": [
        "#sc = StandardScaler()\n",
        "#dfO.iloc[:, 2:len(dfO.iloc[0, :])] = sc.fit_transform(dfO.iloc[:, 2:len(dfO.iloc[0, :])])\n",
        "numeric = ['emotion','usage', 'pixels'] #'NormalizedShape', 'StabilityIndex_D', 'NormalizedTexture',\t'Skewness_D',\t'Kurtosis_D',\t'Entropy_D',\t'Range_D', 'StabilityIndex_S', 'Skewness_S',\t'Kurtosis_S',\t'Entropy_S',\t'Range_S',\t'Moment_D_1',\t'Moment_D_2',\t'Moment_D_3',\t'Moment_D_4',\t'Moment_S_1',\t'Moment_S_2',\t'Moment_S_3',\t'Moment_S_4',\t'StabilityIndex_T', \t'Skewness_T',\t'Kurtosis_T',\t'Moment_T_1',\t'Moment_T_2',\t'Moment_T_3',\t'Moment_T_4',\t'Entropy_T',\t'Range_T']\n",
        "dfO = dfO[numeric]\n",
        "dfO_train = dfO.loc[dfG['usage'] == 'Training']\n",
        "dfO_test = dfO.loc[dfG['usage'] != 'Training']\n",
        "dfO_train_X = dfO_train.iloc[:, 2:len(dfG.iloc[0,])]\n",
        "dfO_train_Y = dfO_train.iloc[:, 0]\n",
        "dfO_test_X = dfO_test.iloc[:, 2:len(dfG.iloc[0,])]\n",
        "dfO_test_Y = dfO_test.iloc[:, 0]"
      ],
      "execution_count": null,
      "outputs": []
    },
    {
      "cell_type": "code",
      "metadata": {
        "id": "GdADrKvT-GyT"
      },
      "source": [
        "df_ = dfG.loc[dfG['usage'] == 'Training']\n",
        "dfG_test = dfG.loc[dfG['usage'] != 'Training']\n",
        "dfG_train_X = dfG_train.iloc[:, 2:len(dfG.iloc[0,])]\n",
        "dfG_train_Y = dfG_train.iloc[:, 0]\n",
        "dfG_test_X = dfG_test.iloc[:, 2:len(dfG.iloc[0,])]\n",
        "dfG_test_Y = dfG_test.iloc[:, 0]"
      ],
      "execution_count": null,
      "outputs": []
    },
    {
      "cell_type": "code",
      "metadata": {
        "colab": {
          "base_uri": "https://localhost:8080/"
        },
        "id": "CheG7YtRI693",
        "outputId": "56321a95-f3aa-465d-f5b5-718d1ca57522"
      },
      "source": [
        "dfG[\"Moment_S_4\"][0] * 10000000000000000"
      ],
      "execution_count": null,
      "outputs": [
        {
          "output_type": "execute_result",
          "data": {
            "text/plain": [
              "0.005499460026302929"
            ]
          },
          "metadata": {
            "tags": []
          },
          "execution_count": 201
        }
      ]
    },
    {
      "cell_type": "code",
      "metadata": {
        "id": "hYgvph7CXJV2"
      },
      "source": [
        "\n",
        "  classifier = Sequential()\n",
        "  classifier.add(Convolution2D(32, 3, 3, input_shape = (48, 48, 3), activation= activation))\n",
        "\n",
        "  #Max pooling\n",
        "  classifier.add(MaxPooling2D(pool_size=(2,2)))\n",
        "\n",
        "  # Flattening\n",
        "  classifier.add(Flatten())\n",
        "\n",
        "  #Full connection layers\n",
        "  classifier.add(Dense(units= 128, activation='relu', ))\n",
        "  classifier.add(Dense(units=  128, activation='relu', ))\n",
        "  classifier.add(Dense(units = 7, activation='softmax', ))\n",
        "\n",
        "  classifier.compile(optimizer='rmsprop', loss='categorical_crossentropy', metrics=['accuracy'])\n",
        "\n",
        "\n",
        "  classifier.fit(x = dfO_train_X, y = dfO_train_Y,\n",
        "                  batch_size = 32,\n",
        "                  steps_per_epoch=28709/32,\n",
        "                  epochs=30,\n",
        "                  validation_data=test_set,\n",
        "                  callbacks = [es])"
      ],
      "execution_count": null,
      "outputs": []
    },
    {
      "cell_type": "code",
      "metadata": {
        "id": "Fn-wO9M9R_c_"
      },
      "source": [
        "  #image ogmentation\n",
        "  train_datagen = ImageDataGenerator(\n",
        "          rescale=1./255,\n",
        "          shear_range=0.2,\n",
        "          zoom_range=0.2,\n",
        "          horizontal_flip=True)\n",
        "\n",
        "  test_datagen = ImageDataGenerator(rescale=1./255)\n",
        "\n",
        "  train_set = train_datagen.flow_from_directory( dfO_train_X,\n",
        "                                                  target_size=(48, 48),\n",
        "                                                  batch_size=32,\n",
        "                                                  class_mode=\"categorical\")\n",
        "\n",
        "  test_set = test_datagen.flow_from_directory('C:/Users/Antonio franco/.spyder-py3/dataset/test',\n",
        "                                              target_size=(48, 48),\n",
        "                                              batch_size=32,\n",
        "                                              class_mode=\"categorical\")"
      ],
      "execution_count": null,
      "outputs": []
    },
    {
      "cell_type": "code",
      "metadata": {
        "id": "NjzY0byyA8Cn"
      },
      "source": [
        "es = EarlyStopping(monitor= 'val_accuracy',\n",
        "                   mode ='max',\n",
        "                   patience = 5)"
      ],
      "execution_count": null,
      "outputs": []
    },
    {
      "cell_type": "code",
      "metadata": {
        "id": "SfoxBglAXKNf"
      },
      "source": [
        "classifier = Sequential()\n",
        "classifier.add(Input(shape=(27,)))\n",
        "classifier.add(Dense(256 , activation='relu'))\n",
        "classifier.add(LeakyReLU(alpha=0.5))\n",
        "classifier.add(Dense(1024 , activation='relu'))\n",
        "classifier.add(LeakyReLU(alpha=0.5))\n",
        "classifier.add(Dense(256 , activation='relu'))\n",
        "classifier.add(LeakyReLU(alpha=0.5))\n",
        "classifier.add(Dense(units = 7, activation='softmax', ))"
      ],
      "execution_count": null,
      "outputs": []
    },
    {
      "cell_type": "code",
      "metadata": {
        "id": "PDhWMuQCUF3M"
      },
      "source": [
        "y_train = tf.keras.utils.to_categorical(dfO_train_Y, 7)\n",
        "y_test = tf.keras.utils.to_categorical(dfO_test_Y, 7)"
      ],
      "execution_count": null,
      "outputs": []
    },
    {
      "cell_type": "code",
      "metadata": {
        "colab": {
          "base_uri": "https://localhost:8080/"
        },
        "id": "s9B5zNqVOeh4",
        "outputId": "8ff8a4f4-cccc-49eb-86f6-5088a49ff23c"
      },
      "source": [
        "len(dfO_train_X)"
      ],
      "execution_count": null,
      "outputs": [
        {
          "output_type": "execute_result",
          "data": {
            "text/plain": [
              "19984"
            ]
          },
          "metadata": {
            "tags": []
          },
          "execution_count": 122
        }
      ]
    },
    {
      "cell_type": "code",
      "metadata": {
        "colab": {
          "base_uri": "https://localhost:8080/",
          "height": 646
        },
        "id": "ZthIAsbeBBz3",
        "outputId": "78450b8d-b79a-485b-e27c-ec0bc7cff219"
      },
      "source": [
        "classifier.compile(optimizer='Adam', loss='categorical_crossentropy', metrics=['accuracy'])\n",
        "classifier.fit(x=dfO_train_X , y=y_train ,\n",
        "               batch_size = 32,\n",
        "                steps_per_epoch=len(dfO_train_X)/32,\n",
        "                epochs=100,\n",
        "                validation_data = (dfO_test_X , y_test), callbacks = [es])"
      ],
      "execution_count": null,
      "outputs": [
        {
          "output_type": "error",
          "ename": "ValueError",
          "evalue": "ignored",
          "traceback": [
            "\u001b[0;31m---------------------------------------------------------------------------\u001b[0m",
            "\u001b[0;31mTypeError\u001b[0m                                 Traceback (most recent call last)",
            "\u001b[0;32m/usr/local/lib/python3.7/dist-packages/tensorflow/python/data/util/structure.py\u001b[0m in \u001b[0;36mnormalize_element\u001b[0;34m(element, element_signature)\u001b[0m\n\u001b[1;32m    105\u001b[0m         \u001b[0;32mif\u001b[0m \u001b[0mspec\u001b[0m \u001b[0;32mis\u001b[0m \u001b[0;32mNone\u001b[0m\u001b[0;34m:\u001b[0m\u001b[0;34m\u001b[0m\u001b[0;34m\u001b[0m\u001b[0m\n\u001b[0;32m--> 106\u001b[0;31m           \u001b[0mspec\u001b[0m \u001b[0;34m=\u001b[0m \u001b[0mtype_spec_from_value\u001b[0m\u001b[0;34m(\u001b[0m\u001b[0mt\u001b[0m\u001b[0;34m,\u001b[0m \u001b[0muse_fallback\u001b[0m\u001b[0;34m=\u001b[0m\u001b[0;32mFalse\u001b[0m\u001b[0;34m)\u001b[0m\u001b[0;34m\u001b[0m\u001b[0;34m\u001b[0m\u001b[0m\n\u001b[0m\u001b[1;32m    107\u001b[0m       \u001b[0;32mexcept\u001b[0m \u001b[0mTypeError\u001b[0m\u001b[0;34m:\u001b[0m\u001b[0;34m\u001b[0m\u001b[0;34m\u001b[0m\u001b[0m\n",
            "\u001b[0;32m/usr/local/lib/python3.7/dist-packages/tensorflow/python/data/util/structure.py\u001b[0m in \u001b[0;36mtype_spec_from_value\u001b[0;34m(element, use_fallback)\u001b[0m\n\u001b[1;32m    479\u001b[0m   raise TypeError(\"Could not build a TypeSpec for %r with type %s\" %\n\u001b[0;32m--> 480\u001b[0;31m                   (element, type(element).__name__))\n\u001b[0m\u001b[1;32m    481\u001b[0m \u001b[0;34m\u001b[0m\u001b[0m\n",
            "\u001b[0;31mTypeError\u001b[0m: Could not build a TypeSpec for                                                   pixels\n0      [[70, 80, 82, 72, 58, 58, 60, 63, 54, 58, 60, ...\n1      [[151, 150, 147, 155, 148, 133, 111, 140, 170,...\n2      [[231, 212, 156, 164, 174, 138, 161, 173, 182,...\n3      [[4, 0, 0, 0, 0, 0, 0, 0, 0, 0, 0, 0, 3, 15, 2...\n4      [[55, 55, 55, 55, 55, 54, 60, 68, 54, 85, 151,...\n...                                                  ...\n19979  [[196, 194, 188, 177, 156, 124, 81, 60, 65, 64...\n19980  [[255, 255, 255, 255, 255, 255, 255, 203, 145,...\n19981  [[84, 85, 85, 85, 85, 85, 85, 85, 86, 86, 86, ...\n19982  [[222, 227, 203, 90, 86, 90, 84, 77, 94, 87, 9...\n19983  [[195, 199, 205, 206, 205, 203, 206, 209, 208,...\n\n[19984 rows x 1 columns] with type DataFrame",
            "\nDuring handling of the above exception, another exception occurred:\n",
            "\u001b[0;31mValueError\u001b[0m                                Traceback (most recent call last)",
            "\u001b[0;32m<ipython-input-191-eb5cced1fb86>\u001b[0m in \u001b[0;36m<module>\u001b[0;34m()\u001b[0m\n\u001b[1;32m      4\u001b[0m                 \u001b[0msteps_per_epoch\u001b[0m\u001b[0;34m=\u001b[0m\u001b[0mlen\u001b[0m\u001b[0;34m(\u001b[0m\u001b[0mdfO_train_X\u001b[0m\u001b[0;34m)\u001b[0m\u001b[0;34m/\u001b[0m\u001b[0;36m32\u001b[0m\u001b[0;34m,\u001b[0m\u001b[0;34m\u001b[0m\u001b[0;34m\u001b[0m\u001b[0m\n\u001b[1;32m      5\u001b[0m                 \u001b[0mepochs\u001b[0m\u001b[0;34m=\u001b[0m\u001b[0;36m100\u001b[0m\u001b[0;34m,\u001b[0m\u001b[0;34m\u001b[0m\u001b[0;34m\u001b[0m\u001b[0m\n\u001b[0;32m----> 6\u001b[0;31m                 validation_data = (dfO_test_X , y_test), callbacks = [es])\n\u001b[0m",
            "\u001b[0;32m/usr/local/lib/python3.7/dist-packages/tensorflow/python/keras/engine/training.py\u001b[0m in \u001b[0;36mfit\u001b[0;34m(self, x, y, batch_size, epochs, verbose, callbacks, validation_split, validation_data, shuffle, class_weight, sample_weight, initial_epoch, steps_per_epoch, validation_steps, validation_batch_size, validation_freq, max_queue_size, workers, use_multiprocessing)\u001b[0m\n\u001b[1;32m   1062\u001b[0m           \u001b[0muse_multiprocessing\u001b[0m\u001b[0;34m=\u001b[0m\u001b[0muse_multiprocessing\u001b[0m\u001b[0;34m,\u001b[0m\u001b[0;34m\u001b[0m\u001b[0;34m\u001b[0m\u001b[0m\n\u001b[1;32m   1063\u001b[0m           \u001b[0mmodel\u001b[0m\u001b[0;34m=\u001b[0m\u001b[0mself\u001b[0m\u001b[0;34m,\u001b[0m\u001b[0;34m\u001b[0m\u001b[0;34m\u001b[0m\u001b[0m\n\u001b[0;32m-> 1064\u001b[0;31m           steps_per_execution=self._steps_per_execution)\n\u001b[0m\u001b[1;32m   1065\u001b[0m \u001b[0;34m\u001b[0m\u001b[0m\n\u001b[1;32m   1066\u001b[0m       \u001b[0;31m# Container that configures and calls `tf.keras.Callback`s.\u001b[0m\u001b[0;34m\u001b[0m\u001b[0;34m\u001b[0m\u001b[0;34m\u001b[0m\u001b[0m\n",
            "\u001b[0;32m/usr/local/lib/python3.7/dist-packages/tensorflow/python/keras/engine/data_adapter.py\u001b[0m in \u001b[0;36m__init__\u001b[0;34m(self, x, y, sample_weight, batch_size, steps_per_epoch, initial_epoch, epochs, shuffle, class_weight, max_queue_size, workers, use_multiprocessing, model, steps_per_execution)\u001b[0m\n\u001b[1;32m   1110\u001b[0m         \u001b[0muse_multiprocessing\u001b[0m\u001b[0;34m=\u001b[0m\u001b[0muse_multiprocessing\u001b[0m\u001b[0;34m,\u001b[0m\u001b[0;34m\u001b[0m\u001b[0;34m\u001b[0m\u001b[0m\n\u001b[1;32m   1111\u001b[0m         \u001b[0mdistribution_strategy\u001b[0m\u001b[0;34m=\u001b[0m\u001b[0mds_context\u001b[0m\u001b[0;34m.\u001b[0m\u001b[0mget_strategy\u001b[0m\u001b[0;34m(\u001b[0m\u001b[0;34m)\u001b[0m\u001b[0;34m,\u001b[0m\u001b[0;34m\u001b[0m\u001b[0;34m\u001b[0m\u001b[0m\n\u001b[0;32m-> 1112\u001b[0;31m         model=model)\n\u001b[0m\u001b[1;32m   1113\u001b[0m \u001b[0;34m\u001b[0m\u001b[0m\n\u001b[1;32m   1114\u001b[0m     \u001b[0mstrategy\u001b[0m \u001b[0;34m=\u001b[0m \u001b[0mds_context\u001b[0m\u001b[0;34m.\u001b[0m\u001b[0mget_strategy\u001b[0m\u001b[0;34m(\u001b[0m\u001b[0;34m)\u001b[0m\u001b[0;34m\u001b[0m\u001b[0;34m\u001b[0m\u001b[0m\n",
            "\u001b[0;32m/usr/local/lib/python3.7/dist-packages/tensorflow/python/keras/engine/data_adapter.py\u001b[0m in \u001b[0;36m__init__\u001b[0;34m(self, x, y, sample_weights, sample_weight_modes, batch_size, epochs, steps, shuffle, **kwargs)\u001b[0m\n\u001b[1;32m    353\u001b[0m     \u001b[0mindices_dataset\u001b[0m \u001b[0;34m=\u001b[0m \u001b[0mindices_dataset\u001b[0m\u001b[0;34m.\u001b[0m\u001b[0mflat_map\u001b[0m\u001b[0;34m(\u001b[0m\u001b[0mslice_batch_indices\u001b[0m\u001b[0;34m)\u001b[0m\u001b[0;34m\u001b[0m\u001b[0;34m\u001b[0m\u001b[0m\n\u001b[1;32m    354\u001b[0m \u001b[0;34m\u001b[0m\u001b[0m\n\u001b[0;32m--> 355\u001b[0;31m     \u001b[0mdataset\u001b[0m \u001b[0;34m=\u001b[0m \u001b[0mself\u001b[0m\u001b[0;34m.\u001b[0m\u001b[0mslice_inputs\u001b[0m\u001b[0;34m(\u001b[0m\u001b[0mindices_dataset\u001b[0m\u001b[0;34m,\u001b[0m \u001b[0minputs\u001b[0m\u001b[0;34m)\u001b[0m\u001b[0;34m\u001b[0m\u001b[0;34m\u001b[0m\u001b[0m\n\u001b[0m\u001b[1;32m    356\u001b[0m \u001b[0;34m\u001b[0m\u001b[0m\n\u001b[1;32m    357\u001b[0m     \u001b[0;32mif\u001b[0m \u001b[0mshuffle\u001b[0m \u001b[0;34m==\u001b[0m \u001b[0;34m\"batch\"\u001b[0m\u001b[0;34m:\u001b[0m\u001b[0;34m\u001b[0m\u001b[0;34m\u001b[0m\u001b[0m\n",
            "\u001b[0;32m/usr/local/lib/python3.7/dist-packages/tensorflow/python/keras/engine/data_adapter.py\u001b[0m in \u001b[0;36mslice_inputs\u001b[0;34m(self, indices_dataset, inputs)\u001b[0m\n\u001b[1;32m    379\u001b[0m     dataset = dataset_ops.DatasetV2.zip((\n\u001b[1;32m    380\u001b[0m         \u001b[0mindices_dataset\u001b[0m\u001b[0;34m,\u001b[0m\u001b[0;34m\u001b[0m\u001b[0;34m\u001b[0m\u001b[0m\n\u001b[0;32m--> 381\u001b[0;31m         \u001b[0mdataset_ops\u001b[0m\u001b[0;34m.\u001b[0m\u001b[0mDatasetV2\u001b[0m\u001b[0;34m.\u001b[0m\u001b[0mfrom_tensors\u001b[0m\u001b[0;34m(\u001b[0m\u001b[0minputs\u001b[0m\u001b[0;34m)\u001b[0m\u001b[0;34m.\u001b[0m\u001b[0mrepeat\u001b[0m\u001b[0;34m(\u001b[0m\u001b[0;34m)\u001b[0m\u001b[0;34m\u001b[0m\u001b[0;34m\u001b[0m\u001b[0m\n\u001b[0m\u001b[1;32m    382\u001b[0m     ))\n\u001b[1;32m    383\u001b[0m \u001b[0;34m\u001b[0m\u001b[0m\n",
            "\u001b[0;32m/usr/local/lib/python3.7/dist-packages/tensorflow/python/data/ops/dataset_ops.py\u001b[0m in \u001b[0;36mfrom_tensors\u001b[0;34m(tensors)\u001b[0m\n\u001b[1;32m    611\u001b[0m       \u001b[0mDataset\u001b[0m\u001b[0;34m:\u001b[0m \u001b[0mA\u001b[0m\u001b[0;31m \u001b[0m\u001b[0;31m`\u001b[0m\u001b[0mDataset\u001b[0m\u001b[0;31m`\u001b[0m\u001b[0;34m.\u001b[0m\u001b[0;34m\u001b[0m\u001b[0;34m\u001b[0m\u001b[0m\n\u001b[1;32m    612\u001b[0m     \"\"\"\n\u001b[0;32m--> 613\u001b[0;31m     \u001b[0;32mreturn\u001b[0m \u001b[0mTensorDataset\u001b[0m\u001b[0;34m(\u001b[0m\u001b[0mtensors\u001b[0m\u001b[0;34m)\u001b[0m\u001b[0;34m\u001b[0m\u001b[0;34m\u001b[0m\u001b[0m\n\u001b[0m\u001b[1;32m    614\u001b[0m \u001b[0;34m\u001b[0m\u001b[0m\n\u001b[1;32m    615\u001b[0m   \u001b[0;34m@\u001b[0m\u001b[0mstaticmethod\u001b[0m\u001b[0;34m\u001b[0m\u001b[0;34m\u001b[0m\u001b[0m\n",
            "\u001b[0;32m/usr/local/lib/python3.7/dist-packages/tensorflow/python/data/ops/dataset_ops.py\u001b[0m in \u001b[0;36m__init__\u001b[0;34m(self, element)\u001b[0m\n\u001b[1;32m   3134\u001b[0m   \u001b[0;32mdef\u001b[0m \u001b[0m__init__\u001b[0m\u001b[0;34m(\u001b[0m\u001b[0mself\u001b[0m\u001b[0;34m,\u001b[0m \u001b[0melement\u001b[0m\u001b[0;34m)\u001b[0m\u001b[0;34m:\u001b[0m\u001b[0;34m\u001b[0m\u001b[0;34m\u001b[0m\u001b[0m\n\u001b[1;32m   3135\u001b[0m     \u001b[0;34m\"\"\"See `Dataset.from_tensors()` for details.\"\"\"\u001b[0m\u001b[0;34m\u001b[0m\u001b[0;34m\u001b[0m\u001b[0m\n\u001b[0;32m-> 3136\u001b[0;31m     \u001b[0melement\u001b[0m \u001b[0;34m=\u001b[0m \u001b[0mstructure\u001b[0m\u001b[0;34m.\u001b[0m\u001b[0mnormalize_element\u001b[0m\u001b[0;34m(\u001b[0m\u001b[0melement\u001b[0m\u001b[0;34m)\u001b[0m\u001b[0;34m\u001b[0m\u001b[0;34m\u001b[0m\u001b[0m\n\u001b[0m\u001b[1;32m   3137\u001b[0m     \u001b[0mself\u001b[0m\u001b[0;34m.\u001b[0m\u001b[0m_structure\u001b[0m \u001b[0;34m=\u001b[0m \u001b[0mstructure\u001b[0m\u001b[0;34m.\u001b[0m\u001b[0mtype_spec_from_value\u001b[0m\u001b[0;34m(\u001b[0m\u001b[0melement\u001b[0m\u001b[0;34m)\u001b[0m\u001b[0;34m\u001b[0m\u001b[0;34m\u001b[0m\u001b[0m\n\u001b[1;32m   3138\u001b[0m     \u001b[0mself\u001b[0m\u001b[0;34m.\u001b[0m\u001b[0m_tensors\u001b[0m \u001b[0;34m=\u001b[0m \u001b[0mstructure\u001b[0m\u001b[0;34m.\u001b[0m\u001b[0mto_tensor_list\u001b[0m\u001b[0;34m(\u001b[0m\u001b[0mself\u001b[0m\u001b[0;34m.\u001b[0m\u001b[0m_structure\u001b[0m\u001b[0;34m,\u001b[0m \u001b[0melement\u001b[0m\u001b[0;34m)\u001b[0m\u001b[0;34m\u001b[0m\u001b[0;34m\u001b[0m\u001b[0m\n",
            "\u001b[0;32m/usr/local/lib/python3.7/dist-packages/tensorflow/python/data/util/structure.py\u001b[0m in \u001b[0;36mnormalize_element\u001b[0;34m(element, element_signature)\u001b[0m\n\u001b[1;32m    109\u001b[0m         \u001b[0;31m# the value. As a fallback try converting the value to a tensor.\u001b[0m\u001b[0;34m\u001b[0m\u001b[0;34m\u001b[0m\u001b[0;34m\u001b[0m\u001b[0m\n\u001b[1;32m    110\u001b[0m         normalized_components.append(\n\u001b[0;32m--> 111\u001b[0;31m             ops.convert_to_tensor(t, name=\"component_%d\" % i))\n\u001b[0m\u001b[1;32m    112\u001b[0m       \u001b[0;32melse\u001b[0m\u001b[0;34m:\u001b[0m\u001b[0;34m\u001b[0m\u001b[0;34m\u001b[0m\u001b[0m\n\u001b[1;32m    113\u001b[0m         \u001b[0;32mif\u001b[0m \u001b[0misinstance\u001b[0m\u001b[0;34m(\u001b[0m\u001b[0mspec\u001b[0m\u001b[0;34m,\u001b[0m \u001b[0msparse_tensor\u001b[0m\u001b[0;34m.\u001b[0m\u001b[0mSparseTensorSpec\u001b[0m\u001b[0;34m)\u001b[0m\u001b[0;34m:\u001b[0m\u001b[0;34m\u001b[0m\u001b[0;34m\u001b[0m\u001b[0m\n",
            "\u001b[0;32m/usr/local/lib/python3.7/dist-packages/tensorflow/python/profiler/trace.py\u001b[0m in \u001b[0;36mwrapped\u001b[0;34m(*args, **kwargs)\u001b[0m\n\u001b[1;32m    161\u001b[0m         \u001b[0;32mwith\u001b[0m \u001b[0mTrace\u001b[0m\u001b[0;34m(\u001b[0m\u001b[0mtrace_name\u001b[0m\u001b[0;34m,\u001b[0m \u001b[0;34m**\u001b[0m\u001b[0mtrace_kwargs\u001b[0m\u001b[0;34m)\u001b[0m\u001b[0;34m:\u001b[0m\u001b[0;34m\u001b[0m\u001b[0;34m\u001b[0m\u001b[0m\n\u001b[1;32m    162\u001b[0m           \u001b[0;32mreturn\u001b[0m \u001b[0mfunc\u001b[0m\u001b[0;34m(\u001b[0m\u001b[0;34m*\u001b[0m\u001b[0margs\u001b[0m\u001b[0;34m,\u001b[0m \u001b[0;34m**\u001b[0m\u001b[0mkwargs\u001b[0m\u001b[0;34m)\u001b[0m\u001b[0;34m\u001b[0m\u001b[0;34m\u001b[0m\u001b[0m\n\u001b[0;32m--> 163\u001b[0;31m       \u001b[0;32mreturn\u001b[0m \u001b[0mfunc\u001b[0m\u001b[0;34m(\u001b[0m\u001b[0;34m*\u001b[0m\u001b[0margs\u001b[0m\u001b[0;34m,\u001b[0m \u001b[0;34m**\u001b[0m\u001b[0mkwargs\u001b[0m\u001b[0;34m)\u001b[0m\u001b[0;34m\u001b[0m\u001b[0;34m\u001b[0m\u001b[0m\n\u001b[0m\u001b[1;32m    164\u001b[0m \u001b[0;34m\u001b[0m\u001b[0m\n\u001b[1;32m    165\u001b[0m     \u001b[0;32mreturn\u001b[0m \u001b[0mwrapped\u001b[0m\u001b[0;34m\u001b[0m\u001b[0;34m\u001b[0m\u001b[0m\n",
            "\u001b[0;32m/usr/local/lib/python3.7/dist-packages/tensorflow/python/framework/ops.py\u001b[0m in \u001b[0;36mconvert_to_tensor\u001b[0;34m(value, dtype, name, as_ref, preferred_dtype, dtype_hint, ctx, accepted_result_types)\u001b[0m\n\u001b[1;32m   1538\u001b[0m \u001b[0;34m\u001b[0m\u001b[0m\n\u001b[1;32m   1539\u001b[0m     \u001b[0;32mif\u001b[0m \u001b[0mret\u001b[0m \u001b[0;32mis\u001b[0m \u001b[0;32mNone\u001b[0m\u001b[0;34m:\u001b[0m\u001b[0;34m\u001b[0m\u001b[0;34m\u001b[0m\u001b[0m\n\u001b[0;32m-> 1540\u001b[0;31m       \u001b[0mret\u001b[0m \u001b[0;34m=\u001b[0m \u001b[0mconversion_func\u001b[0m\u001b[0;34m(\u001b[0m\u001b[0mvalue\u001b[0m\u001b[0;34m,\u001b[0m \u001b[0mdtype\u001b[0m\u001b[0;34m=\u001b[0m\u001b[0mdtype\u001b[0m\u001b[0;34m,\u001b[0m \u001b[0mname\u001b[0m\u001b[0;34m=\u001b[0m\u001b[0mname\u001b[0m\u001b[0;34m,\u001b[0m \u001b[0mas_ref\u001b[0m\u001b[0;34m=\u001b[0m\u001b[0mas_ref\u001b[0m\u001b[0;34m)\u001b[0m\u001b[0;34m\u001b[0m\u001b[0;34m\u001b[0m\u001b[0m\n\u001b[0m\u001b[1;32m   1541\u001b[0m \u001b[0;34m\u001b[0m\u001b[0m\n\u001b[1;32m   1542\u001b[0m     \u001b[0;32mif\u001b[0m \u001b[0mret\u001b[0m \u001b[0;32mis\u001b[0m \u001b[0mNotImplemented\u001b[0m\u001b[0;34m:\u001b[0m\u001b[0;34m\u001b[0m\u001b[0;34m\u001b[0m\u001b[0m\n",
            "\u001b[0;32m/usr/local/lib/python3.7/dist-packages/tensorflow/python/framework/constant_op.py\u001b[0m in \u001b[0;36m_constant_tensor_conversion_function\u001b[0;34m(v, dtype, name, as_ref)\u001b[0m\n\u001b[1;32m    337\u001b[0m                                          as_ref=False):\n\u001b[1;32m    338\u001b[0m   \u001b[0m_\u001b[0m \u001b[0;34m=\u001b[0m \u001b[0mas_ref\u001b[0m\u001b[0;34m\u001b[0m\u001b[0;34m\u001b[0m\u001b[0m\n\u001b[0;32m--> 339\u001b[0;31m   \u001b[0;32mreturn\u001b[0m \u001b[0mconstant\u001b[0m\u001b[0;34m(\u001b[0m\u001b[0mv\u001b[0m\u001b[0;34m,\u001b[0m \u001b[0mdtype\u001b[0m\u001b[0;34m=\u001b[0m\u001b[0mdtype\u001b[0m\u001b[0;34m,\u001b[0m \u001b[0mname\u001b[0m\u001b[0;34m=\u001b[0m\u001b[0mname\u001b[0m\u001b[0;34m)\u001b[0m\u001b[0;34m\u001b[0m\u001b[0;34m\u001b[0m\u001b[0m\n\u001b[0m\u001b[1;32m    340\u001b[0m \u001b[0;34m\u001b[0m\u001b[0m\n\u001b[1;32m    341\u001b[0m \u001b[0;34m\u001b[0m\u001b[0m\n",
            "\u001b[0;32m/usr/local/lib/python3.7/dist-packages/tensorflow/python/framework/constant_op.py\u001b[0m in \u001b[0;36mconstant\u001b[0;34m(value, dtype, shape, name)\u001b[0m\n\u001b[1;32m    263\u001b[0m   \"\"\"\n\u001b[1;32m    264\u001b[0m   return _constant_impl(value, dtype, shape, name, verify_shape=False,\n\u001b[0;32m--> 265\u001b[0;31m                         allow_broadcast=True)\n\u001b[0m\u001b[1;32m    266\u001b[0m \u001b[0;34m\u001b[0m\u001b[0m\n\u001b[1;32m    267\u001b[0m \u001b[0;34m\u001b[0m\u001b[0m\n",
            "\u001b[0;32m/usr/local/lib/python3.7/dist-packages/tensorflow/python/framework/constant_op.py\u001b[0m in \u001b[0;36m_constant_impl\u001b[0;34m(value, dtype, shape, name, verify_shape, allow_broadcast)\u001b[0m\n\u001b[1;32m    274\u001b[0m       \u001b[0;32mwith\u001b[0m \u001b[0mtrace\u001b[0m\u001b[0;34m.\u001b[0m\u001b[0mTrace\u001b[0m\u001b[0;34m(\u001b[0m\u001b[0;34m\"tf.constant\"\u001b[0m\u001b[0;34m)\u001b[0m\u001b[0;34m:\u001b[0m\u001b[0;34m\u001b[0m\u001b[0;34m\u001b[0m\u001b[0m\n\u001b[1;32m    275\u001b[0m         \u001b[0;32mreturn\u001b[0m \u001b[0m_constant_eager_impl\u001b[0m\u001b[0;34m(\u001b[0m\u001b[0mctx\u001b[0m\u001b[0;34m,\u001b[0m \u001b[0mvalue\u001b[0m\u001b[0;34m,\u001b[0m \u001b[0mdtype\u001b[0m\u001b[0;34m,\u001b[0m \u001b[0mshape\u001b[0m\u001b[0;34m,\u001b[0m \u001b[0mverify_shape\u001b[0m\u001b[0;34m)\u001b[0m\u001b[0;34m\u001b[0m\u001b[0;34m\u001b[0m\u001b[0m\n\u001b[0;32m--> 276\u001b[0;31m     \u001b[0;32mreturn\u001b[0m \u001b[0m_constant_eager_impl\u001b[0m\u001b[0;34m(\u001b[0m\u001b[0mctx\u001b[0m\u001b[0;34m,\u001b[0m \u001b[0mvalue\u001b[0m\u001b[0;34m,\u001b[0m \u001b[0mdtype\u001b[0m\u001b[0;34m,\u001b[0m \u001b[0mshape\u001b[0m\u001b[0;34m,\u001b[0m \u001b[0mverify_shape\u001b[0m\u001b[0;34m)\u001b[0m\u001b[0;34m\u001b[0m\u001b[0;34m\u001b[0m\u001b[0m\n\u001b[0m\u001b[1;32m    277\u001b[0m \u001b[0;34m\u001b[0m\u001b[0m\n\u001b[1;32m    278\u001b[0m   \u001b[0mg\u001b[0m \u001b[0;34m=\u001b[0m \u001b[0mops\u001b[0m\u001b[0;34m.\u001b[0m\u001b[0mget_default_graph\u001b[0m\u001b[0;34m(\u001b[0m\u001b[0;34m)\u001b[0m\u001b[0;34m\u001b[0m\u001b[0;34m\u001b[0m\u001b[0m\n",
            "\u001b[0;32m/usr/local/lib/python3.7/dist-packages/tensorflow/python/framework/constant_op.py\u001b[0m in \u001b[0;36m_constant_eager_impl\u001b[0;34m(ctx, value, dtype, shape, verify_shape)\u001b[0m\n\u001b[1;32m    299\u001b[0m \u001b[0;32mdef\u001b[0m \u001b[0m_constant_eager_impl\u001b[0m\u001b[0;34m(\u001b[0m\u001b[0mctx\u001b[0m\u001b[0;34m,\u001b[0m \u001b[0mvalue\u001b[0m\u001b[0;34m,\u001b[0m \u001b[0mdtype\u001b[0m\u001b[0;34m,\u001b[0m \u001b[0mshape\u001b[0m\u001b[0;34m,\u001b[0m \u001b[0mverify_shape\u001b[0m\u001b[0;34m)\u001b[0m\u001b[0;34m:\u001b[0m\u001b[0;34m\u001b[0m\u001b[0;34m\u001b[0m\u001b[0m\n\u001b[1;32m    300\u001b[0m   \u001b[0;34m\"\"\"Implementation of eager constant.\"\"\"\u001b[0m\u001b[0;34m\u001b[0m\u001b[0;34m\u001b[0m\u001b[0m\n\u001b[0;32m--> 301\u001b[0;31m   \u001b[0mt\u001b[0m \u001b[0;34m=\u001b[0m \u001b[0mconvert_to_eager_tensor\u001b[0m\u001b[0;34m(\u001b[0m\u001b[0mvalue\u001b[0m\u001b[0;34m,\u001b[0m \u001b[0mctx\u001b[0m\u001b[0;34m,\u001b[0m \u001b[0mdtype\u001b[0m\u001b[0;34m)\u001b[0m\u001b[0;34m\u001b[0m\u001b[0;34m\u001b[0m\u001b[0m\n\u001b[0m\u001b[1;32m    302\u001b[0m   \u001b[0;32mif\u001b[0m \u001b[0mshape\u001b[0m \u001b[0;32mis\u001b[0m \u001b[0;32mNone\u001b[0m\u001b[0;34m:\u001b[0m\u001b[0;34m\u001b[0m\u001b[0;34m\u001b[0m\u001b[0m\n\u001b[1;32m    303\u001b[0m     \u001b[0;32mreturn\u001b[0m \u001b[0mt\u001b[0m\u001b[0;34m\u001b[0m\u001b[0;34m\u001b[0m\u001b[0m\n",
            "\u001b[0;32m/usr/local/lib/python3.7/dist-packages/tensorflow/python/framework/constant_op.py\u001b[0m in \u001b[0;36mconvert_to_eager_tensor\u001b[0;34m(value, ctx, dtype)\u001b[0m\n\u001b[1;32m     96\u001b[0m       \u001b[0mdtype\u001b[0m \u001b[0;34m=\u001b[0m \u001b[0mdtypes\u001b[0m\u001b[0;34m.\u001b[0m\u001b[0mas_dtype\u001b[0m\u001b[0;34m(\u001b[0m\u001b[0mdtype\u001b[0m\u001b[0;34m)\u001b[0m\u001b[0;34m.\u001b[0m\u001b[0mas_datatype_enum\u001b[0m\u001b[0;34m\u001b[0m\u001b[0;34m\u001b[0m\u001b[0m\n\u001b[1;32m     97\u001b[0m   \u001b[0mctx\u001b[0m\u001b[0;34m.\u001b[0m\u001b[0mensure_initialized\u001b[0m\u001b[0;34m(\u001b[0m\u001b[0;34m)\u001b[0m\u001b[0;34m\u001b[0m\u001b[0;34m\u001b[0m\u001b[0m\n\u001b[0;32m---> 98\u001b[0;31m   \u001b[0;32mreturn\u001b[0m \u001b[0mops\u001b[0m\u001b[0;34m.\u001b[0m\u001b[0mEagerTensor\u001b[0m\u001b[0;34m(\u001b[0m\u001b[0mvalue\u001b[0m\u001b[0;34m,\u001b[0m \u001b[0mctx\u001b[0m\u001b[0;34m.\u001b[0m\u001b[0mdevice_name\u001b[0m\u001b[0;34m,\u001b[0m \u001b[0mdtype\u001b[0m\u001b[0;34m)\u001b[0m\u001b[0;34m\u001b[0m\u001b[0;34m\u001b[0m\u001b[0m\n\u001b[0m\u001b[1;32m     99\u001b[0m \u001b[0;34m\u001b[0m\u001b[0m\n\u001b[1;32m    100\u001b[0m \u001b[0;34m\u001b[0m\u001b[0m\n",
            "\u001b[0;31mValueError\u001b[0m: Failed to convert a NumPy array to a Tensor (Unsupported object type numpy.ndarray)."
          ]
        }
      ]
    },
    {
      "cell_type": "code",
      "metadata": {
        "colab": {
          "base_uri": "https://localhost:8080/"
        },
        "id": "HjnDXMTmDouL",
        "outputId": "5179b028-5e75-4726-b342-38cfe1dde9a6"
      },
      "source": [
        "!pip install pyneurgen"
      ],
      "execution_count": null,
      "outputs": [
        {
          "output_type": "stream",
          "text": [
            "Collecting pyneurgen\n",
            "\u001b[?25l  Downloading https://files.pythonhosted.org/packages/df/3a/21a7d310c3acb28c9a26b0a78a6b52d7ee00294ad19f65735dd4e8a6a887/pyneurgen-0.3.1.tar.gz (581kB)\n",
            "\r\u001b[K     |▋                               | 10kB 17.4MB/s eta 0:00:01\r\u001b[K     |█▏                              | 20kB 25.3MB/s eta 0:00:01\r\u001b[K     |█▊                              | 30kB 29.4MB/s eta 0:00:01\r\u001b[K     |██▎                             | 40kB 19.9MB/s eta 0:00:01\r\u001b[K     |██▉                             | 51kB 16.8MB/s eta 0:00:01\r\u001b[K     |███▍                            | 61kB 19.1MB/s eta 0:00:01\r\u001b[K     |████                            | 71kB 16.0MB/s eta 0:00:01\r\u001b[K     |████▌                           | 81kB 13.5MB/s eta 0:00:01\r\u001b[K     |█████                           | 92kB 14.2MB/s eta 0:00:01\r\u001b[K     |█████▋                          | 102kB 12.5MB/s eta 0:00:01\r\u001b[K     |██████▏                         | 112kB 12.5MB/s eta 0:00:01\r\u001b[K     |██████▊                         | 122kB 12.5MB/s eta 0:00:01\r\u001b[K     |███████▎                        | 133kB 12.5MB/s eta 0:00:01\r\u001b[K     |████████                        | 143kB 12.5MB/s eta 0:00:01\r\u001b[K     |████████▌                       | 153kB 12.5MB/s eta 0:00:01\r\u001b[K     |█████████                       | 163kB 12.5MB/s eta 0:00:01\r\u001b[K     |█████████▋                      | 174kB 12.5MB/s eta 0:00:01\r\u001b[K     |██████████▏                     | 184kB 12.5MB/s eta 0:00:01\r\u001b[K     |██████████▊                     | 194kB 12.5MB/s eta 0:00:01\r\u001b[K     |███████████▎                    | 204kB 12.5MB/s eta 0:00:01\r\u001b[K     |███████████▉                    | 215kB 12.5MB/s eta 0:00:01\r\u001b[K     |████████████▍                   | 225kB 12.5MB/s eta 0:00:01\r\u001b[K     |█████████████                   | 235kB 12.5MB/s eta 0:00:01\r\u001b[K     |█████████████▌                  | 245kB 12.5MB/s eta 0:00:01\r\u001b[K     |██████████████                  | 256kB 12.5MB/s eta 0:00:01\r\u001b[K     |██████████████▋                 | 266kB 12.5MB/s eta 0:00:01\r\u001b[K     |███████████████▏                | 276kB 12.5MB/s eta 0:00:01\r\u001b[K     |███████████████▉                | 286kB 12.5MB/s eta 0:00:01\r\u001b[K     |████████████████▍               | 296kB 12.5MB/s eta 0:00:01\r\u001b[K     |█████████████████               | 307kB 12.5MB/s eta 0:00:01\r\u001b[K     |█████████████████▌              | 317kB 12.5MB/s eta 0:00:01\r\u001b[K     |██████████████████              | 327kB 12.5MB/s eta 0:00:01\r\u001b[K     |██████████████████▋             | 337kB 12.5MB/s eta 0:00:01\r\u001b[K     |███████████████████▏            | 348kB 12.5MB/s eta 0:00:01\r\u001b[K     |███████████████████▊            | 358kB 12.5MB/s eta 0:00:01\r\u001b[K     |████████████████████▎           | 368kB 12.5MB/s eta 0:00:01\r\u001b[K     |████████████████████▉           | 378kB 12.5MB/s eta 0:00:01\r\u001b[K     |█████████████████████▍          | 389kB 12.5MB/s eta 0:00:01\r\u001b[K     |██████████████████████          | 399kB 12.5MB/s eta 0:00:01\r\u001b[K     |██████████████████████▌         | 409kB 12.5MB/s eta 0:00:01\r\u001b[K     |███████████████████████         | 419kB 12.5MB/s eta 0:00:01\r\u001b[K     |███████████████████████▊        | 430kB 12.5MB/s eta 0:00:01\r\u001b[K     |████████████████████████▎       | 440kB 12.5MB/s eta 0:00:01\r\u001b[K     |████████████████████████▉       | 450kB 12.5MB/s eta 0:00:01\r\u001b[K     |█████████████████████████▍      | 460kB 12.5MB/s eta 0:00:01\r\u001b[K     |██████████████████████████      | 471kB 12.5MB/s eta 0:00:01\r\u001b[K     |██████████████████████████▌     | 481kB 12.5MB/s eta 0:00:01\r\u001b[K     |███████████████████████████     | 491kB 12.5MB/s eta 0:00:01\r\u001b[K     |███████████████████████████▋    | 501kB 12.5MB/s eta 0:00:01\r\u001b[K     |████████████████████████████▏   | 512kB 12.5MB/s eta 0:00:01\r\u001b[K     |████████████████████████████▊   | 522kB 12.5MB/s eta 0:00:01\r\u001b[K     |█████████████████████████████▎  | 532kB 12.5MB/s eta 0:00:01\r\u001b[K     |█████████████████████████████▉  | 542kB 12.5MB/s eta 0:00:01\r\u001b[K     |██████████████████████████████▍ | 552kB 12.5MB/s eta 0:00:01\r\u001b[K     |███████████████████████████████ | 563kB 12.5MB/s eta 0:00:01\r\u001b[K     |███████████████████████████████▋| 573kB 12.5MB/s eta 0:00:01\r\u001b[K     |████████████████████████████████| 583kB 12.5MB/s \n",
            "\u001b[?25hBuilding wheels for collected packages: pyneurgen\n",
            "  Building wheel for pyneurgen (setup.py) ... \u001b[?25l\u001b[?25hdone\n",
            "  Created wheel for pyneurgen: filename=pyneurgen-0.3.1-cp37-none-any.whl size=43733 sha256=5c8466e0ec0e03176a7180541c34363273ed44c5f0862e900b0ac63dde2453ea\n",
            "  Stored in directory: /root/.cache/pip/wheels/34/85/2c/f272a1128673bb701853306cf5a543e8208581f7ccd8e105df\n",
            "Successfully built pyneurgen\n",
            "Installing collected packages: pyneurgen\n",
            "Successfully installed pyneurgen-0.3.1\n"
          ],
          "name": "stdout"
        }
      ]
    },
    {
      "cell_type": "code",
      "metadata": {
        "colab": {
          "base_uri": "https://localhost:8080/",
          "height": 129
        },
        "id": "SaDRgXJAshBo",
        "outputId": "bda88247-daf4-44b2-f79a-3068fdb661b8"
      },
      "source": [
        "from pyneurgen.recurrent import NARXRecurrent\n",
        "...\n",
        "#   NARXRecurrent\n",
        "input_nodes = 27\n",
        "hidden_nodes = 64\n",
        "output_nodes = 7\n",
        "\n",
        "output_order = 3\n",
        "incoming_weight_from_output = .6\n",
        "input_order = 2\n",
        "incoming_weight_from_input = .4\n",
        "\n",
        "net = NeuralNet()\n",
        "net.init_layers(input_nodes, [hidden_nodes], output_nodes,\n",
        "    NARXRecurrent(\n",
        "        output_order,\n",
        "        incoming_weight_from_output,\n",
        "        input_order,\n",
        "        incoming_weight_from_input))\n",
        "\n",
        "net.randomize_network()"
      ],
      "execution_count": null,
      "outputs": [
        {
          "output_type": "error",
          "ename": "SyntaxError",
          "evalue": "ignored",
          "traceback": [
            "\u001b[0;36m  File \u001b[0;32m\"/usr/local/lib/python3.7/dist-packages/pyneurgen/neuralnet.py\"\u001b[0;36m, line \u001b[0;32m613\u001b[0m\n\u001b[0;31m    print \"sample: %s errors: %s\" % (\u001b[0m\n\u001b[0m                                ^\u001b[0m\n\u001b[0;31mSyntaxError\u001b[0m\u001b[0;31m:\u001b[0m invalid syntax\n"
          ]
        }
      ]
    },
    {
      "cell_type": "code",
      "metadata": {
        "id": "wr0Wp_FGUfT7"
      },
      "source": [
        "classifier.add(BatchNormalization())\n",
        "classifier.add(Dense(64 , activation='relu'))\n",
        "classifier.add(LeakyReLU(alpha=0.3))\n",
        "classifier.add(Dropout(0.1))"
      ],
      "execution_count": null,
      "outputs": []
    },
    {
      "cell_type": "code",
      "metadata": {
        "id": "TIPZjqTqcWmf"
      },
      "source": [
        "classifier.add(Dense(units = 7, activation='softmax', ))"
      ],
      "execution_count": null,
      "outputs": []
    },
    {
      "cell_type": "code",
      "metadata": {
        "id": "04IQZbJwf_Rh"
      },
      "source": [
        "from keras.preprocessing.image import ImageDataGenerator\n",
        "from keras.models import Sequential\n",
        "from keras.layers import Convolution2D\n",
        "from keras.layers import MaxPooling2D\n",
        "from keras.layers import Flatten\n",
        "from keras.layers import Dense\n",
        "from keras.callbacks import EarlyStopping\n",
        "\n",
        "\n",
        "es = EarlyStopping(monitor= 'val_accuracy',\n",
        "                   mode ='max',\n",
        "                   patience = 3)\n",
        "# Initialising CNN\n",
        "classifier = Sequential()\n",
        "\n",
        "#convolution layer\n",
        "classifier.add(Convolution2D(32, 3, 3, input_shape = (48, 48, 3), activation='relu'))\n",
        "\n",
        "#Max pooling\n",
        "classifier.add(MaxPooling2D(pool_size=(2,2)))\n",
        "\n",
        "# Flattening\n",
        "classifier.add(Flatten())\n",
        "\n",
        "#Full connection layers\n",
        "classifier.add(Dense(units= 128, activation='relu', ))\n",
        "classifier.add(Dense(units=  128, activation='relu', ))\n",
        "classifier.add(Dense(units = 7, activation='softmax', ))\n",
        "\n",
        "classifier.compile(optimizer='rmsprop', loss='categorical_crossentropy', metrics=['accuracy'])\n",
        "\n",
        "#image ogmentation\n",
        "train_datagen = ImageDataGenerator(\n",
        "        rescale=1./255,\n",
        "        shear_range=0.2,\n",
        "        zoom_range=0.2,\n",
        "        horizontal_flip=True)\n",
        "\n",
        "test_datagen = ImageDataGenerator(rescale=1./255)\n",
        "\n",
        "#train_set = train_datagen.flow_from_directory( dfO_train_X,\n",
        "                                                target_size=(48, 48),\n",
        "                                                batch_size=32,\n",
        "                                                class_mode=\"categorical\")\n",
        "\n",
        "#test_set = test_datagen.flow_from_directory('C:/Users/Antonio franco/.spyder-py3/dataset/test',\n",
        "                                            target_size=(48, 48),\n",
        "                                            batch_size=32,\n",
        "                                            class_mode=\"categorical\")\n",
        "classifier.fit(x = dfO_train_X, y = dfO_train_Y,\n",
        "                batch_size = 32,\n",
        "                steps_per_epoch=28709/32,\n",
        "                epochs=30,\n",
        "                validation_data=test_set,\n",
        "                callbacks = [es])\n"
      ],
      "execution_count": null,
      "outputs": []
    },
    {
      "cell_type": "code",
      "metadata": {
        "id": "D-qV2SvOf_Rh",
        "outputId": "98bcaea1-72db-469f-88e1-76aa8f61f163"
      },
      "source": [
        "arr = np.array(df['pixels'][1])\n",
        "im = Image.fromarray(arr.astype(np.uint8), mode='L')\n",
        "im.save('C:/Users/Antonio franco/Documents/Computer vision/dataset/my.png')\n",
        "img = cv2.imread('C:/Users/Antonio franco/Documents/Computer vision/dataset/my.png', cv2.IMREAD_GRAYSCALE)\n",
        "landmarks = face_recognition.face_landmarks(img)\n",
        "xs = []\n",
        "ys = []\n",
        "for landmark in landmarks:\n",
        "    for k, v in landmark.items():\n",
        "        xs += [x[0] for x in v]\n",
        "        ys += [x[1] for x in v]\n",
        "        \n",
        "\n",
        "\n",
        "fig, ax = plt.subplots()\n",
        "ax.imshow(img, cmap=\"gray\")\n",
        "ax.scatter(x=xs, y=ys, c=\"r\", s=2)"
      ],
      "execution_count": null,
      "outputs": [
        {
          "output_type": "execute_result",
          "data": {
            "text/plain": [
              "<matplotlib.collections.PathCollection at 0x1b7154e9ba8>"
            ]
          },
          "metadata": {
            "tags": []
          },
          "execution_count": 14
        },
        {
          "output_type": "display_data",
          "data": {
            "image/png": "[encoded data removed]",
            "image/svg+xml": "<?xml version=\"1.0\" encoding=\"utf-8\" standalone=\"no\"?>\r\n<!DOCTYPE svg PUBLIC \"-//W3C//DTD SVG 1.1//EN\"\r\n  \"http://www.w3.org/Graphics/SVG/1.1/DTD/svg11.dtd\">\r\n<!-- Created with matplotlib (https://matplotlib.org/) -->\r\n<svg height=\"250.225569pt\" version=\"1.1\" viewBox=\"0 0 234.93539 250.225569\" width=\"234.93539pt\" xmlns=\"http://www.w3.org/2000/svg\" xmlns:xlink=\"http://www.w3.org/1999/xlink\">\r\n <metadata>\r\n  <rdf:RDF xmlns:cc=\"http://creativecommons.org/ns#\" xmlns:dc=\"http://purl.org/dc/elements/1.1/\" xmlns:rdf=\"http://www.w3.org/1999/02/22-rdf-syntax-ns#\">\r\n   <cc:Work>\r\n    <dc:type rdf:resource=\"http://purl.org/dc/dcmitype/StillImage\"/>\r\n    <dc:date>2021-03-19T02:28:05.570545</dc:date>\r\n    <dc:format>image/svg+xml</dc:format>\r\n    <dc:creator>\r\n     <cc:Agent>\r\n      <dc:title>Matplotlib v3.3.4, https://matplotlib.org/</dc:title>\r\n     </cc:Agent>\r\n    </dc:creator>\r\n   </cc:Work>\r\n  </rdf:RDF>\r\n </metadata>\r\n <defs>\r\n  <style type=\"text/css\">*{stroke-linecap:butt;stroke-linejoin:round;}</style>\r\n </defs>\r\n <g id=\"figure_1\">\r\n  <g id=\"patch_1\">\r\n   <path d=\"M 0 250.225569 \r\nL 234.93539 250.225569 \r\nL 234.93539 0 \r\nL 0 0 \r\nz\r\n\" style=\"fill:none;\"/>\r\n  </g>\r\n  <g id=\"axes_1\">\r\n   <g id=\"patch_2\">\r\n    <path d=\"M 26.925 226.347444 \r\nL 227.73539 226.347444 \r\nL 227.73539 8.907444 \r\nL 26.925 8.907444 \r\nz\r\n\" style=\"fill:#ffffff;\"/>\r\n   </g>\r\n   <g clip-path=\"url(#p0f3501e841)\">\r\n    <image height=\"201\" id=\"image31d1451ae8\" transform=\"scale(1 -1)translate(0 -201)\" width=\"201\" x=\"26.925\" xlink:href=\"data:image/png;base64,\r\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\" y=\"-8.717833\"/>\r\n   </g>\r\n   <g id=\"PathCollection_1\">\r\n    <defs>\r\n     <path d=\"M 0 0.707107 \r\nC 0.187527 0.707107 0.367398 0.632602 0.5 0.5 \r\nC 0.632602 0.367398 0.707107 0.187527 0.707107 0 \r\nC 0.707107 -0.187527 0.632602 -0.367398 0.5 -0.5 \r\nC 0.367398 -0.632602 0.187527 -0.707107 0 -0.707107 \r\nC -0.187527 -0.707107 -0.367398 -0.632602 -0.5 -0.5 \r\nC -0.632602 -0.367398 -0.707107 -0.187527 -0.707107 0 \r\nC -0.707107 0.187527 -0.632602 0.367398 -0.5 0.5 \r\nC -0.367398 0.632602 -0.187527 0.707107 0 0.707107 \r\nz\r\n\" id=\"mca99130eea\" style=\"stroke:#ff0000;\"/>\r\n    </defs>\r\n    <g clip-path=\"url(#p0f3501e841)\">\r\n     <use style=\"fill:#ff0000;stroke:#ff0000;\" x=\"49.934524\" xlink:href=\"#mca99130eea\" y=\"115.587963\"/>\r\n     <use style=\"fill:#ff0000;stroke:#ff0000;\" x=\"54.118074\" xlink:href=\"#mca99130eea\" y=\"132.322162\"/>\r\n     <use style=\"fill:#ff0000;stroke:#ff0000;\" x=\"58.301623\" xlink:href=\"#mca99130eea\" y=\"149.056362\"/>\r\n     <use style=\"fill:#ff0000;stroke:#ff0000;\" x=\"66.668723\" xlink:href=\"#mca99130eea\" y=\"165.790561\"/>\r\n     <use style=\"fill:#ff0000;stroke:#ff0000;\" x=\"75.035823\" xlink:href=\"#mca99130eea\" y=\"182.52476\"/>\r\n     <use style=\"fill:#ff0000;stroke:#ff0000;\" x=\"83.402922\" xlink:href=\"#mca99130eea\" y=\"199.258959\"/>\r\n     <use style=\"fill:#ff0000;stroke:#ff0000;\" x=\"100.137121\" xlink:href=\"#mca99130eea\" y=\"207.626059\"/>\r\n     <use style=\"fill:#ff0000;stroke:#ff0000;\" x=\"116.87132\" xlink:href=\"#mca99130eea\" y=\"215.993158\"/>\r\n     <use style=\"fill:#ff0000;stroke:#ff0000;\" x=\"137.789069\" xlink:href=\"#mca99130eea\" y=\"215.993158\"/>\r\n     <use style=\"fill:#ff0000;stroke:#ff0000;\" x=\"162.890368\" xlink:href=\"#mca99130eea\" y=\"211.809608\"/>\r\n     <use style=\"fill:#ff0000;stroke:#ff0000;\" x=\"183.808117\" xlink:href=\"#mca99130eea\" y=\"207.626059\"/>\r\n     <use style=\"fill:#ff0000;stroke:#ff0000;\" x=\"196.358766\" xlink:href=\"#mca99130eea\" y=\"190.891859\"/>\r\n     <use style=\"fill:#ff0000;stroke:#ff0000;\" x=\"204.725866\" xlink:href=\"#mca99130eea\" y=\"174.15766\"/>\r\n     <use style=\"fill:#ff0000;stroke:#ff0000;\" x=\"213.092965\" xlink:href=\"#mca99130eea\" y=\"153.239911\"/>\r\n     <use style=\"fill:#ff0000;stroke:#ff0000;\" x=\"213.092965\" xlink:href=\"#mca99130eea\" y=\"132.322162\"/>\r\n     <use style=\"fill:#ff0000;stroke:#ff0000;\" x=\"213.092965\" xlink:href=\"#mca99130eea\" y=\"107.220864\"/>\r\n     <use style=\"fill:#ff0000;stroke:#ff0000;\" x=\"213.092965\" xlink:href=\"#mca99130eea\" y=\"86.303115\"/>\r\n     <use style=\"fill:#ff0000;stroke:#ff0000;\" x=\"54.118074\" xlink:href=\"#mca99130eea\" y=\"86.303115\"/>\r\n     <use style=\"fill:#ff0000;stroke:#ff0000;\" x=\"62.485173\" xlink:href=\"#mca99130eea\" y=\"77.936015\"/>\r\n     <use style=\"fill:#ff0000;stroke:#ff0000;\" x=\"75.035823\" xlink:href=\"#mca99130eea\" y=\"73.752466\"/>\r\n     <use style=\"fill:#ff0000;stroke:#ff0000;\" x=\"91.770022\" xlink:href=\"#mca99130eea\" y=\"73.752466\"/>\r\n     <use style=\"fill:#ff0000;stroke:#ff0000;\" x=\"108.504221\" xlink:href=\"#mca99130eea\" y=\"73.752466\"/>\r\n     <use style=\"fill:#ff0000;stroke:#ff0000;\" x=\"129.42197\" xlink:href=\"#mca99130eea\" y=\"69.568916\"/>\r\n     <use style=\"fill:#ff0000;stroke:#ff0000;\" x=\"141.972619\" xlink:href=\"#mca99130eea\" y=\"61.201816\"/>\r\n     <use style=\"fill:#ff0000;stroke:#ff0000;\" x=\"158.706818\" xlink:href=\"#mca99130eea\" y=\"57.018266\"/>\r\n     <use style=\"fill:#ff0000;stroke:#ff0000;\" x=\"175.441017\" xlink:href=\"#mca99130eea\" y=\"61.201816\"/>\r\n     <use style=\"fill:#ff0000;stroke:#ff0000;\" x=\"187.991667\" xlink:href=\"#mca99130eea\" y=\"65.385366\"/>\r\n     <use style=\"fill:#ff0000;stroke:#ff0000;\" x=\"121.05487\" xlink:href=\"#mca99130eea\" y=\"86.303115\"/>\r\n     <use style=\"fill:#ff0000;stroke:#ff0000;\" x=\"121.05487\" xlink:href=\"#mca99130eea\" y=\"98.853764\"/>\r\n     <use style=\"fill:#ff0000;stroke:#ff0000;\" x=\"121.05487\" xlink:href=\"#mca99130eea\" y=\"111.404414\"/>\r\n     <use style=\"fill:#ff0000;stroke:#ff0000;\" x=\"121.05487\" xlink:href=\"#mca99130eea\" y=\"123.955063\"/>\r\n     <use style=\"fill:#ff0000;stroke:#ff0000;\" x=\"108.504221\" xlink:href=\"#mca99130eea\" y=\"140.689262\"/>\r\n     <use style=\"fill:#ff0000;stroke:#ff0000;\" x=\"116.87132\" xlink:href=\"#mca99130eea\" y=\"140.689262\"/>\r\n     <use style=\"fill:#ff0000;stroke:#ff0000;\" x=\"125.23842\" xlink:href=\"#mca99130eea\" y=\"144.872812\"/>\r\n     <use style=\"fill:#ff0000;stroke:#ff0000;\" x=\"137.789069\" xlink:href=\"#mca99130eea\" y=\"140.689262\"/>\r\n     <use style=\"fill:#ff0000;stroke:#ff0000;\" x=\"146.156169\" xlink:href=\"#mca99130eea\" y=\"136.505712\"/>\r\n     <use style=\"fill:#ff0000;stroke:#ff0000;\" x=\"70.852273\" xlink:href=\"#mca99130eea\" y=\"103.037314\"/>\r\n     <use style=\"fill:#ff0000;stroke:#ff0000;\" x=\"79.219372\" xlink:href=\"#mca99130eea\" y=\"94.670214\"/>\r\n     <use style=\"fill:#ff0000;stroke:#ff0000;\" x=\"87.586472\" xlink:href=\"#mca99130eea\" y=\"94.670214\"/>\r\n     <use style=\"fill:#ff0000;stroke:#ff0000;\" x=\"95.953571\" xlink:href=\"#mca99130eea\" y=\"98.853764\"/>\r\n     <use style=\"fill:#ff0000;stroke:#ff0000;\" x=\"87.586472\" xlink:href=\"#mca99130eea\" y=\"98.853764\"/>\r\n     <use style=\"fill:#ff0000;stroke:#ff0000;\" x=\"79.219372\" xlink:href=\"#mca99130eea\" y=\"103.037314\"/>\r\n     <use style=\"fill:#ff0000;stroke:#ff0000;\" x=\"146.156169\" xlink:href=\"#mca99130eea\" y=\"90.486665\"/>\r\n     <use style=\"fill:#ff0000;stroke:#ff0000;\" x=\"154.523268\" xlink:href=\"#mca99130eea\" y=\"86.303115\"/>\r\n     <use style=\"fill:#ff0000;stroke:#ff0000;\" x=\"162.890368\" xlink:href=\"#mca99130eea\" y=\"82.119565\"/>\r\n     <use style=\"fill:#ff0000;stroke:#ff0000;\" x=\"175.441017\" xlink:href=\"#mca99130eea\" y=\"86.303115\"/>\r\n     <use style=\"fill:#ff0000;stroke:#ff0000;\" x=\"167.073918\" xlink:href=\"#mca99130eea\" y=\"90.486665\"/>\r\n     <use style=\"fill:#ff0000;stroke:#ff0000;\" x=\"154.523268\" xlink:href=\"#mca99130eea\" y=\"90.486665\"/>\r\n     <use style=\"fill:#ff0000;stroke:#ff0000;\" x=\"95.953571\" xlink:href=\"#mca99130eea\" y=\"178.34121\"/>\r\n     <use style=\"fill:#ff0000;stroke:#ff0000;\" x=\"104.320671\" xlink:href=\"#mca99130eea\" y=\"169.974111\"/>\r\n     <use style=\"fill:#ff0000;stroke:#ff0000;\" x=\"116.87132\" xlink:href=\"#mca99130eea\" y=\"161.607011\"/>\r\n     <use style=\"fill:#ff0000;stroke:#ff0000;\" x=\"125.23842\" xlink:href=\"#mca99130eea\" y=\"165.790561\"/>\r\n     <use style=\"fill:#ff0000;stroke:#ff0000;\" x=\"137.789069\" xlink:href=\"#mca99130eea\" y=\"161.607011\"/>\r\n     <use style=\"fill:#ff0000;stroke:#ff0000;\" x=\"150.339719\" xlink:href=\"#mca99130eea\" y=\"165.790561\"/>\r\n     <use style=\"fill:#ff0000;stroke:#ff0000;\" x=\"167.073918\" xlink:href=\"#mca99130eea\" y=\"169.974111\"/>\r\n     <use style=\"fill:#ff0000;stroke:#ff0000;\" x=\"162.890368\" xlink:href=\"#mca99130eea\" y=\"169.974111\"/>\r\n     <use style=\"fill:#ff0000;stroke:#ff0000;\" x=\"137.789069\" xlink:href=\"#mca99130eea\" y=\"165.790561\"/>\r\n     <use style=\"fill:#ff0000;stroke:#ff0000;\" x=\"129.42197\" xlink:href=\"#mca99130eea\" y=\"169.974111\"/>\r\n     <use style=\"fill:#ff0000;stroke:#ff0000;\" x=\"116.87132\" xlink:href=\"#mca99130eea\" y=\"169.974111\"/>\r\n     <use style=\"fill:#ff0000;stroke:#ff0000;\" x=\"100.137121\" xlink:href=\"#mca99130eea\" y=\"174.15766\"/>\r\n     <use style=\"fill:#ff0000;stroke:#ff0000;\" x=\"167.073918\" xlink:href=\"#mca99130eea\" y=\"169.974111\"/>\r\n     <use style=\"fill:#ff0000;stroke:#ff0000;\" x=\"154.523268\" xlink:href=\"#mca99130eea\" y=\"178.34121\"/>\r\n     <use style=\"fill:#ff0000;stroke:#ff0000;\" x=\"141.972619\" xlink:href=\"#mca99130eea\" y=\"182.52476\"/>\r\n     <use style=\"fill:#ff0000;stroke:#ff0000;\" x=\"129.42197\" xlink:href=\"#mca99130eea\" y=\"186.70831\"/>\r\n     <use style=\"fill:#ff0000;stroke:#ff0000;\" x=\"121.05487\" xlink:href=\"#mca99130eea\" y=\"186.70831\"/>\r\n     <use style=\"fill:#ff0000;stroke:#ff0000;\" x=\"108.504221\" xlink:href=\"#mca99130eea\" y=\"182.52476\"/>\r\n     <use style=\"fill:#ff0000;stroke:#ff0000;\" x=\"95.953571\" xlink:href=\"#mca99130eea\" y=\"178.34121\"/>\r\n     <use style=\"fill:#ff0000;stroke:#ff0000;\" x=\"100.137121\" xlink:href=\"#mca99130eea\" y=\"174.15766\"/>\r\n     <use style=\"fill:#ff0000;stroke:#ff0000;\" x=\"116.87132\" xlink:href=\"#mca99130eea\" y=\"178.34121\"/>\r\n     <use style=\"fill:#ff0000;stroke:#ff0000;\" x=\"129.42197\" xlink:href=\"#mca99130eea\" y=\"178.34121\"/>\r\n     <use style=\"fill:#ff0000;stroke:#ff0000;\" x=\"137.789069\" xlink:href=\"#mca99130eea\" y=\"178.34121\"/>\r\n     <use style=\"fill:#ff0000;stroke:#ff0000;\" x=\"162.890368\" xlink:href=\"#mca99130eea\" y=\"169.974111\"/>\r\n    </g>\r\n   </g>\r\n   <g id=\"matplotlib.axis_1\">\r\n    <g id=\"xtick_1\">\r\n     <g id=\"line2d_1\">\r\n      <defs>\r\n       <path d=\"M 0 0 \r\nL 0 3.5 \r\n\" id=\"m4475b90068\" style=\"stroke:#000000;stroke-width:0.8;\"/>\r\n      </defs>\r\n      <g>\r\n       <use style=\"stroke:#000000;stroke-width:0.8;\" x=\"29.016775\" xlink:href=\"#m4475b90068\" y=\"226.347444\"/>\r\n      </g>\r\n     </g>\r\n     <g id=\"text_1\">\r\n      <!-- 0 -->\r\n      <g transform=\"translate(25.835525 240.945881)scale(0.1 -0.1)\">\r\n       <defs>\r\n        <path d=\"M 31.78125 66.40625 \r\nQ 24.171875 66.40625 20.328125 58.90625 \r\nQ 16.5 51.421875 16.5 36.375 \r\nQ 16.5 21.390625 20.328125 13.890625 \r\nQ 24.171875 6.390625 31.78125 6.390625 \r\nQ 39.453125 6.390625 43.28125 13.890625 \r\nQ 47.125 21.390625 47.125 36.375 \r\nQ 47.125 51.421875 43.28125 58.90625 \r\nQ 39.453125 66.40625 31.78125 66.40625 \r\nz\r\nM 31.78125 74.21875 \r\nQ 44.046875 74.21875 50.515625 64.515625 \r\nQ 56.984375 54.828125 56.984375 36.375 \r\nQ 56.984375 17.96875 50.515625 8.265625 \r\nQ 44.046875 -1.421875 31.78125 -1.421875 \r\nQ 19.53125 -1.421875 13.0625 8.265625 \r\nQ 6.59375 17.96875 6.59375 36.375 \r\nQ 6.59375 54.828125 13.0625 64.515625 \r\nQ 19.53125 74.21875 31.78125 74.21875 \r\nz\r\n\" id=\"DejaVuSans-48\"/>\r\n       </defs>\r\n       <use xlink:href=\"#DejaVuSans-48\"/>\r\n      </g>\r\n     </g>\r\n    </g>\r\n    <g id=\"xtick_2\">\r\n     <g id=\"line2d_2\">\r\n      <g>\r\n       <use style=\"stroke:#000000;stroke-width:0.8;\" x=\"70.852273\" xlink:href=\"#m4475b90068\" y=\"226.347444\"/>\r\n      </g>\r\n     </g>\r\n     <g id=\"text_2\">\r\n      <!-- 10 -->\r\n      <g transform=\"translate(64.489773 240.945881)scale(0.1 -0.1)\">\r\n       <defs>\r\n        <path d=\"M 12.40625 8.296875 \r\nL 28.515625 8.296875 \r\nL 28.515625 63.921875 \r\nL 10.984375 60.40625 \r\nL 10.984375 69.390625 \r\nL 28.421875 72.90625 \r\nL 38.28125 72.90625 \r\nL 38.28125 8.296875 \r\nL 54.390625 8.296875 \r\nL 54.390625 0 \r\nL 12.40625 0 \r\nz\r\n\" id=\"DejaVuSans-49\"/>\r\n       </defs>\r\n       <use xlink:href=\"#DejaVuSans-49\"/>\r\n       <use x=\"63.623047\" xlink:href=\"#DejaVuSans-48\"/>\r\n      </g>\r\n     </g>\r\n    </g>\r\n    <g id=\"xtick_3\">\r\n     <g id=\"line2d_3\">\r\n      <g>\r\n       <use style=\"stroke:#000000;stroke-width:0.8;\" x=\"112.687771\" xlink:href=\"#m4475b90068\" y=\"226.347444\"/>\r\n      </g>\r\n     </g>\r\n     <g id=\"text_3\">\r\n      <!-- 20 -->\r\n      <g transform=\"translate(106.325271 240.945881)scale(0.1 -0.1)\">\r\n       <defs>\r\n        <path d=\"M 19.1875 8.296875 \r\nL 53.609375 8.296875 \r\nL 53.609375 0 \r\nL 7.328125 0 \r\nL 7.328125 8.296875 \r\nQ 12.9375 14.109375 22.625 23.890625 \r\nQ 32.328125 33.6875 34.8125 36.53125 \r\nQ 39.546875 41.84375 41.421875 45.53125 \r\nQ 43.3125 49.21875 43.3125 52.78125 \r\nQ 43.3125 58.59375 39.234375 62.25 \r\nQ 35.15625 65.921875 28.609375 65.921875 \r\nQ 23.96875 65.921875 18.8125 64.3125 \r\nQ 13.671875 62.703125 7.8125 59.421875 \r\nL 7.8125 69.390625 \r\nQ 13.765625 71.78125 18.9375 73 \r\nQ 24.125 74.21875 28.421875 74.21875 \r\nQ 39.75 74.21875 46.484375 68.546875 \r\nQ 53.21875 62.890625 53.21875 53.421875 \r\nQ 53.21875 48.921875 51.53125 44.890625 \r\nQ 49.859375 40.875 45.40625 35.40625 \r\nQ 44.1875 33.984375 37.640625 27.21875 \r\nQ 31.109375 20.453125 19.1875 8.296875 \r\nz\r\n\" id=\"DejaVuSans-50\"/>\r\n       </defs>\r\n       <use xlink:href=\"#DejaVuSans-50\"/>\r\n       <use x=\"63.623047\" xlink:href=\"#DejaVuSans-48\"/>\r\n      </g>\r\n     </g>\r\n    </g>\r\n    <g id=\"xtick_4\">\r\n     <g id=\"line2d_4\">\r\n      <g>\r\n       <use style=\"stroke:#000000;stroke-width:0.8;\" x=\"154.523268\" xlink:href=\"#m4475b90068\" y=\"226.347444\"/>\r\n      </g>\r\n     </g>\r\n     <g id=\"text_4\">\r\n      <!-- 30 -->\r\n      <g transform=\"translate(148.160768 240.945881)scale(0.1 -0.1)\">\r\n       <defs>\r\n        <path d=\"M 40.578125 39.3125 \r\nQ 47.65625 37.796875 51.625 33 \r\nQ 55.609375 28.21875 55.609375 21.1875 \r\nQ 55.609375 10.40625 48.1875 4.484375 \r\nQ 40.765625 -1.421875 27.09375 -1.421875 \r\nQ 22.515625 -1.421875 17.65625 -0.515625 \r\nQ 12.796875 0.390625 7.625 2.203125 \r\nL 7.625 11.71875 \r\nQ 11.71875 9.328125 16.59375 8.109375 \r\nQ 21.484375 6.890625 26.8125 6.890625 \r\nQ 36.078125 6.890625 40.9375 10.546875 \r\nQ 45.796875 14.203125 45.796875 21.1875 \r\nQ 45.796875 27.640625 41.28125 31.265625 \r\nQ 36.765625 34.90625 28.71875 34.90625 \r\nL 20.21875 34.90625 \r\nL 20.21875 43.015625 \r\nL 29.109375 43.015625 \r\nQ 36.375 43.015625 40.234375 45.921875 \r\nQ 44.09375 48.828125 44.09375 54.296875 \r\nQ 44.09375 59.90625 40.109375 62.90625 \r\nQ 36.140625 65.921875 28.71875 65.921875 \r\nQ 24.65625 65.921875 20.015625 65.03125 \r\nQ 15.375 64.15625 9.8125 62.3125 \r\nL 9.8125 71.09375 \r\nQ 15.4375 72.65625 20.34375 73.4375 \r\nQ 25.25 74.21875 29.59375 74.21875 \r\nQ 40.828125 74.21875 47.359375 69.109375 \r\nQ 53.90625 64.015625 53.90625 55.328125 \r\nQ 53.90625 49.265625 50.4375 45.09375 \r\nQ 46.96875 40.921875 40.578125 39.3125 \r\nz\r\n\" id=\"DejaVuSans-51\"/>\r\n       </defs>\r\n       <use xlink:href=\"#DejaVuSans-51\"/>\r\n       <use x=\"63.623047\" xlink:href=\"#DejaVuSans-48\"/>\r\n      </g>\r\n     </g>\r\n    </g>\r\n    <g id=\"xtick_5\">\r\n     <g id=\"line2d_5\">\r\n      <g>\r\n       <use style=\"stroke:#000000;stroke-width:0.8;\" x=\"196.358766\" xlink:href=\"#m4475b90068\" y=\"226.347444\"/>\r\n      </g>\r\n     </g>\r\n     <g id=\"text_5\">\r\n      <!-- 40 -->\r\n      <g transform=\"translate(189.996266 240.945881)scale(0.1 -0.1)\">\r\n       <defs>\r\n        <path d=\"M 37.796875 64.3125 \r\nL 12.890625 25.390625 \r\nL 37.796875 25.390625 \r\nz\r\nM 35.203125 72.90625 \r\nL 47.609375 72.90625 \r\nL 47.609375 25.390625 \r\nL 58.015625 25.390625 \r\nL 58.015625 17.1875 \r\nL 47.609375 17.1875 \r\nL 47.609375 0 \r\nL 37.796875 0 \r\nL 37.796875 17.1875 \r\nL 4.890625 17.1875 \r\nL 4.890625 26.703125 \r\nz\r\n\" id=\"DejaVuSans-52\"/>\r\n       </defs>\r\n       <use xlink:href=\"#DejaVuSans-52\"/>\r\n       <use x=\"63.623047\" xlink:href=\"#DejaVuSans-48\"/>\r\n      </g>\r\n     </g>\r\n    </g>\r\n   </g>\r\n   <g id=\"matplotlib.axis_2\">\r\n    <g id=\"ytick_1\">\r\n     <g id=\"line2d_6\">\r\n      <defs>\r\n       <path d=\"M 0 0 \r\nL -3.5 0 \r\n\" id=\"m9ca2d8626b\" style=\"stroke:#000000;stroke-width:0.8;\"/>\r\n      </defs>\r\n      <g>\r\n       <use style=\"stroke:#000000;stroke-width:0.8;\" x=\"26.925\" xlink:href=\"#m9ca2d8626b\" y=\"10.999219\"/>\r\n      </g>\r\n     </g>\r\n     <g id=\"text_6\">\r\n      <!-- 0 -->\r\n      <g transform=\"translate(13.5625 14.798437)scale(0.1 -0.1)\">\r\n       <use xlink:href=\"#DejaVuSans-48\"/>\r\n      </g>\r\n     </g>\r\n    </g>\r\n    <g id=\"ytick_2\">\r\n     <g id=\"line2d_7\">\r\n      <g>\r\n       <use style=\"stroke:#000000;stroke-width:0.8;\" x=\"26.925\" xlink:href=\"#m9ca2d8626b\" y=\"52.834717\"/>\r\n      </g>\r\n     </g>\r\n     <g id=\"text_7\">\r\n      <!-- 10 -->\r\n      <g transform=\"translate(7.2 56.633935)scale(0.1 -0.1)\">\r\n       <use xlink:href=\"#DejaVuSans-49\"/>\r\n       <use x=\"63.623047\" xlink:href=\"#DejaVuSans-48\"/>\r\n      </g>\r\n     </g>\r\n    </g>\r\n    <g id=\"ytick_3\">\r\n     <g id=\"line2d_8\">\r\n      <g>\r\n       <use style=\"stroke:#000000;stroke-width:0.8;\" x=\"26.925\" xlink:href=\"#m9ca2d8626b\" y=\"94.670214\"/>\r\n      </g>\r\n     </g>\r\n     <g id=\"text_8\">\r\n      <!-- 20 -->\r\n      <g transform=\"translate(7.2 98.469433)scale(0.1 -0.1)\">\r\n       <use xlink:href=\"#DejaVuSans-50\"/>\r\n       <use x=\"63.623047\" xlink:href=\"#DejaVuSans-48\"/>\r\n      </g>\r\n     </g>\r\n    </g>\r\n    <g id=\"ytick_4\">\r\n     <g id=\"line2d_9\">\r\n      <g>\r\n       <use style=\"stroke:#000000;stroke-width:0.8;\" x=\"26.925\" xlink:href=\"#m9ca2d8626b\" y=\"136.505712\"/>\r\n      </g>\r\n     </g>\r\n     <g id=\"text_9\">\r\n      <!-- 30 -->\r\n      <g transform=\"translate(7.2 140.304931)scale(0.1 -0.1)\">\r\n       <use xlink:href=\"#DejaVuSans-51\"/>\r\n       <use x=\"63.623047\" xlink:href=\"#DejaVuSans-48\"/>\r\n      </g>\r\n     </g>\r\n    </g>\r\n    <g id=\"ytick_5\">\r\n     <g id=\"line2d_10\">\r\n      <g>\r\n       <use style=\"stroke:#000000;stroke-width:0.8;\" x=\"26.925\" xlink:href=\"#m9ca2d8626b\" y=\"178.34121\"/>\r\n      </g>\r\n     </g>\r\n     <g id=\"text_10\">\r\n      <!-- 40 -->\r\n      <g transform=\"translate(7.2 182.140429)scale(0.1 -0.1)\">\r\n       <use xlink:href=\"#DejaVuSans-52\"/>\r\n       <use x=\"63.623047\" xlink:href=\"#DejaVuSans-48\"/>\r\n      </g>\r\n     </g>\r\n    </g>\r\n    <g id=\"ytick_6\">\r\n     <g id=\"line2d_11\">\r\n      <g>\r\n       <use style=\"stroke:#000000;stroke-width:0.8;\" x=\"26.925\" xlink:href=\"#m9ca2d8626b\" y=\"220.176708\"/>\r\n      </g>\r\n     </g>\r\n     <g id=\"text_11\">\r\n      <!-- 50 -->\r\n      <g transform=\"translate(7.2 223.975927)scale(0.1 -0.1)\">\r\n       <defs>\r\n        <path d=\"M 10.796875 72.90625 \r\nL 49.515625 72.90625 \r\nL 49.515625 64.59375 \r\nL 19.828125 64.59375 \r\nL 19.828125 46.734375 \r\nQ 21.96875 47.46875 24.109375 47.828125 \r\nQ 26.265625 48.1875 28.421875 48.1875 \r\nQ 40.625 48.1875 47.75 41.5 \r\nQ 54.890625 34.8125 54.890625 23.390625 \r\nQ 54.890625 11.625 47.5625 5.09375 \r\nQ 40.234375 -1.421875 26.90625 -1.421875 \r\nQ 22.3125 -1.421875 17.546875 -0.640625 \r\nQ 12.796875 0.140625 7.71875 1.703125 \r\nL 7.71875 11.625 \r\nQ 12.109375 9.234375 16.796875 8.0625 \r\nQ 21.484375 6.890625 26.703125 6.890625 \r\nQ 35.15625 6.890625 40.078125 11.328125 \r\nQ 45.015625 15.765625 45.015625 23.390625 \r\nQ 45.015625 31 40.078125 35.4375 \r\nQ 35.15625 39.890625 26.703125 39.890625 \r\nQ 22.75 39.890625 18.8125 39.015625 \r\nQ 14.890625 38.140625 10.796875 36.28125 \r\nz\r\n\" id=\"DejaVuSans-53\"/>\r\n       </defs>\r\n       <use xlink:href=\"#DejaVuSans-53\"/>\r\n       <use x=\"63.623047\" xlink:href=\"#DejaVuSans-48\"/>\r\n      </g>\r\n     </g>\r\n    </g>\r\n   </g>\r\n   <g id=\"patch_3\">\r\n    <path d=\"M 26.925 226.347444 \r\nL 26.925 8.907444 \r\n\" style=\"fill:none;stroke:#000000;stroke-linecap:square;stroke-linejoin:miter;stroke-width:0.8;\"/>\r\n   </g>\r\n   <g id=\"patch_4\">\r\n    <path d=\"M 227.73539 226.347444 \r\nL 227.73539 8.907444 \r\n\" style=\"fill:none;stroke:#000000;stroke-linecap:square;stroke-linejoin:miter;stroke-width:0.8;\"/>\r\n   </g>\r\n   <g id=\"patch_5\">\r\n    <path d=\"M 26.925 226.347444 \r\nL 227.73539 226.347444 \r\n\" style=\"fill:none;stroke:#000000;stroke-linecap:square;stroke-linejoin:miter;stroke-width:0.8;\"/>\r\n   </g>\r\n   <g id=\"patch_6\">\r\n    <path d=\"M 26.925 8.907444 \r\nL 227.73539 8.907444 \r\n\" style=\"fill:none;stroke:#000000;stroke-linecap:square;stroke-linejoin:miter;stroke-width:0.8;\"/>\r\n   </g>\r\n  </g>\r\n </g>\r\n <defs>\r\n  <clipPath id=\"p0f3501e841\">\r\n   <rect height=\"217.44\" width=\"200.81039\" x=\"26.925\" y=\"8.907444\"/>\r\n  </clipPath>\r\n </defs>\r\n</svg>\r\n",
            "text/plain": [
              "<Figure size 432x288 with 1 Axes>"
            ]
          },
          "metadata": {
            "tags": []
          }
        }
      ]
    },
    {
      "cell_type": "code",
      "metadata": {
        "id": "yY-K2RG0f_Ri",
        "outputId": "813ef39f-d6a0-4d28-a519-1386653f6fb9"
      },
      "source": [
        "plt.imshow(img, cmap=\"gray\")"
      ],
      "execution_count": null,
      "outputs": [
        {
          "output_type": "execute_result",
          "data": {
            "text/plain": [
              "<matplotlib.image.AxesImage at 0x2302aacb9e8>"
            ]
          },
          "metadata": {
            "tags": []
          },
          "execution_count": 73
        },
        {
          "output_type": "display_data",
          "data": {
            "image/png": "[encoded data removed]",
            "image/svg+xml": "<?xml version=\"1.0\" encoding=\"utf-8\" standalone=\"no\"?>\r\n<!DOCTYPE svg PUBLIC \"-//W3C//DTD SVG 1.1//EN\"\r\n  \"http://www.w3.org/Graphics/SVG/1.1/DTD/svg11.dtd\">\r\n<!-- Created with matplotlib (https://matplotlib.org/) -->\r\n<svg height=\"250.052344pt\" version=\"1.1\" viewBox=\"0 0 251.565 250.052344\" width=\"251.565pt\" xmlns=\"http://www.w3.org/2000/svg\" xmlns:xlink=\"http://www.w3.org/1999/xlink\">\r\n <metadata>\r\n  <rdf:RDF xmlns:cc=\"http://creativecommons.org/ns#\" xmlns:dc=\"http://purl.org/dc/elements/1.1/\" xmlns:rdf=\"http://www.w3.org/1999/02/22-rdf-syntax-ns#\">\r\n   <cc:Work>\r\n    <dc:type rdf:resource=\"http://purl.org/dc/dcmitype/StillImage\"/>\r\n    <dc:date>2021-03-18T18:15:34.594481</dc:date>\r\n    <dc:format>image/svg+xml</dc:format>\r\n    <dc:creator>\r\n     <cc:Agent>\r\n      <dc:title>Matplotlib v3.3.4, https://matplotlib.org/</dc:title>\r\n     </cc:Agent>\r\n    </dc:creator>\r\n   </cc:Work>\r\n  </rdf:RDF>\r\n </metadata>\r\n <defs>\r\n  <style type=\"text/css\">*{stroke-linecap:butt;stroke-linejoin:round;}</style>\r\n </defs>\r\n <g id=\"figure_1\">\r\n  <g id=\"patch_1\">\r\n   <path d=\"M 0 250.052344 \r\nL 251.565 250.052344 \r\nL 251.565 0 \r\nL 0 0 \r\nz\r\n\" style=\"fill:none;\"/>\r\n  </g>\r\n  <g id=\"axes_1\">\r\n   <g id=\"patch_2\">\r\n    <path d=\"M 26.925 226.174219 \r\nL 244.365 226.174219 \r\nL 244.365 8.734219 \r\nL 26.925 8.734219 \r\nz\r\n\" style=\"fill:#ffffff;\"/>\r\n   </g>\r\n   <g clip-path=\"url(#p9d60d18b2c)\">\r\n    <image height=\"218\" id=\"image5eab718540\" transform=\"scale(1 -1)translate(0 -218)\" width=\"218\" x=\"26.925\" xlink:href=\"data:image/png;base64,\r\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\" y=\"-8.174219\"/>\r\n   </g>\r\n   <g id=\"matplotlib.axis_1\">\r\n    <g id=\"xtick_1\">\r\n     <g id=\"line2d_1\">\r\n      <defs>\r\n       <path d=\"M 0 0 \r\nL 0 3.5 \r\n\" id=\"m3710967d98\" style=\"stroke:#000000;stroke-width:0.8;\"/>\r\n      </defs>\r\n      <g>\r\n       <use style=\"stroke:#000000;stroke-width:0.8;\" x=\"29.19\" xlink:href=\"#m3710967d98\" y=\"226.174219\"/>\r\n      </g>\r\n     </g>\r\n     <g id=\"text_1\">\r\n      <!-- 0 -->\r\n      <g transform=\"translate(26.00875 240.772656)scale(0.1 -0.1)\">\r\n       <defs>\r\n        <path d=\"M 31.78125 66.40625 \r\nQ 24.171875 66.40625 20.328125 58.90625 \r\nQ 16.5 51.421875 16.5 36.375 \r\nQ 16.5 21.390625 20.328125 13.890625 \r\nQ 24.171875 6.390625 31.78125 6.390625 \r\nQ 39.453125 6.390625 43.28125 13.890625 \r\nQ 47.125 21.390625 47.125 36.375 \r\nQ 47.125 51.421875 43.28125 58.90625 \r\nQ 39.453125 66.40625 31.78125 66.40625 \r\nz\r\nM 31.78125 74.21875 \r\nQ 44.046875 74.21875 50.515625 64.515625 \r\nQ 56.984375 54.828125 56.984375 36.375 \r\nQ 56.984375 17.96875 50.515625 8.265625 \r\nQ 44.046875 -1.421875 31.78125 -1.421875 \r\nQ 19.53125 -1.421875 13.0625 8.265625 \r\nQ 6.59375 17.96875 6.59375 36.375 \r\nQ 6.59375 54.828125 13.0625 64.515625 \r\nQ 19.53125 74.21875 31.78125 74.21875 \r\nz\r\n\" id=\"DejaVuSans-48\"/>\r\n       </defs>\r\n       <use xlink:href=\"#DejaVuSans-48\"/>\r\n      </g>\r\n     </g>\r\n    </g>\r\n    <g id=\"xtick_2\">\r\n     <g id=\"line2d_2\">\r\n      <g>\r\n       <use style=\"stroke:#000000;stroke-width:0.8;\" x=\"74.49\" xlink:href=\"#m3710967d98\" y=\"226.174219\"/>\r\n      </g>\r\n     </g>\r\n     <g id=\"text_2\">\r\n      <!-- 10 -->\r\n      <g transform=\"translate(68.1275 240.772656)scale(0.1 -0.1)\">\r\n       <defs>\r\n        <path d=\"M 12.40625 8.296875 \r\nL 28.515625 8.296875 \r\nL 28.515625 63.921875 \r\nL 10.984375 60.40625 \r\nL 10.984375 69.390625 \r\nL 28.421875 72.90625 \r\nL 38.28125 72.90625 \r\nL 38.28125 8.296875 \r\nL 54.390625 8.296875 \r\nL 54.390625 0 \r\nL 12.40625 0 \r\nz\r\n\" id=\"DejaVuSans-49\"/>\r\n       </defs>\r\n       <use xlink:href=\"#DejaVuSans-49\"/>\r\n       <use x=\"63.623047\" xlink:href=\"#DejaVuSans-48\"/>\r\n      </g>\r\n     </g>\r\n    </g>\r\n    <g id=\"xtick_3\">\r\n     <g id=\"line2d_3\">\r\n      <g>\r\n       <use style=\"stroke:#000000;stroke-width:0.8;\" x=\"119.79\" xlink:href=\"#m3710967d98\" y=\"226.174219\"/>\r\n      </g>\r\n     </g>\r\n     <g id=\"text_3\">\r\n      <!-- 20 -->\r\n      <g transform=\"translate(113.4275 240.772656)scale(0.1 -0.1)\">\r\n       <defs>\r\n        <path d=\"M 19.1875 8.296875 \r\nL 53.609375 8.296875 \r\nL 53.609375 0 \r\nL 7.328125 0 \r\nL 7.328125 8.296875 \r\nQ 12.9375 14.109375 22.625 23.890625 \r\nQ 32.328125 33.6875 34.8125 36.53125 \r\nQ 39.546875 41.84375 41.421875 45.53125 \r\nQ 43.3125 49.21875 43.3125 52.78125 \r\nQ 43.3125 58.59375 39.234375 62.25 \r\nQ 35.15625 65.921875 28.609375 65.921875 \r\nQ 23.96875 65.921875 18.8125 64.3125 \r\nQ 13.671875 62.703125 7.8125 59.421875 \r\nL 7.8125 69.390625 \r\nQ 13.765625 71.78125 18.9375 73 \r\nQ 24.125 74.21875 28.421875 74.21875 \r\nQ 39.75 74.21875 46.484375 68.546875 \r\nQ 53.21875 62.890625 53.21875 53.421875 \r\nQ 53.21875 48.921875 51.53125 44.890625 \r\nQ 49.859375 40.875 45.40625 35.40625 \r\nQ 44.1875 33.984375 37.640625 27.21875 \r\nQ 31.109375 20.453125 19.1875 8.296875 \r\nz\r\n\" id=\"DejaVuSans-50\"/>\r\n       </defs>\r\n       <use xlink:href=\"#DejaVuSans-50\"/>\r\n       <use x=\"63.623047\" xlink:href=\"#DejaVuSans-48\"/>\r\n      </g>\r\n     </g>\r\n    </g>\r\n    <g id=\"xtick_4\">\r\n     <g id=\"line2d_4\">\r\n      <g>\r\n       <use style=\"stroke:#000000;stroke-width:0.8;\" x=\"165.09\" xlink:href=\"#m3710967d98\" y=\"226.174219\"/>\r\n      </g>\r\n     </g>\r\n     <g id=\"text_4\">\r\n      <!-- 30 -->\r\n      <g transform=\"translate(158.7275 240.772656)scale(0.1 -0.1)\">\r\n       <defs>\r\n        <path d=\"M 40.578125 39.3125 \r\nQ 47.65625 37.796875 51.625 33 \r\nQ 55.609375 28.21875 55.609375 21.1875 \r\nQ 55.609375 10.40625 48.1875 4.484375 \r\nQ 40.765625 -1.421875 27.09375 -1.421875 \r\nQ 22.515625 -1.421875 17.65625 -0.515625 \r\nQ 12.796875 0.390625 7.625 2.203125 \r\nL 7.625 11.71875 \r\nQ 11.71875 9.328125 16.59375 8.109375 \r\nQ 21.484375 6.890625 26.8125 6.890625 \r\nQ 36.078125 6.890625 40.9375 10.546875 \r\nQ 45.796875 14.203125 45.796875 21.1875 \r\nQ 45.796875 27.640625 41.28125 31.265625 \r\nQ 36.765625 34.90625 28.71875 34.90625 \r\nL 20.21875 34.90625 \r\nL 20.21875 43.015625 \r\nL 29.109375 43.015625 \r\nQ 36.375 43.015625 40.234375 45.921875 \r\nQ 44.09375 48.828125 44.09375 54.296875 \r\nQ 44.09375 59.90625 40.109375 62.90625 \r\nQ 36.140625 65.921875 28.71875 65.921875 \r\nQ 24.65625 65.921875 20.015625 65.03125 \r\nQ 15.375 64.15625 9.8125 62.3125 \r\nL 9.8125 71.09375 \r\nQ 15.4375 72.65625 20.34375 73.4375 \r\nQ 25.25 74.21875 29.59375 74.21875 \r\nQ 40.828125 74.21875 47.359375 69.109375 \r\nQ 53.90625 64.015625 53.90625 55.328125 \r\nQ 53.90625 49.265625 50.4375 45.09375 \r\nQ 46.96875 40.921875 40.578125 39.3125 \r\nz\r\n\" id=\"DejaVuSans-51\"/>\r\n       </defs>\r\n       <use xlink:href=\"#DejaVuSans-51\"/>\r\n       <use x=\"63.623047\" xlink:href=\"#DejaVuSans-48\"/>\r\n      </g>\r\n     </g>\r\n    </g>\r\n    <g id=\"xtick_5\">\r\n     <g id=\"line2d_5\">\r\n      <g>\r\n       <use style=\"stroke:#000000;stroke-width:0.8;\" x=\"210.39\" xlink:href=\"#m3710967d98\" y=\"226.174219\"/>\r\n      </g>\r\n     </g>\r\n     <g id=\"text_5\">\r\n      <!-- 40 -->\r\n      <g transform=\"translate(204.0275 240.772656)scale(0.1 -0.1)\">\r\n       <defs>\r\n        <path d=\"M 37.796875 64.3125 \r\nL 12.890625 25.390625 \r\nL 37.796875 25.390625 \r\nz\r\nM 35.203125 72.90625 \r\nL 47.609375 72.90625 \r\nL 47.609375 25.390625 \r\nL 58.015625 25.390625 \r\nL 58.015625 17.1875 \r\nL 47.609375 17.1875 \r\nL 47.609375 0 \r\nL 37.796875 0 \r\nL 37.796875 17.1875 \r\nL 4.890625 17.1875 \r\nL 4.890625 26.703125 \r\nz\r\n\" id=\"DejaVuSans-52\"/>\r\n       </defs>\r\n       <use xlink:href=\"#DejaVuSans-52\"/>\r\n       <use x=\"63.623047\" xlink:href=\"#DejaVuSans-48\"/>\r\n      </g>\r\n     </g>\r\n    </g>\r\n   </g>\r\n   <g id=\"matplotlib.axis_2\">\r\n    <g id=\"ytick_1\">\r\n     <g id=\"line2d_6\">\r\n      <defs>\r\n       <path d=\"M 0 0 \r\nL -3.5 0 \r\n\" id=\"m2fb30e2f1c\" style=\"stroke:#000000;stroke-width:0.8;\"/>\r\n      </defs>\r\n      <g>\r\n       <use style=\"stroke:#000000;stroke-width:0.8;\" x=\"26.925\" xlink:href=\"#m2fb30e2f1c\" y=\"10.999219\"/>\r\n      </g>\r\n     </g>\r\n     <g id=\"text_6\">\r\n      <!-- 0 -->\r\n      <g transform=\"translate(13.5625 14.798437)scale(0.1 -0.1)\">\r\n       <use xlink:href=\"#DejaVuSans-48\"/>\r\n      </g>\r\n     </g>\r\n    </g>\r\n    <g id=\"ytick_2\">\r\n     <g id=\"line2d_7\">\r\n      <g>\r\n       <use style=\"stroke:#000000;stroke-width:0.8;\" x=\"26.925\" xlink:href=\"#m2fb30e2f1c\" y=\"56.299219\"/>\r\n      </g>\r\n     </g>\r\n     <g id=\"text_7\">\r\n      <!-- 10 -->\r\n      <g transform=\"translate(7.2 60.098437)scale(0.1 -0.1)\">\r\n       <use xlink:href=\"#DejaVuSans-49\"/>\r\n       <use x=\"63.623047\" xlink:href=\"#DejaVuSans-48\"/>\r\n      </g>\r\n     </g>\r\n    </g>\r\n    <g id=\"ytick_3\">\r\n     <g id=\"line2d_8\">\r\n      <g>\r\n       <use style=\"stroke:#000000;stroke-width:0.8;\" x=\"26.925\" xlink:href=\"#m2fb30e2f1c\" y=\"101.599219\"/>\r\n      </g>\r\n     </g>\r\n     <g id=\"text_8\">\r\n      <!-- 20 -->\r\n      <g transform=\"translate(7.2 105.398437)scale(0.1 -0.1)\">\r\n       <use xlink:href=\"#DejaVuSans-50\"/>\r\n       <use x=\"63.623047\" xlink:href=\"#DejaVuSans-48\"/>\r\n      </g>\r\n     </g>\r\n    </g>\r\n    <g id=\"ytick_4\">\r\n     <g id=\"line2d_9\">\r\n      <g>\r\n       <use style=\"stroke:#000000;stroke-width:0.8;\" x=\"26.925\" xlink:href=\"#m2fb30e2f1c\" y=\"146.899219\"/>\r\n      </g>\r\n     </g>\r\n     <g id=\"text_9\">\r\n      <!-- 30 -->\r\n      <g transform=\"translate(7.2 150.698437)scale(0.1 -0.1)\">\r\n       <use xlink:href=\"#DejaVuSans-51\"/>\r\n       <use x=\"63.623047\" xlink:href=\"#DejaVuSans-48\"/>\r\n      </g>\r\n     </g>\r\n    </g>\r\n    <g id=\"ytick_5\">\r\n     <g id=\"line2d_10\">\r\n      <g>\r\n       <use style=\"stroke:#000000;stroke-width:0.8;\" x=\"26.925\" xlink:href=\"#m2fb30e2f1c\" y=\"192.199219\"/>\r\n      </g>\r\n     </g>\r\n     <g id=\"text_10\">\r\n      <!-- 40 -->\r\n      <g transform=\"translate(7.2 195.998437)scale(0.1 -0.1)\">\r\n       <use xlink:href=\"#DejaVuSans-52\"/>\r\n       <use x=\"63.623047\" xlink:href=\"#DejaVuSans-48\"/>\r\n      </g>\r\n     </g>\r\n    </g>\r\n   </g>\r\n   <g id=\"patch_3\">\r\n    <path d=\"M 26.925 226.174219 \r\nL 26.925 8.734219 \r\n\" style=\"fill:none;stroke:#000000;stroke-linecap:square;stroke-linejoin:miter;stroke-width:0.8;\"/>\r\n   </g>\r\n   <g id=\"patch_4\">\r\n    <path d=\"M 244.365 226.174219 \r\nL 244.365 8.734219 \r\n\" style=\"fill:none;stroke:#000000;stroke-linecap:square;stroke-linejoin:miter;stroke-width:0.8;\"/>\r\n   </g>\r\n   <g id=\"patch_5\">\r\n    <path d=\"M 26.925 226.174219 \r\nL 244.365 226.174219 \r\n\" style=\"fill:none;stroke:#000000;stroke-linecap:square;stroke-linejoin:miter;stroke-width:0.8;\"/>\r\n   </g>\r\n   <g id=\"patch_6\">\r\n    <path d=\"M 26.925 8.734219 \r\nL 244.365 8.734219 \r\n\" style=\"fill:none;stroke:#000000;stroke-linecap:square;stroke-linejoin:miter;stroke-width:0.8;\"/>\r\n   </g>\r\n  </g>\r\n </g>\r\n <defs>\r\n  <clipPath id=\"p9d60d18b2c\">\r\n   <rect height=\"217.44\" width=\"217.44\" x=\"26.925\" y=\"8.734219\"/>\r\n  </clipPath>\r\n </defs>\r\n</svg>\r\n",
            "text/plain": [
              "<Figure size 432x288 with 1 Axes>"
            ]
          },
          "metadata": {
            "tags": []
          }
        }
      ]
    },
    {
      "cell_type": "code",
      "metadata": {
        "id": "JEuf0Odif_Rj",
        "outputId": "a1ad8797-782a-4c2c-dca5-d35ec19180f4"
      },
      "source": [
        "len(df[\"landmarks\"][0])\n"
      ],
      "execution_count": null,
      "outputs": [
        {
          "output_type": "execute_result",
          "data": {
            "text/plain": [
              "1"
            ]
          },
          "metadata": {
            "tags": []
          },
          "execution_count": 10
        }
      ]
    },
    {
      "cell_type": "code",
      "metadata": {
        "id": "6Nt4b2DJf_Rj",
        "outputId": "3c792d90-8199-4b46-95a1-03f6edabb8bb"
      },
      "source": [
        "arr = np.array(df['pixels'][0])\n",
        "im = Image.fromarray(arr.astype(np.uint8), mode='L')\n",
        "im.save('C:/Users/Antonio franco/Documents/Computer vision/dataset/my.png')\n",
        "img = cv2.imread('C:/Users/Antonio franco/Documents/Computer vision/dataset/my.png', cv2.IMREAD_GRAYSCALE)\n",
        "draw = plt.imshow(img, cmap='gray')\n",
        "\n",
        "landmarks = df[\"landmarks\"][0].get('chin')\n",
        "for loc in landmarks:\n",
        "    x,y = loc\n",
        "    plt.plot(x, y, 'rx')\n",
        "    #draw.rectangle((x, y, x+2, y+2), outline='blue')"
      ],
      "execution_count": null,
      "outputs": [
        {
          "output_type": "error",
          "ename": "AttributeError",
          "evalue": "'list' object has no attribute 'get'",
          "traceback": [
            "\u001b[1;31m---------------------------------------------------------------------------\u001b[0m",
            "\u001b[1;31mAttributeError\u001b[0m                            Traceback (most recent call last)",
            "\u001b[1;32m<ipython-input-23-b5e4d820a663>\u001b[0m in \u001b[0;36m<module>\u001b[1;34m\u001b[0m\n\u001b[0;32m      5\u001b[0m \u001b[0mdraw\u001b[0m \u001b[1;33m=\u001b[0m \u001b[0mplt\u001b[0m\u001b[1;33m.\u001b[0m\u001b[0mimshow\u001b[0m\u001b[1;33m(\u001b[0m\u001b[0mimg\u001b[0m\u001b[1;33m,\u001b[0m \u001b[0mcmap\u001b[0m\u001b[1;33m=\u001b[0m\u001b[1;34m'gray'\u001b[0m\u001b[1;33m)\u001b[0m\u001b[1;33m\u001b[0m\u001b[1;33m\u001b[0m\u001b[0m\n\u001b[0;32m      6\u001b[0m \u001b[1;33m\u001b[0m\u001b[0m\n\u001b[1;32m----> 7\u001b[1;33m \u001b[0mlandmarks\u001b[0m \u001b[1;33m=\u001b[0m \u001b[0mdf\u001b[0m\u001b[1;33m[\u001b[0m\u001b[1;34m\"landmarks\"\u001b[0m\u001b[1;33m]\u001b[0m\u001b[1;33m[\u001b[0m\u001b[1;36m0\u001b[0m\u001b[1;33m]\u001b[0m\u001b[1;33m.\u001b[0m\u001b[0mget\u001b[0m\u001b[1;33m(\u001b[0m\u001b[1;34m'chin'\u001b[0m\u001b[1;33m)\u001b[0m\u001b[1;33m\u001b[0m\u001b[1;33m\u001b[0m\u001b[0m\n\u001b[0m\u001b[0;32m      8\u001b[0m \u001b[1;32mfor\u001b[0m \u001b[0mloc\u001b[0m \u001b[1;32min\u001b[0m \u001b[0mlandmarks\u001b[0m\u001b[1;33m:\u001b[0m\u001b[1;33m\u001b[0m\u001b[1;33m\u001b[0m\u001b[0m\n\u001b[0;32m      9\u001b[0m     \u001b[0mx\u001b[0m\u001b[1;33m,\u001b[0m\u001b[0my\u001b[0m \u001b[1;33m=\u001b[0m \u001b[0mloc\u001b[0m\u001b[1;33m\u001b[0m\u001b[1;33m\u001b[0m\u001b[0m\n",
            "\u001b[1;31mAttributeError\u001b[0m: 'list' object has no attribute 'get'"
          ]
        }
      ]
    },
    {
      "cell_type": "code",
      "metadata": {
        "id": "MLEDsEp1f_Rk"
      },
      "source": [
        ""
      ],
      "execution_count": null,
      "outputs": []
    },
    {
      "cell_type": "code",
      "metadata": {
        "id": "NhMdbU1Pf_Rk",
        "outputId": "4f32c397-aed0-46b1-bfc8-0ba41926d377"
      },
      "source": [
        "df.head()"
      ],
      "execution_count": null,
      "outputs": [
        {
          "output_type": "execute_result",
          "data": {
            "text/html": [
              "<div>\n",
              "<style scoped>\n",
              "    .dataframe tbody tr th:only-of-type {\n",
              "        vertical-align: middle;\n",
              "    }\n",
              "\n",
              "    .dataframe tbody tr th {\n",
              "        vertical-align: top;\n",
              "    }\n",
              "\n",
              "    .dataframe thead th {\n",
              "        text-align: right;\n",
              "    }\n",
              "</style>\n",
              "<table border=\"1\" class=\"dataframe\">\n",
              "  <thead>\n",
              "    <tr style=\"text-align: right;\">\n",
              "      <th></th>\n",
              "      <th>emotion</th>\n",
              "      <th>usage</th>\n",
              "      <th>pixels</th>\n",
              "      <th>landmarks</th>\n",
              "    </tr>\n",
              "  </thead>\n",
              "  <tbody>\n",
              "    <tr>\n",
              "      <th>0</th>\n",
              "      <td>0</td>\n",
              "      <td>Training</td>\n",
              "      <td>[[70, 80, 82, 72, 58, 58, 60, 63, 54, 58, 60, ...</td>\n",
              "      <td>[{'chin': [(-1, 15), (-2, 22), (-2, 28), (-1, ...</td>\n",
              "    </tr>\n",
              "    <tr>\n",
              "      <th>1</th>\n",
              "      <td>0</td>\n",
              "      <td>Training</td>\n",
              "      <td>[[151, 150, 147, 155, 148, 133, 111, 140, 170,...</td>\n",
              "      <td>[{'chin': [(5, 25), (6, 29), (7, 33), (9, 37),...</td>\n",
              "    </tr>\n",
              "    <tr>\n",
              "      <th>2</th>\n",
              "      <td>2</td>\n",
              "      <td>Training</td>\n",
              "      <td>[[231, 212, 156, 164, 174, 138, 161, 173, 182,...</td>\n",
              "      <td>[{'chin': [(7, 13), (5, 17), (4, 22), (3, 27),...</td>\n",
              "    </tr>\n",
              "    <tr>\n",
              "      <th>3</th>\n",
              "      <td>4</td>\n",
              "      <td>Training</td>\n",
              "      <td>[[24, 32, 36, 30, 32, 23, 19, 20, 30, 41, 21, ...</td>\n",
              "      <td>[]</td>\n",
              "    </tr>\n",
              "    <tr>\n",
              "      <th>4</th>\n",
              "      <td>6</td>\n",
              "      <td>Training</td>\n",
              "      <td>[[4, 0, 0, 0, 0, 0, 0, 0, 0, 0, 0, 0, 3, 15, 2...</td>\n",
              "      <td>[{'chin': [(2, 20), (3, 25), (4, 30), (5, 35),...</td>\n",
              "    </tr>\n",
              "  </tbody>\n",
              "</table>\n",
              "</div>"
            ],
            "text/plain": [
              "   emotion     usage                                             pixels  \\\n",
              "0        0  Training  [[70, 80, 82, 72, 58, 58, 60, 63, 54, 58, 60, ...   \n",
              "1        0  Training  [[151, 150, 147, 155, 148, 133, 111, 140, 170,...   \n",
              "2        2  Training  [[231, 212, 156, 164, 174, 138, 161, 173, 182,...   \n",
              "3        4  Training  [[24, 32, 36, 30, 32, 23, 19, 20, 30, 41, 21, ...   \n",
              "4        6  Training  [[4, 0, 0, 0, 0, 0, 0, 0, 0, 0, 0, 0, 3, 15, 2...   \n",
              "\n",
              "                                           landmarks  \n",
              "0  [{'chin': [(-1, 15), (-2, 22), (-2, 28), (-1, ...  \n",
              "1  [{'chin': [(5, 25), (6, 29), (7, 33), (9, 37),...  \n",
              "2  [{'chin': [(7, 13), (5, 17), (4, 22), (3, 27),...  \n",
              "3                                                 []  \n",
              "4  [{'chin': [(2, 20), (3, 25), (4, 30), (5, 35),...  "
            ]
          },
          "metadata": {
            "tags": []
          },
          "execution_count": 15
        }
      ]
    },
    {
      "cell_type": "code",
      "metadata": {
        "id": "tO4DYDMbf_Rl",
        "outputId": "5acb7ea6-9153-4792-bf4d-0228b0bbe404"
      },
      "source": [
        "\n"
      ],
      "execution_count": null,
      "outputs": [
        {
          "output_type": "execute_result",
          "data": {
            "text/plain": [
              "emotion                                                    0\n",
              " Usage                                              Training\n",
              " pixels    70 80 82 72 58 58 60 63 54 58 60 48 89 115 121...\n",
              "Name: 0, dtype: object"
            ]
          },
          "metadata": {
            "tags": []
          },
          "execution_count": 18
        }
      ]
    },
    {
      "cell_type": "code",
      "metadata": {
        "id": "lSBdcMMMf_Rl"
      },
      "source": [
        "detector = dlib.get_frontal_face_detector()\n",
        "faces = detector(   )"
      ],
      "execution_count": null,
      "outputs": []
    }
  ]
}
